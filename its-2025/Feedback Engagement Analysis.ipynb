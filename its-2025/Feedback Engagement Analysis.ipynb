{
 "cells": [
  {
   "attachments": {},
   "cell_type": "markdown",
   "id": "a2a3029c-6c0e-4d3c-a9c3-c7424e1b26fb",
   "metadata": {},
   "source": [
    "This notebook contains Python code for reproducing the results in our paper on using a large language model to provide personalized feedback for open-ended questions:\n",
    "\n",
    "Van Campenhout, R., Dittel, J. S., & Johnson, B. G. (2025). Scaling effective characteristics of ITSs: A preliminary analysis of LLM-based personalized feedback. In *Proceedings of the 21st International Conference on Intelligent Tutoring Systems (ITS 2025)*. ***FINISH REF. https://doi.org/PLACEHOLDER_DOI\n",
    "\n",
    "We are honored to have received the ***[Best Short Paper Award (update link when available)](PLACEHOLDER_LINK) at [ITS 2025](https://iis-international.org/its2025-generative-systems/) for this work. Thank you, ITS! \n",
    "\n",
    "Results are presented in the order they occur, organized by the paper's sections. For each result, an excerpt from the paper is given followed by code to compute the result from the data set provided. Example:\n",
    "\n",
    ">Data were grouped into student-question sessions, which encompass all actions by an individual student on a single question in chronological order. This yielded 5,022 sessions from 29 distinct questions and 198 students.\n",
    "\n",
    "`len( sessions ), sessions.question_id.nunique(), sessions.student_id.nunique()`\n",
    "\n",
    "Please refer to the paper for additional context."
   ]
  },
  {
   "cell_type": "code",
   "execution_count": 1,
   "id": "37b26b3c",
   "metadata": {
    "ExecuteTime": {
     "end_time": "2024-03-03T14:39:38.263313Z",
     "start_time": "2024-03-03T14:39:38.053471Z"
    }
   },
   "outputs": [],
   "source": [
    "import difflib\n",
    "import re\n",
    "\n",
    "import pandas as pd"
   ]
  },
  {
   "cell_type": "markdown",
   "id": "ac3b71e7-2ad0-40b4-becb-22241f67186c",
   "metadata": {},
   "source": [
    "## Read dataset"
   ]
  },
  {
   "cell_type": "markdown",
   "id": "49499cb5-6101-4d10-9348-d8853812660c",
   "metadata": {},
   "source": [
    "Student-question interaction events."
   ]
  },
  {
   "cell_type": "code",
   "execution_count": 2,
   "id": "75271746-3e1a-43f3-8e9f-a2df04fc946e",
   "metadata": {},
   "outputs": [
    {
     "data": {
      "text/html": [
       "<div>\n",
       "<style scoped>\n",
       "    .dataframe tbody tr th:only-of-type {\n",
       "        vertical-align: middle;\n",
       "    }\n",
       "\n",
       "    .dataframe tbody tr th {\n",
       "        vertical-align: top;\n",
       "    }\n",
       "\n",
       "    .dataframe thead th {\n",
       "        text-align: right;\n",
       "    }\n",
       "</style>\n",
       "<table border=\"1\" class=\"dataframe\">\n",
       "  <thead>\n",
       "    <tr style=\"text-align: right;\">\n",
       "      <th></th>\n",
       "      <th>timestamp</th>\n",
       "      <th>question_id</th>\n",
       "      <th>student_id</th>\n",
       "      <th>question</th>\n",
       "      <th>attempt_number</th>\n",
       "      <th>answer</th>\n",
       "      <th>feedback</th>\n",
       "      <th>attempt_category</th>\n",
       "      <th>answer_length</th>\n",
       "    </tr>\n",
       "  </thead>\n",
       "  <tbody>\n",
       "    <tr>\n",
       "      <th>0</th>\n",
       "      <td>2024-09-05 03:46:11</td>\n",
       "      <td>24e529e2a813ed4aa821351099056d480bf90587775de7...</td>\n",
       "      <td>U2EBCW47PRUV2STAUPWC</td>\n",
       "      <td>Explain the difference between the term back r...</td>\n",
       "      <td>1</td>\n",
       "      <td>back region is where social interaction is les...</td>\n",
       "      <td>Your explanation captures the essence of the t...</td>\n",
       "      <td>+</td>\n",
       "      <td>27</td>\n",
       "    </tr>\n",
       "    <tr>\n",
       "      <th>1</th>\n",
       "      <td>2024-09-09 03:56:32</td>\n",
       "      <td>24e529e2a813ed4aa821351099056d480bf90587775de7...</td>\n",
       "      <td>VTK7BEMZCU5U6TAER5P4</td>\n",
       "      <td>Explain the difference between the term back r...</td>\n",
       "      <td>1</td>\n",
       "      <td>back region is when youre not under social pre...</td>\n",
       "      <td>Your explanation captures the essence of the t...</td>\n",
       "      <td>+</td>\n",
       "      <td>16</td>\n",
       "    </tr>\n",
       "    <tr>\n",
       "      <th>2</th>\n",
       "      <td>2024-09-09 04:32:04</td>\n",
       "      <td>24e529e2a813ed4aa821351099056d480bf90587775de7...</td>\n",
       "      <td>G86NKXYBWBGHJVDBTMZU</td>\n",
       "      <td>Explain the difference between the term back r...</td>\n",
       "      <td>1</td>\n",
       "      <td>alvin</td>\n",
       "      <td>OK, no problem. The terms \"back region\" and \"f...</td>\n",
       "      <td>x</td>\n",
       "      <td>1</td>\n",
       "    </tr>\n",
       "    <tr>\n",
       "      <th>3</th>\n",
       "      <td>2024-09-09 16:41:09</td>\n",
       "      <td>24e529e2a813ed4aa821351099056d480bf90587775de7...</td>\n",
       "      <td>PYF5FKB8GYE54YR62UC6</td>\n",
       "      <td>Explain the difference between the term back r...</td>\n",
       "      <td>1</td>\n",
       "      <td>Front region is a behvior where you know you w...</td>\n",
       "      <td>Your explanation captures the essence of the d...</td>\n",
       "      <td>+</td>\n",
       "      <td>41</td>\n",
       "    </tr>\n",
       "    <tr>\n",
       "      <th>4</th>\n",
       "      <td>2024-09-09 21:26:39</td>\n",
       "      <td>24e529e2a813ed4aa821351099056d480bf90587775de7...</td>\n",
       "      <td>7AAVNEMKJZXZ6EGA34QN</td>\n",
       "      <td>Explain the difference between the term back r...</td>\n",
       "      <td>1</td>\n",
       "      <td>The front regioin is a frame in which your pro...</td>\n",
       "      <td>Your explanation is quite accurate and well-ar...</td>\n",
       "      <td>+</td>\n",
       "      <td>59</td>\n",
       "    </tr>\n",
       "  </tbody>\n",
       "</table>\n",
       "</div>"
      ],
      "text/plain": [
       "            timestamp                                        question_id  \\\n",
       "0 2024-09-05 03:46:11  24e529e2a813ed4aa821351099056d480bf90587775de7...   \n",
       "1 2024-09-09 03:56:32  24e529e2a813ed4aa821351099056d480bf90587775de7...   \n",
       "2 2024-09-09 04:32:04  24e529e2a813ed4aa821351099056d480bf90587775de7...   \n",
       "3 2024-09-09 16:41:09  24e529e2a813ed4aa821351099056d480bf90587775de7...   \n",
       "4 2024-09-09 21:26:39  24e529e2a813ed4aa821351099056d480bf90587775de7...   \n",
       "\n",
       "             student_id                                           question  \\\n",
       "0  U2EBCW47PRUV2STAUPWC  Explain the difference between the term back r...   \n",
       "1  VTK7BEMZCU5U6TAER5P4  Explain the difference between the term back r...   \n",
       "2  G86NKXYBWBGHJVDBTMZU  Explain the difference between the term back r...   \n",
       "3  PYF5FKB8GYE54YR62UC6  Explain the difference between the term back r...   \n",
       "4  7AAVNEMKJZXZ6EGA34QN  Explain the difference between the term back r...   \n",
       "\n",
       "   attempt_number                                             answer  \\\n",
       "0               1  back region is where social interaction is les...   \n",
       "1               1  back region is when youre not under social pre...   \n",
       "2               1                                              alvin   \n",
       "3               1  Front region is a behvior where you know you w...   \n",
       "4               1  The front regioin is a frame in which your pro...   \n",
       "\n",
       "                                            feedback attempt_category  \\\n",
       "0  Your explanation captures the essence of the t...                +   \n",
       "1  Your explanation captures the essence of the t...                +   \n",
       "2  OK, no problem. The terms \"back region\" and \"f...                x   \n",
       "3  Your explanation captures the essence of the d...                +   \n",
       "4  Your explanation is quite accurate and well-ar...                +   \n",
       "\n",
       "   answer_length  \n",
       "0             27  \n",
       "1             16  \n",
       "2              1  \n",
       "3             41  \n",
       "4             59  "
      ]
     },
     "execution_count": 2,
     "metadata": {},
     "output_type": "execute_result"
    }
   ],
   "source": [
    "events = pd.read_parquet( 'events.parquet' )\n",
    "events.head()"
   ]
  },
  {
   "cell_type": "markdown",
   "id": "2adb32a0-ed5d-4898-ab82-90924455794d",
   "metadata": {},
   "source": [
    "Student-question sessions."
   ]
  },
  {
   "cell_type": "code",
   "execution_count": 3,
   "id": "7f020ec3-6a8c-4b4b-b18a-317f720b6cdc",
   "metadata": {},
   "outputs": [
    {
     "data": {
      "text/html": [
       "<div>\n",
       "<style scoped>\n",
       "    .dataframe tbody tr th:only-of-type {\n",
       "        vertical-align: middle;\n",
       "    }\n",
       "\n",
       "    .dataframe tbody tr th {\n",
       "        vertical-align: top;\n",
       "    }\n",
       "\n",
       "    .dataframe thead th {\n",
       "        text-align: right;\n",
       "    }\n",
       "</style>\n",
       "<table border=\"1\" class=\"dataframe\">\n",
       "  <thead>\n",
       "    <tr style=\"text-align: right;\">\n",
       "      <th></th>\n",
       "      <th>question_id</th>\n",
       "      <th>student_id</th>\n",
       "      <th>pattern</th>\n",
       "      <th>first_attempt</th>\n",
       "      <th>second_attempt</th>\n",
       "      <th>second_attempt_elapsed</th>\n",
       "      <th>second_attempt_overlap</th>\n",
       "    </tr>\n",
       "  </thead>\n",
       "  <tbody>\n",
       "    <tr>\n",
       "      <th>0</th>\n",
       "      <td>041da273050f1811a3146414b755a91921f8c2f286315a...</td>\n",
       "      <td>2KQPBPGQKYRFKDFKYHA5</td>\n",
       "      <td>+</td>\n",
       "      <td>+</td>\n",
       "      <td>None</td>\n",
       "      <td>NaN</td>\n",
       "      <td>NaN</td>\n",
       "    </tr>\n",
       "    <tr>\n",
       "      <th>1</th>\n",
       "      <td>041da273050f1811a3146414b755a91921f8c2f286315a...</td>\n",
       "      <td>2MQSTPV5RBCZNUTA4TTN</td>\n",
       "      <td>-</td>\n",
       "      <td>-</td>\n",
       "      <td>None</td>\n",
       "      <td>NaN</td>\n",
       "      <td>NaN</td>\n",
       "    </tr>\n",
       "    <tr>\n",
       "      <th>2</th>\n",
       "      <td>041da273050f1811a3146414b755a91921f8c2f286315a...</td>\n",
       "      <td>2T6YX2UQS77MJ8VGNB7N</td>\n",
       "      <td>+</td>\n",
       "      <td>+</td>\n",
       "      <td>None</td>\n",
       "      <td>NaN</td>\n",
       "      <td>NaN</td>\n",
       "    </tr>\n",
       "    <tr>\n",
       "      <th>3</th>\n",
       "      <td>041da273050f1811a3146414b755a91921f8c2f286315a...</td>\n",
       "      <td>2TWHRZM72RTYKHNRYVZF</td>\n",
       "      <td>+</td>\n",
       "      <td>+</td>\n",
       "      <td>None</td>\n",
       "      <td>NaN</td>\n",
       "      <td>NaN</td>\n",
       "    </tr>\n",
       "    <tr>\n",
       "      <th>4</th>\n",
       "      <td>041da273050f1811a3146414b755a91921f8c2f286315a...</td>\n",
       "      <td>3AKC5SVKH3V33KUC6N3B</td>\n",
       "      <td>+</td>\n",
       "      <td>+</td>\n",
       "      <td>None</td>\n",
       "      <td>NaN</td>\n",
       "      <td>NaN</td>\n",
       "    </tr>\n",
       "  </tbody>\n",
       "</table>\n",
       "</div>"
      ],
      "text/plain": [
       "                                         question_id            student_id  \\\n",
       "0  041da273050f1811a3146414b755a91921f8c2f286315a...  2KQPBPGQKYRFKDFKYHA5   \n",
       "1  041da273050f1811a3146414b755a91921f8c2f286315a...  2MQSTPV5RBCZNUTA4TTN   \n",
       "2  041da273050f1811a3146414b755a91921f8c2f286315a...  2T6YX2UQS77MJ8VGNB7N   \n",
       "3  041da273050f1811a3146414b755a91921f8c2f286315a...  2TWHRZM72RTYKHNRYVZF   \n",
       "4  041da273050f1811a3146414b755a91921f8c2f286315a...  3AKC5SVKH3V33KUC6N3B   \n",
       "\n",
       "  pattern first_attempt second_attempt  second_attempt_elapsed  \\\n",
       "0       +             +           None                     NaN   \n",
       "1       -             -           None                     NaN   \n",
       "2       +             +           None                     NaN   \n",
       "3       +             +           None                     NaN   \n",
       "4       +             +           None                     NaN   \n",
       "\n",
       "   second_attempt_overlap  \n",
       "0                     NaN  \n",
       "1                     NaN  \n",
       "2                     NaN  \n",
       "3                     NaN  \n",
       "4                     NaN  "
      ]
     },
     "execution_count": 3,
     "metadata": {},
     "output_type": "execute_result"
    }
   ],
   "source": [
    "sessions = pd.read_parquet( 'sessions.parquet' )\n",
    "sessions.head()"
   ]
  },
  {
   "attachments": {},
   "cell_type": "markdown",
   "id": "de40fed3-0ff7-48ad-83ee-6a9f51ebb0d8",
   "metadata": {},
   "source": [
    "## 2 Methods"
   ]
  },
  {
   "attachments": {},
   "cell_type": "markdown",
   "id": "0d8a2b5a-efb2-4efc-a0d4-b35705d7cf1b",
   "metadata": {},
   "source": [
    "### 2.3 Data Collection and Analysis\n",
    "\n",
    ">This yielded 5,022 sessions from 29 distinct questions and 198 students."
   ]
  },
  {
   "cell_type": "code",
   "execution_count": 4,
   "id": "b256e700-eee9-404c-8d89-292e70236520",
   "metadata": {},
   "outputs": [
    {
     "data": {
      "text/plain": [
       "(5022, 29, 198)"
      ]
     },
     "execution_count": 4,
     "metadata": {},
     "output_type": "execute_result"
    }
   ],
   "source": [
    "len( sessions ), sessions.question_id.nunique(), sessions.student_id.nunique()"
   ]
  },
  {
   "attachments": {},
   "cell_type": "markdown",
   "id": "f0a466b0-a8e8-4d31-9408-94796267e348",
   "metadata": {},
   "source": [
    "### 2.4 Classifying Correctness and Authenticity\n",
    "\n",
    "In the dataset, student answer attempts are classified using shorthand symbols to represent their accuracy and authenticity. Although these symbols (+, -, x) are not used in the paper, they correspond directly to the categories used, defined in the following table:\n",
    "\n",
    "| Category    | Symbol | Description                                                                                             |\n",
    "| ----------- | ------ | ------------------------------------------------------------------------------------------------------- |\n",
    "| Correct     | +      | The response accurately addressed the key distinction between terms.                                    |\n",
    "| Incorrect   | -      | The response did not sufficiently answer the question, despite appearing to be a genuine effort.        |\n",
    "| Non-Genuine | x      | The response did not constitute a legitimate attempt (e.g., random characters, “idk”, irrelevant text). |"
   ]
  },
  {
   "attachments": {},
   "cell_type": "markdown",
   "id": "a5cec660-ded8-447b-a9a6-0664ccd9c2cd",
   "metadata": {},
   "source": [
    "## 3 Results and Discussion"
   ]
  },
  {
   "attachments": {},
   "cell_type": "markdown",
   "id": "bdf679ea-a1fe-477a-a397-b200a1cb495a",
   "metadata": {},
   "source": [
    "### 3.1 Student Answer Length"
   ]
  },
  {
   "attachments": {},
   "cell_type": "markdown",
   "id": "e832946b-3c01-4332-af07-f2ea30d76b10",
   "metadata": {},
   "source": [
    "#### Table 1. Descriptive statistics for student answer length (words) by attempt category."
   ]
  },
  {
   "cell_type": "code",
   "execution_count": 5,
   "id": "4cb2874a-b540-402f-9298-af4700ef0ec7",
   "metadata": {},
   "outputs": [],
   "source": [
    "events[ 'answer_length' ] = events.answer.str.split().apply( len )"
   ]
  },
  {
   "cell_type": "code",
   "execution_count": 6,
   "id": "9420fb26-2517-4f93-a2f4-8c34b728d1a8",
   "metadata": {},
   "outputs": [
    {
     "data": {
      "text/html": [
       "<div>\n",
       "<style scoped>\n",
       "    .dataframe tbody tr th:only-of-type {\n",
       "        vertical-align: middle;\n",
       "    }\n",
       "\n",
       "    .dataframe tbody tr th {\n",
       "        vertical-align: top;\n",
       "    }\n",
       "\n",
       "    .dataframe thead th {\n",
       "        text-align: right;\n",
       "    }\n",
       "</style>\n",
       "<table border=\"1\" class=\"dataframe\">\n",
       "  <thead>\n",
       "    <tr style=\"text-align: right;\">\n",
       "      <th></th>\n",
       "      <th>count</th>\n",
       "      <th>mean</th>\n",
       "      <th>std</th>\n",
       "      <th>min</th>\n",
       "      <th>25%</th>\n",
       "      <th>50%</th>\n",
       "      <th>75%</th>\n",
       "      <th>max</th>\n",
       "    </tr>\n",
       "    <tr>\n",
       "      <th>attempt_category</th>\n",
       "      <th></th>\n",
       "      <th></th>\n",
       "      <th></th>\n",
       "      <th></th>\n",
       "      <th></th>\n",
       "      <th></th>\n",
       "      <th></th>\n",
       "      <th></th>\n",
       "    </tr>\n",
       "  </thead>\n",
       "  <tbody>\n",
       "    <tr>\n",
       "      <th>+</th>\n",
       "      <td>3641.0</td>\n",
       "      <td>35.986542</td>\n",
       "      <td>28.460694</td>\n",
       "      <td>1.0</td>\n",
       "      <td>22.0</td>\n",
       "      <td>29.0</td>\n",
       "      <td>41.0</td>\n",
       "      <td>650.0</td>\n",
       "    </tr>\n",
       "    <tr>\n",
       "      <th>-</th>\n",
       "      <td>1136.0</td>\n",
       "      <td>21.080106</td>\n",
       "      <td>13.659603</td>\n",
       "      <td>1.0</td>\n",
       "      <td>12.0</td>\n",
       "      <td>19.0</td>\n",
       "      <td>27.0</td>\n",
       "      <td>108.0</td>\n",
       "    </tr>\n",
       "    <tr>\n",
       "      <th>x</th>\n",
       "      <td>756.0</td>\n",
       "      <td>7.115079</td>\n",
       "      <td>14.944621</td>\n",
       "      <td>1.0</td>\n",
       "      <td>1.0</td>\n",
       "      <td>1.0</td>\n",
       "      <td>4.0</td>\n",
       "      <td>137.0</td>\n",
       "    </tr>\n",
       "  </tbody>\n",
       "</table>\n",
       "</div>"
      ],
      "text/plain": [
       "                   count       mean        std  min   25%   50%   75%    max\n",
       "attempt_category                                                            \n",
       "+                 3641.0  35.986542  28.460694  1.0  22.0  29.0  41.0  650.0\n",
       "-                 1136.0  21.080106  13.659603  1.0  12.0  19.0  27.0  108.0\n",
       "x                  756.0   7.115079  14.944621  1.0   1.0   1.0   4.0  137.0"
      ]
     },
     "execution_count": 6,
     "metadata": {},
     "output_type": "execute_result"
    }
   ],
   "source": [
    "events.groupby( 'attempt_category' ).answer_length.describe()"
   ]
  },
  {
   "attachments": {},
   "cell_type": "markdown",
   "id": "be939286-98e4-42ec-9709-232ee801235d",
   "metadata": {},
   "source": [
    ">Although individual outliers were observed (e.g., one correct attempt spanned 650 words), fewer than 2% of responses surpassed 100 words."
   ]
  },
  {
   "cell_type": "code",
   "execution_count": 7,
   "id": "bc23f525-01f3-4e8e-9daf-3bf7ea33db9d",
   "metadata": {},
   "outputs": [
    {
     "name": "stdout",
     "output_type": "stream",
     "text": [
      "1.7%\n"
     ]
    }
   ],
   "source": [
    "p = ( events.answer_length > 100 ).mean()\n",
    "print( f'{p:.1%}' )"
   ]
  },
  {
   "attachments": {},
   "cell_type": "markdown",
   "id": "7b61b0c8-d339-464d-a465-b4ef324d45fe",
   "metadata": {},
   "source": [
    "### 3.2 Time Intervals and Answer Overlap"
   ]
  },
  {
   "attachments": {},
   "cell_type": "markdown",
   "id": "27378bae-b39f-4d77-99d8-4c039cc1f98a",
   "metadata": {},
   "source": [
    ">To gain insight into whether LLM feedback contributed to learning, this analysis focuses on cases where the first attempt is incorrect (21.9%) or non-genuine (14.5%)."
   ]
  },
  {
   "cell_type": "code",
   "execution_count": 8,
   "id": "bac8794d-bf8f-4845-8497-1de77685c6c1",
   "metadata": {},
   "outputs": [
    {
     "data": {
      "text/plain": [
       "first_attempt\n",
       "+    63.5%\n",
       "-    21.9%\n",
       "x    14.5%\n",
       "Name: proportion, dtype: object"
      ]
     },
     "execution_count": 8,
     "metadata": {},
     "output_type": "execute_result"
    }
   ],
   "source": [
    "sessions.first_attempt.value_counts( normalize=True ).apply( lambda p: f'{p:.1%}' )"
   ]
  },
  {
   "attachments": {},
   "cell_type": "markdown",
   "id": "9ba61887-98e2-4354-8b92-260a30196e23",
   "metadata": {},
   "source": [
    ">Despite the option for resubmission, only 22.6% of non-correct first attempts had a second attempt, likely due to time, participation credit fulfillment, or perceived sufficiency of the LLM feedback."
   ]
  },
  {
   "cell_type": "code",
   "execution_count": 9,
   "id": "5ae81d7a-9349-48e4-8369-dad4bfe439c6",
   "metadata": {},
   "outputs": [
    {
     "name": "stdout",
     "output_type": "stream",
     "text": [
      "22.6%\n"
     ]
    }
   ],
   "source": [
    "p = sessions[ sessions.first_attempt != '+' ].second_attempt.notna().mean()\n",
    "print( f'{p:.1%}' )"
   ]
  },
  {
   "attachments": {},
   "cell_type": "markdown",
   "id": "8b0cc91b-22bc-4223-b0d7-440b1fc3101b",
   "metadata": {},
   "source": [
    "#### Table 2. Elapsed time (s) between first and second attempts by transition type."
   ]
  },
  {
   "cell_type": "code",
   "execution_count": 10,
   "id": "e8550318-bb8c-4a5a-be37-f7d165c574e3",
   "metadata": {},
   "outputs": [
    {
     "data": {
      "text/html": [
       "<div>\n",
       "<style scoped>\n",
       "    .dataframe tbody tr th:only-of-type {\n",
       "        vertical-align: middle;\n",
       "    }\n",
       "\n",
       "    .dataframe tbody tr th {\n",
       "        vertical-align: top;\n",
       "    }\n",
       "\n",
       "    .dataframe thead th {\n",
       "        text-align: right;\n",
       "    }\n",
       "</style>\n",
       "<table border=\"1\" class=\"dataframe\">\n",
       "  <thead>\n",
       "    <tr style=\"text-align: right;\">\n",
       "      <th></th>\n",
       "      <th></th>\n",
       "      <th>count</th>\n",
       "      <th>mean</th>\n",
       "      <th>std</th>\n",
       "      <th>min</th>\n",
       "      <th>25%</th>\n",
       "      <th>50%</th>\n",
       "      <th>75%</th>\n",
       "      <th>max</th>\n",
       "    </tr>\n",
       "    <tr>\n",
       "      <th>first_attempt</th>\n",
       "      <th>second_attempt</th>\n",
       "      <th></th>\n",
       "      <th></th>\n",
       "      <th></th>\n",
       "      <th></th>\n",
       "      <th></th>\n",
       "      <th></th>\n",
       "      <th></th>\n",
       "      <th></th>\n",
       "    </tr>\n",
       "  </thead>\n",
       "  <tbody>\n",
       "    <tr>\n",
       "      <th rowspan=\"3\" valign=\"top\">-</th>\n",
       "      <th>+</th>\n",
       "      <td>126.0</td>\n",
       "      <td>41.126984</td>\n",
       "      <td>115.030151</td>\n",
       "      <td>8.0</td>\n",
       "      <td>14.0</td>\n",
       "      <td>21.5</td>\n",
       "      <td>35.75</td>\n",
       "      <td>1276.0</td>\n",
       "    </tr>\n",
       "    <tr>\n",
       "      <th>-</th>\n",
       "      <td>16.0</td>\n",
       "      <td>97.562500</td>\n",
       "      <td>91.666765</td>\n",
       "      <td>16.0</td>\n",
       "      <td>43.5</td>\n",
       "      <td>61.5</td>\n",
       "      <td>103.50</td>\n",
       "      <td>338.0</td>\n",
       "    </tr>\n",
       "    <tr>\n",
       "      <th>x</th>\n",
       "      <td>5.0</td>\n",
       "      <td>24.600000</td>\n",
       "      <td>19.667232</td>\n",
       "      <td>7.0</td>\n",
       "      <td>11.0</td>\n",
       "      <td>17.0</td>\n",
       "      <td>33.00</td>\n",
       "      <td>55.0</td>\n",
       "    </tr>\n",
       "    <tr>\n",
       "      <th rowspan=\"3\" valign=\"top\">x</th>\n",
       "      <th>+</th>\n",
       "      <td>235.0</td>\n",
       "      <td>21.821277</td>\n",
       "      <td>26.398531</td>\n",
       "      <td>7.0</td>\n",
       "      <td>11.0</td>\n",
       "      <td>14.0</td>\n",
       "      <td>19.50</td>\n",
       "      <td>298.0</td>\n",
       "    </tr>\n",
       "    <tr>\n",
       "      <th>-</th>\n",
       "      <td>13.0</td>\n",
       "      <td>74.307692</td>\n",
       "      <td>68.723340</td>\n",
       "      <td>10.0</td>\n",
       "      <td>23.0</td>\n",
       "      <td>57.0</td>\n",
       "      <td>94.00</td>\n",
       "      <td>261.0</td>\n",
       "    </tr>\n",
       "    <tr>\n",
       "      <th>x</th>\n",
       "      <td>19.0</td>\n",
       "      <td>15.526316</td>\n",
       "      <td>15.532648</td>\n",
       "      <td>4.0</td>\n",
       "      <td>6.5</td>\n",
       "      <td>8.0</td>\n",
       "      <td>20.50</td>\n",
       "      <td>61.0</td>\n",
       "    </tr>\n",
       "  </tbody>\n",
       "</table>\n",
       "</div>"
      ],
      "text/plain": [
       "                              count       mean         std   min   25%   50%  \\\n",
       "first_attempt second_attempt                                                   \n",
       "-             +               126.0  41.126984  115.030151   8.0  14.0  21.5   \n",
       "              -                16.0  97.562500   91.666765  16.0  43.5  61.5   \n",
       "              x                 5.0  24.600000   19.667232   7.0  11.0  17.0   \n",
       "x             +               235.0  21.821277   26.398531   7.0  11.0  14.0   \n",
       "              -                13.0  74.307692   68.723340  10.0  23.0  57.0   \n",
       "              x                19.0  15.526316   15.532648   4.0   6.5   8.0   \n",
       "\n",
       "                                 75%     max  \n",
       "first_attempt second_attempt                  \n",
       "-             +                35.75  1276.0  \n",
       "              -               103.50   338.0  \n",
       "              x                33.00    55.0  \n",
       "x             +                19.50   298.0  \n",
       "              -                94.00   261.0  \n",
       "              x                20.50    61.0  "
      ]
     },
     "execution_count": 10,
     "metadata": {},
     "output_type": "execute_result"
    }
   ],
   "source": [
    "sessions[ sessions.first_attempt != '+' ].groupby( [ 'first_attempt', 'second_attempt' ] ).second_attempt_elapsed.describe()"
   ]
  },
  {
   "attachments": {},
   "cell_type": "markdown",
   "id": "6ce70289-3e9b-44c3-a272-bf4c16992816",
   "metadata": {},
   "source": [
    "#### Table 3. Overlap ratio between LLM feedback and second attempt by transition type."
   ]
  },
  {
   "cell_type": "code",
   "execution_count": 11,
   "id": "6c9d5ad8-cac2-49d5-affa-4aa38027c53d",
   "metadata": {},
   "outputs": [],
   "source": [
    "def preprocess_text( text ):\n",
    "    \"\"\"\n",
    "    Lowercases text, removes punctuation but keeps letters/digits, and normalizes spacing.\n",
    "    Returns a cleaned string suitable for token-level comparison.\n",
    "    \"\"\"\n",
    "    text = text.lower()\n",
    "    # Remove punctuation/special characters (but keep letters a-z, digits 0-9, and whitespace)\n",
    "    text = re.sub( r'[^a-z0-9\\s]', '', text )\n",
    "    # Normalize multiple spaces/tabs/newlines into a single space\n",
    "    text = ' '.join( text.split() )\n",
    "\n",
    "    return text\n",
    "\n",
    "def token_based_difflib_ratio( a, b ):\n",
    "    \"\"\"\n",
    "    Returns a float in [0.0, 1.0] indicating how similar two texts are,\n",
    "    based on token-level difflib (order-sensitive).\n",
    "    \"\"\"\n",
    "    a_tokens = preprocess_text( a ).split()\n",
    "    b_tokens = preprocess_text( b ).split()\n",
    "    # Create a SequenceMatcher on the token lists\n",
    "    matcher = difflib.SequenceMatcher( None, a_tokens, b_tokens )\n",
    "\n",
    "    return matcher.ratio()"
   ]
  },
  {
   "cell_type": "code",
   "execution_count": 12,
   "id": "a7ab628d-e4c1-41ef-a777-d2d6fca94349",
   "metadata": {},
   "outputs": [],
   "source": [
    "for ( question_id, student_id ), session_events in events.groupby( [ 'question_id', 'student_id' ] ):\n",
    "    # Only want multi-attempt sessions\n",
    "    if len( session_events ) == 1:\n",
    "        continue\n",
    "    e1 = session_events.iloc[ 0 ]\n",
    "    e2 = session_events.iloc[ 1 ]\n",
    "    # Compute overlap between first answer's feedback and second answer\n",
    "    similarity = token_based_difflib_ratio( e1.feedback, e2.answer )\n",
    "    sessions.loc[ ( sessions.question_id == question_id ) & ( sessions.student_id == student_id ), 'second_attempt_overlap' ] = similarity"
   ]
  },
  {
   "cell_type": "code",
   "execution_count": 13,
   "id": "a353230b-deae-4957-a694-8cd6e93f3bbf",
   "metadata": {},
   "outputs": [
    {
     "data": {
      "text/html": [
       "<div>\n",
       "<style scoped>\n",
       "    .dataframe tbody tr th:only-of-type {\n",
       "        vertical-align: middle;\n",
       "    }\n",
       "\n",
       "    .dataframe tbody tr th {\n",
       "        vertical-align: top;\n",
       "    }\n",
       "\n",
       "    .dataframe thead th {\n",
       "        text-align: right;\n",
       "    }\n",
       "</style>\n",
       "<table border=\"1\" class=\"dataframe\">\n",
       "  <thead>\n",
       "    <tr style=\"text-align: right;\">\n",
       "      <th></th>\n",
       "      <th></th>\n",
       "      <th>count</th>\n",
       "      <th>mean</th>\n",
       "      <th>std</th>\n",
       "      <th>min</th>\n",
       "      <th>25%</th>\n",
       "      <th>50%</th>\n",
       "      <th>75%</th>\n",
       "      <th>max</th>\n",
       "    </tr>\n",
       "    <tr>\n",
       "      <th>first_attempt</th>\n",
       "      <th>second_attempt</th>\n",
       "      <th></th>\n",
       "      <th></th>\n",
       "      <th></th>\n",
       "      <th></th>\n",
       "      <th></th>\n",
       "      <th></th>\n",
       "      <th></th>\n",
       "      <th></th>\n",
       "    </tr>\n",
       "  </thead>\n",
       "  <tbody>\n",
       "    <tr>\n",
       "      <th rowspan=\"3\" valign=\"top\">-</th>\n",
       "      <th>+</th>\n",
       "      <td>126.0</td>\n",
       "      <td>0.658</td>\n",
       "      <td>0.263</td>\n",
       "      <td>0.082</td>\n",
       "      <td>0.492</td>\n",
       "      <td>0.745</td>\n",
       "      <td>0.867</td>\n",
       "      <td>1.000</td>\n",
       "    </tr>\n",
       "    <tr>\n",
       "      <th>-</th>\n",
       "      <td>16.0</td>\n",
       "      <td>0.191</td>\n",
       "      <td>0.093</td>\n",
       "      <td>0.031</td>\n",
       "      <td>0.144</td>\n",
       "      <td>0.204</td>\n",
       "      <td>0.225</td>\n",
       "      <td>0.390</td>\n",
       "    </tr>\n",
       "    <tr>\n",
       "      <th>x</th>\n",
       "      <td>5.0</td>\n",
       "      <td>0.062</td>\n",
       "      <td>0.091</td>\n",
       "      <td>0.000</td>\n",
       "      <td>0.000</td>\n",
       "      <td>0.000</td>\n",
       "      <td>0.105</td>\n",
       "      <td>0.203</td>\n",
       "    </tr>\n",
       "    <tr>\n",
       "      <th rowspan=\"3\" valign=\"top\">x</th>\n",
       "      <th>+</th>\n",
       "      <td>235.0</td>\n",
       "      <td>0.796</td>\n",
       "      <td>0.168</td>\n",
       "      <td>0.179</td>\n",
       "      <td>0.714</td>\n",
       "      <td>0.819</td>\n",
       "      <td>0.946</td>\n",
       "      <td>1.000</td>\n",
       "    </tr>\n",
       "    <tr>\n",
       "      <th>-</th>\n",
       "      <td>13.0</td>\n",
       "      <td>0.319</td>\n",
       "      <td>0.177</td>\n",
       "      <td>0.111</td>\n",
       "      <td>0.224</td>\n",
       "      <td>0.277</td>\n",
       "      <td>0.378</td>\n",
       "      <td>0.717</td>\n",
       "    </tr>\n",
       "    <tr>\n",
       "      <th>x</th>\n",
       "      <td>19.0</td>\n",
       "      <td>0.125</td>\n",
       "      <td>0.264</td>\n",
       "      <td>0.000</td>\n",
       "      <td>0.000</td>\n",
       "      <td>0.026</td>\n",
       "      <td>0.076</td>\n",
       "      <td>0.964</td>\n",
       "    </tr>\n",
       "  </tbody>\n",
       "</table>\n",
       "</div>"
      ],
      "text/plain": [
       "                              count   mean    std    min    25%    50%    75%  \\\n",
       "first_attempt second_attempt                                                    \n",
       "-             +               126.0  0.658  0.263  0.082  0.492  0.745  0.867   \n",
       "              -                16.0  0.191  0.093  0.031  0.144  0.204  0.225   \n",
       "              x                 5.0  0.062  0.091  0.000  0.000  0.000  0.105   \n",
       "x             +               235.0  0.796  0.168  0.179  0.714  0.819  0.946   \n",
       "              -                13.0  0.319  0.177  0.111  0.224  0.277  0.378   \n",
       "              x                19.0  0.125  0.264  0.000  0.000  0.026  0.076   \n",
       "\n",
       "                                max  \n",
       "first_attempt second_attempt         \n",
       "-             +               1.000  \n",
       "              -               0.390  \n",
       "              x               0.203  \n",
       "x             +               1.000  \n",
       "              -               0.717  \n",
       "              x               0.964  "
      ]
     },
     "execution_count": 13,
     "metadata": {},
     "output_type": "execute_result"
    }
   ],
   "source": [
    "sessions[ sessions.first_attempt != '+' ].groupby( [ 'first_attempt', 'second_attempt' ] ).second_attempt_overlap.describe().round( 3 )"
   ]
  },
  {
   "cell_type": "markdown",
   "id": "bb050dfc-1f36-459b-be77-a3c27de0db79",
   "metadata": {},
   "source": [
    "#### Example 1: High overlap (.901)"
   ]
  },
  {
   "cell_type": "code",
   "execution_count": 14,
   "id": "fb478cd6-bbe3-4401-a15c-875e8d49a589",
   "metadata": {},
   "outputs": [],
   "source": [
    "question_id = '041da273050f1811a3146414b755a91921f8c2f286315a66fee61ccdd6659823'\n",
    "student_id = 'A66TTXA3ER8PS4JGXDGN'\n",
    "session_events = events[ ( events.question_id == question_id ) & ( events.student_id == student_id ) ]\n",
    "e1 = session_events.iloc[ 0 ]\n",
    "e2 = session_events.iloc[ 1 ]\n",
    "overlap = sessions.loc[ ( sessions.question_id == question_id ) & ( sessions.student_id == student_id ), 'second_attempt_overlap' ].values[ 0 ]"
   ]
  },
  {
   "cell_type": "code",
   "execution_count": 15,
   "id": "844d0b7e-2ad1-4397-8d97-493e020218d0",
   "metadata": {},
   "outputs": [
    {
     "name": "stdout",
     "output_type": "stream",
     "text": [
      "Question:  Explain the difference between the term social roles and task roles:\n",
      "\n",
      "Attempt 1: ?\n",
      "\n",
      "Feedback:  To explain the difference between social roles and task roles, focus on their functions within a group. Social roles are about fostering positive relationships and communication among group members. Task roles are centered on achieving the group's goals and ensuring productivity. If your explanation captures these distinctions, then it's accurate.\n",
      "\n",
      "Attempt 2: To explain the difference between social roles and task roles, focus on their functions within a group. Social roles are about fostering positive relationships and communication among group members. Task roles are centered on achieving the group's goals and ensuring productivity.\n",
      "\n",
      "Overlap:   0.901\n"
     ]
    }
   ],
   "source": [
    "print( 'Question: ', e1.question )\n",
    "print()\n",
    "print( 'Attempt 1:', e1.answer )\n",
    "print()\n",
    "print( 'Feedback: ', e1.feedback )\n",
    "print()\n",
    "print( 'Attempt 2:', e2.answer )\n",
    "print()\n",
    "print( 'Overlap:  ', f'{overlap:.3f}' )"
   ]
  },
  {
   "cell_type": "markdown",
   "id": "5b3a1cb5-640c-4ecb-a44b-05290ad08b1a",
   "metadata": {},
   "source": [
    "#### Example 2: Moderate overlap (.480)"
   ]
  },
  {
   "cell_type": "code",
   "execution_count": 16,
   "id": "b6d1ed7b-d9ae-433b-b26c-8056c1c43fcc",
   "metadata": {},
   "outputs": [],
   "source": [
    "question_id = '8dc066de81854984b1f742f6b2eb56f79774fdd128c85724585702b9d6659823'\n",
    "student_id = '3NCGEU8UAVTRUP3CRV67'\n",
    "session_events = events[ ( events.question_id == question_id ) & ( events.student_id == student_id ) ]\n",
    "e1 = session_events.iloc[ 0 ]\n",
    "e2 = session_events.iloc[ 1 ]\n",
    "overlap = sessions.loc[ ( sessions.question_id == question_id ) & ( sessions.student_id == student_id ), 'second_attempt_overlap' ].values[ 0 ]"
   ]
  },
  {
   "cell_type": "code",
   "execution_count": 17,
   "id": "53d30a65-4982-43a8-acd0-a37bbf430e34",
   "metadata": {},
   "outputs": [
    {
     "name": "stdout",
     "output_type": "stream",
     "text": [
      "Question:  Explain the difference between the term asynchronous communication and constitutive approach to communication:\n",
      "\n",
      "Attempt 1: Asynchronous communication is communication that involves a prolonged delay between message and response.\n",
      "\n",
      "Feedback:  The explanation provided only addresses one aspect of asynchronous communication. It doesn't compare or contrast it with the constitutive approach to communication. Asynchronous communication focuses on timing, while the constitutive approach emphasizes how communication can create new realities or agreements. It's important to address both terms to explain their differences accurately.\n",
      "\n",
      "Attempt 2: Asynchronous communication focuses on the delayed timing between message and response, while the constitutive approach emphasizes how communication can create new realities or agreements.\n",
      "\n",
      "Overlap:   0.480\n"
     ]
    }
   ],
   "source": [
    "print( 'Question: ', e1.question )\n",
    "print()\n",
    "print( 'Attempt 1:', e1.answer )\n",
    "print()\n",
    "print( 'Feedback: ', e1.feedback )\n",
    "print()\n",
    "print( 'Attempt 2:', e2.answer )\n",
    "print()\n",
    "print( 'Overlap:  ', f'{overlap:.3f}' )"
   ]
  },
  {
   "cell_type": "markdown",
   "id": "521177e0-7735-4fde-9c02-dd7ae9213215",
   "metadata": {},
   "source": [
    "#### Example 3: Low overlap (.171)"
   ]
  },
  {
   "cell_type": "code",
   "execution_count": 18,
   "id": "18252399-0e3d-4e2b-99a4-148c94d9dde1",
   "metadata": {},
   "outputs": [],
   "source": [
    "question_id = '32cd310ec4f80a042de7f0ba5c637d770a2ce2ddb92a904a2df6494cd6659823'\n",
    "student_id = '8QNCMHMZ5XW7CW5NAZCN'\n",
    "session_events = events[ ( events.question_id == question_id ) & ( events.student_id == student_id ) ]\n",
    "e1 = session_events.iloc[ 0 ]\n",
    "e2 = session_events.iloc[ 1 ]\n",
    "overlap = sessions.loc[ ( sessions.question_id == question_id ) & ( sessions.student_id == student_id ), 'second_attempt_overlap' ].values[ 0 ]"
   ]
  },
  {
   "cell_type": "code",
   "execution_count": 19,
   "id": "916d5f92-b123-4dd2-a00a-c36b433d8554",
   "metadata": {},
   "outputs": [
    {
     "name": "stdout",
     "output_type": "stream",
     "text": [
      "Question:  Explain the difference between the term constitutive approach to communication and cross-cultural communication:\n",
      "\n",
      "Attempt 1: Constitutive approach is listening to what they have to say and cross-cultural communication is when they choose multiple ways to communite\n",
      "\n",
      "Feedback:  The explanation provided doesn't accurately capture the essence of the two terms. The constitutive approach to communication focuses on how communication can create new realities or entities. Cross-cultural communication involves understanding and comparing communication styles across different cultures. It's important to focus on these core aspects when distinguishing between the two.\n",
      "\n",
      "Attempt 2: Constitutive approach is the creation of new communitites and entites verus cross-cultural is the comparsion of different cultures communication.\n",
      "\n",
      "Overlap:   0.171\n"
     ]
    }
   ],
   "source": [
    "print( 'Question: ', e1.question )\n",
    "print()\n",
    "print( 'Attempt 1:', e1.answer )\n",
    "print()\n",
    "print( 'Feedback: ', e1.feedback )\n",
    "print()\n",
    "print( 'Attempt 2:', e2.answer )\n",
    "print()\n",
    "print( 'Overlap:  ', f'{overlap:.3f}' )"
   ]
  }
 ],
 "metadata": {
  "kernelspec": {
   "display_name": "Python 3 (ipykernel)",
   "language": "python",
   "name": "python3"
  },
  "language_info": {
   "codemirror_mode": {
    "name": "ipython",
    "version": 3
   },
   "file_extension": ".py",
   "mimetype": "text/x-python",
   "name": "python",
   "nbconvert_exporter": "python",
   "pygments_lexer": "ipython3",
   "version": "3.9.13"
  }
 },
 "nbformat": 4,
 "nbformat_minor": 5
}
