{
 "cells": [
  {
   "cell_type": "code",
   "execution_count": 1,
   "metadata": {
    "ExecuteTime": {
     "end_time": "2021-06-20T21:04:06.028204Z",
     "start_time": "2021-06-20T21:04:05.661187Z"
    }
   },
   "outputs": [],
   "source": [
    "import pandas as pd"
   ]
  },
  {
   "cell_type": "code",
   "execution_count": 2,
   "metadata": {
    "ExecuteTime": {
     "end_time": "2021-06-20T21:04:06.622933Z",
     "start_time": "2021-06-20T21:04:06.030543Z"
    }
   },
   "outputs": [],
   "source": [
    "%load_ext rpy2.ipython"
   ]
  },
  {
   "cell_type": "markdown",
   "metadata": {},
   "source": [
    "# Question Difficulty Analysis"
   ]
  },
  {
   "cell_type": "markdown",
   "metadata": {},
   "source": [
    "## Select course and load data set"
   ]
  },
  {
   "cell_type": "code",
   "execution_count": 3,
   "metadata": {
    "ExecuteTime": {
     "end_time": "2021-06-20T21:04:06.648748Z",
     "start_time": "2021-06-20T21:04:06.626398Z"
    }
   },
   "outputs": [],
   "source": [
    "data_dir = '/Users/benny/data/L@S_2021'\n",
    "course = 'microbiology'"
   ]
  },
  {
   "cell_type": "code",
   "execution_count": 4,
   "metadata": {
    "ExecuteTime": {
     "end_time": "2021-06-20T21:04:06.731311Z",
     "start_time": "2021-06-20T21:04:06.651499Z"
    }
   },
   "outputs": [],
   "source": [
    "data_set_filename = f'difficulty_{course}.txt'\n",
    "data_set = pd.read_csv( f'{data_dir}/{data_set_filename}', sep='\\t' )"
   ]
  },
  {
   "cell_type": "code",
   "execution_count": 5,
   "metadata": {
    "ExecuteTime": {
     "end_time": "2021-06-20T21:04:06.780730Z",
     "start_time": "2021-06-20T21:04:06.733452Z"
    }
   },
   "outputs": [
    {
     "data": {
      "text/html": [
       "<div>\n",
       "<style scoped>\n",
       "    .dataframe tbody tr th:only-of-type {\n",
       "        vertical-align: middle;\n",
       "    }\n",
       "\n",
       "    .dataframe tbody tr th {\n",
       "        vertical-align: top;\n",
       "    }\n",
       "\n",
       "    .dataframe thead th {\n",
       "        text-align: right;\n",
       "    }\n",
       "</style>\n",
       "<table border=\"1\" class=\"dataframe\">\n",
       "  <thead>\n",
       "    <tr style=\"text-align: right;\">\n",
       "      <th></th>\n",
       "      <th>student</th>\n",
       "      <th>question</th>\n",
       "      <th>course_page_number</th>\n",
       "      <th>unit_page_number</th>\n",
       "      <th>module_page_number</th>\n",
       "      <th>page_question_number</th>\n",
       "      <th>question_type</th>\n",
       "      <th>answered</th>\n",
       "      <th>correct</th>\n",
       "    </tr>\n",
       "  </thead>\n",
       "  <tbody>\n",
       "    <tr>\n",
       "      <th>0</th>\n",
       "      <td>5f48174400b3a42fe2c6e6a5</td>\n",
       "      <td>5f2e4e5de3a4d9432b135e55</td>\n",
       "      <td>18</td>\n",
       "      <td>16</td>\n",
       "      <td>5</td>\n",
       "      <td>0</td>\n",
       "      <td>AG_FITB</td>\n",
       "      <td>1</td>\n",
       "      <td>1</td>\n",
       "    </tr>\n",
       "    <tr>\n",
       "      <th>1</th>\n",
       "      <td>5f48174400b3a42fe2c6e6a5</td>\n",
       "      <td>5f2e4e5de3a4d9432b135e77</td>\n",
       "      <td>18</td>\n",
       "      <td>16</td>\n",
       "      <td>5</td>\n",
       "      <td>1</td>\n",
       "      <td>AG_FITB</td>\n",
       "      <td>1</td>\n",
       "      <td>0</td>\n",
       "    </tr>\n",
       "    <tr>\n",
       "      <th>2</th>\n",
       "      <td>5f48174400b3a42fe2c6e6a5</td>\n",
       "      <td>5f2e4e5de3a4d9432b135e9d</td>\n",
       "      <td>18</td>\n",
       "      <td>16</td>\n",
       "      <td>5</td>\n",
       "      <td>2</td>\n",
       "      <td>AG_Matching</td>\n",
       "      <td>1</td>\n",
       "      <td>1</td>\n",
       "    </tr>\n",
       "    <tr>\n",
       "      <th>3</th>\n",
       "      <td>5f48174400b3a42fe2c6e6a5</td>\n",
       "      <td>5f2e4e5de3a4d9432b135ead</td>\n",
       "      <td>18</td>\n",
       "      <td>16</td>\n",
       "      <td>5</td>\n",
       "      <td>3</td>\n",
       "      <td>AG_Matching</td>\n",
       "      <td>1</td>\n",
       "      <td>1</td>\n",
       "    </tr>\n",
       "    <tr>\n",
       "      <th>4</th>\n",
       "      <td>5f48174400b3a42fe2c6e6a5</td>\n",
       "      <td>5f2e4e5de3a4d9432b135ebd</td>\n",
       "      <td>18</td>\n",
       "      <td>16</td>\n",
       "      <td>5</td>\n",
       "      <td>4</td>\n",
       "      <td>AG_Matching</td>\n",
       "      <td>1</td>\n",
       "      <td>1</td>\n",
       "    </tr>\n",
       "    <tr>\n",
       "      <th>...</th>\n",
       "      <td>...</td>\n",
       "      <td>...</td>\n",
       "      <td>...</td>\n",
       "      <td>...</td>\n",
       "      <td>...</td>\n",
       "      <td>...</td>\n",
       "      <td>...</td>\n",
       "      <td>...</td>\n",
       "      <td>...</td>\n",
       "    </tr>\n",
       "    <tr>\n",
       "      <th>42109</th>\n",
       "      <td>600e1302e16a3a3764c6730a</td>\n",
       "      <td>5f2e4e80e3a4d9432b13acb0</td>\n",
       "      <td>31</td>\n",
       "      <td>29</td>\n",
       "      <td>9</td>\n",
       "      <td>1</td>\n",
       "      <td>AG_Matching</td>\n",
       "      <td>1</td>\n",
       "      <td>1</td>\n",
       "    </tr>\n",
       "    <tr>\n",
       "      <th>42110</th>\n",
       "      <td>600e1302e16a3a3764c6730a</td>\n",
       "      <td>5f2e4e80e3a4d9432b13acc4</td>\n",
       "      <td>31</td>\n",
       "      <td>29</td>\n",
       "      <td>9</td>\n",
       "      <td>2</td>\n",
       "      <td>AG_Matching</td>\n",
       "      <td>1</td>\n",
       "      <td>1</td>\n",
       "    </tr>\n",
       "    <tr>\n",
       "      <th>42111</th>\n",
       "      <td>600e1302e16a3a3764c6730a</td>\n",
       "      <td>5f2e4e80e3a4d9432b13acee</td>\n",
       "      <td>31</td>\n",
       "      <td>29</td>\n",
       "      <td>9</td>\n",
       "      <td>3</td>\n",
       "      <td>AG_Matching</td>\n",
       "      <td>1</td>\n",
       "      <td>1</td>\n",
       "    </tr>\n",
       "    <tr>\n",
       "      <th>42112</th>\n",
       "      <td>600e1302e16a3a3764c6730a</td>\n",
       "      <td>5f2e4e80e3a4d9432b13ad02</td>\n",
       "      <td>31</td>\n",
       "      <td>29</td>\n",
       "      <td>9</td>\n",
       "      <td>4</td>\n",
       "      <td>AG_Matching</td>\n",
       "      <td>1</td>\n",
       "      <td>1</td>\n",
       "    </tr>\n",
       "    <tr>\n",
       "      <th>42113</th>\n",
       "      <td>600e1302e16a3a3764c6730a</td>\n",
       "      <td>5f2e4e80e3a4d9432b13ad16</td>\n",
       "      <td>31</td>\n",
       "      <td>29</td>\n",
       "      <td>9</td>\n",
       "      <td>5</td>\n",
       "      <td>AG_Matching</td>\n",
       "      <td>1</td>\n",
       "      <td>1</td>\n",
       "    </tr>\n",
       "  </tbody>\n",
       "</table>\n",
       "<p>42114 rows × 9 columns</p>\n",
       "</div>"
      ],
      "text/plain": [
       "                        student                  question  course_page_number  \\\n",
       "0      5f48174400b3a42fe2c6e6a5  5f2e4e5de3a4d9432b135e55                  18   \n",
       "1      5f48174400b3a42fe2c6e6a5  5f2e4e5de3a4d9432b135e77                  18   \n",
       "2      5f48174400b3a42fe2c6e6a5  5f2e4e5de3a4d9432b135e9d                  18   \n",
       "3      5f48174400b3a42fe2c6e6a5  5f2e4e5de3a4d9432b135ead                  18   \n",
       "4      5f48174400b3a42fe2c6e6a5  5f2e4e5de3a4d9432b135ebd                  18   \n",
       "...                         ...                       ...                 ...   \n",
       "42109  600e1302e16a3a3764c6730a  5f2e4e80e3a4d9432b13acb0                  31   \n",
       "42110  600e1302e16a3a3764c6730a  5f2e4e80e3a4d9432b13acc4                  31   \n",
       "42111  600e1302e16a3a3764c6730a  5f2e4e80e3a4d9432b13acee                  31   \n",
       "42112  600e1302e16a3a3764c6730a  5f2e4e80e3a4d9432b13ad02                  31   \n",
       "42113  600e1302e16a3a3764c6730a  5f2e4e80e3a4d9432b13ad16                  31   \n",
       "\n",
       "       unit_page_number  module_page_number  page_question_number  \\\n",
       "0                    16                   5                     0   \n",
       "1                    16                   5                     1   \n",
       "2                    16                   5                     2   \n",
       "3                    16                   5                     3   \n",
       "4                    16                   5                     4   \n",
       "...                 ...                 ...                   ...   \n",
       "42109                29                   9                     1   \n",
       "42110                29                   9                     2   \n",
       "42111                29                   9                     3   \n",
       "42112                29                   9                     4   \n",
       "42113                29                   9                     5   \n",
       "\n",
       "      question_type  answered  correct  \n",
       "0           AG_FITB         1        1  \n",
       "1           AG_FITB         1        0  \n",
       "2       AG_Matching         1        1  \n",
       "3       AG_Matching         1        1  \n",
       "4       AG_Matching         1        1  \n",
       "...             ...       ...      ...  \n",
       "42109   AG_Matching         1        1  \n",
       "42110   AG_Matching         1        1  \n",
       "42111   AG_Matching         1        1  \n",
       "42112   AG_Matching         1        1  \n",
       "42113   AG_Matching         1        1  \n",
       "\n",
       "[42114 rows x 9 columns]"
      ]
     },
     "execution_count": 5,
     "metadata": {},
     "output_type": "execute_result"
    }
   ],
   "source": [
    "data_set"
   ]
  },
  {
   "cell_type": "markdown",
   "metadata": {},
   "source": [
    "## Mean difficulty"
   ]
  },
  {
   "cell_type": "code",
   "execution_count": 6,
   "metadata": {
    "ExecuteTime": {
     "end_time": "2021-06-20T21:04:06.825302Z",
     "start_time": "2021-06-20T21:04:06.782852Z"
    }
   },
   "outputs": [
    {
     "data": {
      "text/html": [
       "<div>\n",
       "<style scoped>\n",
       "    .dataframe tbody tr th:only-of-type {\n",
       "        vertical-align: middle;\n",
       "    }\n",
       "\n",
       "    .dataframe tbody tr th {\n",
       "        vertical-align: top;\n",
       "    }\n",
       "\n",
       "    .dataframe thead th {\n",
       "        text-align: right;\n",
       "    }\n",
       "</style>\n",
       "<table border=\"1\" class=\"dataframe\">\n",
       "  <thead>\n",
       "    <tr style=\"text-align: right;\">\n",
       "      <th></th>\n",
       "      <th>course_page_number</th>\n",
       "      <th>unit_page_number</th>\n",
       "      <th>module_page_number</th>\n",
       "      <th>page_question_number</th>\n",
       "      <th>answered</th>\n",
       "      <th>correct</th>\n",
       "    </tr>\n",
       "    <tr>\n",
       "      <th>question_type</th>\n",
       "      <th></th>\n",
       "      <th></th>\n",
       "      <th></th>\n",
       "      <th></th>\n",
       "      <th></th>\n",
       "      <th></th>\n",
       "    </tr>\n",
       "  </thead>\n",
       "  <tbody>\n",
       "    <tr>\n",
       "      <th>AG_Matching</th>\n",
       "      <td>49.850411</td>\n",
       "      <td>47.850411</td>\n",
       "      <td>4.066796</td>\n",
       "      <td>4.719844</td>\n",
       "      <td>1.0</td>\n",
       "      <td>0.905174</td>\n",
       "    </tr>\n",
       "    <tr>\n",
       "      <th>HA_MC</th>\n",
       "      <td>40.181774</td>\n",
       "      <td>38.181774</td>\n",
       "      <td>4.168040</td>\n",
       "      <td>8.653471</td>\n",
       "      <td>1.0</td>\n",
       "      <td>0.695912</td>\n",
       "    </tr>\n",
       "    <tr>\n",
       "      <th>HA_Pulldown</th>\n",
       "      <td>53.014690</td>\n",
       "      <td>51.014690</td>\n",
       "      <td>5.681357</td>\n",
       "      <td>19.152778</td>\n",
       "      <td>1.0</td>\n",
       "      <td>0.682425</td>\n",
       "    </tr>\n",
       "    <tr>\n",
       "      <th>AG_FITB</th>\n",
       "      <td>44.206619</td>\n",
       "      <td>42.206619</td>\n",
       "      <td>4.347276</td>\n",
       "      <td>4.846932</td>\n",
       "      <td>1.0</td>\n",
       "      <td>0.627902</td>\n",
       "    </tr>\n",
       "    <tr>\n",
       "      <th>HA_DnD_Image</th>\n",
       "      <td>54.000000</td>\n",
       "      <td>52.000000</td>\n",
       "      <td>6.000000</td>\n",
       "      <td>26.542411</td>\n",
       "      <td>1.0</td>\n",
       "      <td>0.618304</td>\n",
       "    </tr>\n",
       "    <tr>\n",
       "      <th>HA_DnD_Table</th>\n",
       "      <td>42.097065</td>\n",
       "      <td>40.097065</td>\n",
       "      <td>7.880361</td>\n",
       "      <td>11.828442</td>\n",
       "      <td>1.0</td>\n",
       "      <td>0.566591</td>\n",
       "    </tr>\n",
       "    <tr>\n",
       "      <th>HA_MCMS</th>\n",
       "      <td>42.247438</td>\n",
       "      <td>40.247438</td>\n",
       "      <td>5.026354</td>\n",
       "      <td>10.193265</td>\n",
       "      <td>1.0</td>\n",
       "      <td>0.433382</td>\n",
       "    </tr>\n",
       "  </tbody>\n",
       "</table>\n",
       "</div>"
      ],
      "text/plain": [
       "               course_page_number  unit_page_number  module_page_number  \\\n",
       "question_type                                                             \n",
       "AG_Matching             49.850411         47.850411            4.066796   \n",
       "HA_MC                   40.181774         38.181774            4.168040   \n",
       "HA_Pulldown             53.014690         51.014690            5.681357   \n",
       "AG_FITB                 44.206619         42.206619            4.347276   \n",
       "HA_DnD_Image            54.000000         52.000000            6.000000   \n",
       "HA_DnD_Table            42.097065         40.097065            7.880361   \n",
       "HA_MCMS                 42.247438         40.247438            5.026354   \n",
       "\n",
       "               page_question_number  answered   correct  \n",
       "question_type                                            \n",
       "AG_Matching                4.719844       1.0  0.905174  \n",
       "HA_MC                      8.653471       1.0  0.695912  \n",
       "HA_Pulldown               19.152778       1.0  0.682425  \n",
       "AG_FITB                    4.846932       1.0  0.627902  \n",
       "HA_DnD_Image              26.542411       1.0  0.618304  \n",
       "HA_DnD_Table              11.828442       1.0  0.566591  \n",
       "HA_MCMS                   10.193265       1.0  0.433382  "
      ]
     },
     "execution_count": 6,
     "metadata": {},
     "output_type": "execute_result"
    }
   ],
   "source": [
    "data_set.groupby( 'question_type' ).mean().sort_values( by='correct', ascending=False )"
   ]
  },
  {
   "cell_type": "markdown",
   "metadata": {},
   "source": [
    "## Regression model"
   ]
  },
  {
   "cell_type": "code",
   "execution_count": 7,
   "metadata": {
    "ExecuteTime": {
     "end_time": "2021-06-20T21:04:08.153089Z",
     "start_time": "2021-06-20T21:04:06.827467Z"
    }
   },
   "outputs": [
    {
     "name": "stderr",
     "output_type": "stream",
     "text": [
      "R[write to console]: Loading required package: Matrix\n",
      "\n"
     ]
    }
   ],
   "source": [
    "%%R\n",
    "library( lme4 )"
   ]
  },
  {
   "cell_type": "markdown",
   "metadata": {},
   "source": [
    "Standardize the continuous variables."
   ]
  },
  {
   "cell_type": "code",
   "execution_count": 8,
   "metadata": {
    "ExecuteTime": {
     "end_time": "2021-06-20T21:04:08.184711Z",
     "start_time": "2021-06-20T21:04:08.157071Z"
    }
   },
   "outputs": [],
   "source": [
    "for col in [ 'course_page_number', 'unit_page_number', 'module_page_number', 'page_question_number' ]:\n",
    "    data_set[ col ] = ( data_set[ col ] - data_set[ col ].mean() ) / data_set[ col ].std()"
   ]
  },
  {
   "cell_type": "code",
   "execution_count": 9,
   "metadata": {
    "ExecuteTime": {
     "end_time": "2021-06-20T21:04:08.578288Z",
     "start_time": "2021-06-20T21:04:08.187139Z"
    }
   },
   "outputs": [],
   "source": [
    "data_set.to_csv( '/tmp/to_r.csv', index=False )"
   ]
  },
  {
   "cell_type": "code",
   "execution_count": 10,
   "metadata": {
    "ExecuteTime": {
     "end_time": "2021-06-20T21:04:08.855895Z",
     "start_time": "2021-06-20T21:04:08.580396Z"
    }
   },
   "outputs": [],
   "source": [
    "%%R\n",
    "df <- read.csv( '/tmp/to_r.csv' )"
   ]
  },
  {
   "cell_type": "code",
   "execution_count": 11,
   "metadata": {
    "ExecuteTime": {
     "end_time": "2021-06-20T21:05:41.642751Z",
     "start_time": "2021-06-20T21:04:08.857881Z"
    }
   },
   "outputs": [
    {
     "name": "stderr",
     "output_type": "stream",
     "text": [
      "R[write to console]: fixed-effect model matrix is rank deficient so dropping 1 column / coefficient\n",
      "\n"
     ]
    },
    {
     "name": "stdout",
     "output_type": "stream",
     "text": [
      "Generalized linear mixed model fit by maximum likelihood (Laplace\n",
      "  Approximation) [glmerMod]\n",
      " Family: binomial  ( logit )\n",
      "Formula: \n",
      "correct ~ course_page_number + unit_page_number + module_page_number +  \n",
      "    page_question_number + question_type + (1 | student) + (1 |      question)\n",
      "   Data: df\n",
      "Control: glmerControl(optimizer = \"bobyqa\", optCtrl = list(maxfun = 20000))\n",
      "\n",
      "     AIC      BIC   logLik deviance df.resid \n",
      " 37093.6  37197.4 -18534.8  37069.6    42102 \n",
      "\n",
      "Scaled residuals: \n",
      "    Min      1Q  Median      3Q     Max \n",
      "-7.9940  0.0762  0.2615  0.4930  5.9037 \n",
      "\n",
      "Random effects:\n",
      " Groups   Name        Variance Std.Dev.\n",
      " question (Intercept) 1.5298   1.2369  \n",
      " student  (Intercept) 0.2855   0.5343  \n",
      "Number of obs: 42114, groups:  question, 1023; student, 96\n",
      "\n",
      "Fixed effects:\n",
      "                          Estimate Std. Error z value Pr(>|z|)    \n",
      "(Intercept)                0.51101    0.14096   3.625 0.000289 ***\n",
      "course_page_number        -0.13900    0.04155  -3.345 0.000822 ***\n",
      "module_page_number         0.11666    0.04702   2.481 0.013108 *  \n",
      "page_question_number      -0.03306    0.04584  -0.721 0.470711    \n",
      "question_typeAG_Matching   2.36246    0.15124  15.621  < 2e-16 ***\n",
      "question_typeHA_DnD_Image -0.13529    0.36013  -0.376 0.707161    \n",
      "question_typeHA_DnD_Table -0.52399    0.35749  -1.466 0.142721    \n",
      "question_typeHA_MC         0.49785    0.14492   3.435 0.000592 ***\n",
      "question_typeHA_MCMS      -1.07272    0.32913  -3.259 0.001117 ** \n",
      "question_typeHA_Pulldown   0.65244    0.19803   3.295 0.000986 ***\n",
      "---\n",
      "Signif. codes:  0 ‘***’ 0.001 ‘**’ 0.01 ‘*’ 0.05 ‘.’ 0.1 ‘ ’ 1\n",
      "\n",
      "Correlation of Fixed Effects:\n",
      "            (Intr) crs_p_ mdl_p_ pg_qs_ q_AG_M q_HA_DD_I q_HA_DD_T qs_HA_MC\n",
      "crs_pg_nmbr -0.060                                                         \n",
      "mdl_pg_nmbr -0.053  0.031                                                  \n",
      "pg_qstn_nmb  0.142 -0.173 -0.237                                           \n",
      "qstn_tyAG_M -0.752 -0.062  0.051  0.008                                    \n",
      "qst_HA_DD_I -0.362  0.041 -0.008 -0.344  0.287                             \n",
      "qst_HA_DD_T -0.321 -0.009 -0.174 -0.058  0.286  0.163                      \n",
      "qstn_tHA_MC -0.814  0.060  0.029 -0.178  0.731  0.369     0.322            \n",
      "qst_HA_MCMS -0.359  0.016 -0.048 -0.105  0.317  0.178     0.157     0.356  \n",
      "qstn_tyHA_P -0.633 -0.012 -0.076 -0.464  0.530  0.405     0.293     0.643  \n",
      "            q_HA_MCM\n",
      "crs_pg_nmbr         \n",
      "mdl_pg_nmbr         \n",
      "pg_qstn_nmb         \n",
      "qstn_tyAG_M         \n",
      "qst_HA_DD_I         \n",
      "qst_HA_DD_T         \n",
      "qstn_tHA_MC         \n",
      "qst_HA_MCMS         \n",
      "qstn_tyHA_P  0.309  \n",
      "fit warnings:\n",
      "fixed-effect model matrix is rank deficient so dropping 1 column / coefficient\n"
     ]
    }
   ],
   "source": [
    "%%R\n",
    "lme.model <- glmer( correct ~ course_page_number + unit_page_number + module_page_number + page_question_number + question_type\n",
    "                            + (1|student) + (1|question), family=binomial(link=logit),\n",
    "                    data=df,\n",
    "                    control=glmerControl( optimizer=\"bobyqa\", optCtrl=list(maxfun=2e4) ) )\n",
    "summary( lme.model )"
   ]
  },
  {
   "cell_type": "code",
   "execution_count": null,
   "metadata": {},
   "outputs": [],
   "source": []
  }
 ],
 "metadata": {
  "kernelspec": {
   "display_name": "Python 3",
   "language": "python",
   "name": "python3"
  },
  "language_info": {
   "codemirror_mode": {
    "name": "ipython",
    "version": 3
   },
   "file_extension": ".py",
   "mimetype": "text/x-python",
   "name": "python",
   "nbconvert_exporter": "python",
   "pygments_lexer": "ipython3",
   "version": "3.7.8"
  },
  "varInspector": {
   "cols": {
    "lenName": 16,
    "lenType": 16,
    "lenVar": 40
   },
   "kernels_config": {
    "python": {
     "delete_cmd_postfix": "",
     "delete_cmd_prefix": "del ",
     "library": "var_list.py",
     "varRefreshCmd": "print(var_dic_list())"
    },
    "r": {
     "delete_cmd_postfix": ") ",
     "delete_cmd_prefix": "rm(",
     "library": "var_list.r",
     "varRefreshCmd": "cat(var_dic_list()) "
    }
   },
   "types_to_exclude": [
    "module",
    "function",
    "builtin_function_or_method",
    "instance",
    "_Feature"
   ],
   "window_display": false
  }
 },
 "nbformat": 4,
 "nbformat_minor": 1
}
