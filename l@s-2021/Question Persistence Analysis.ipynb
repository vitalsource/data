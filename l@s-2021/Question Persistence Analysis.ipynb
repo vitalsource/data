{
 "cells": [
  {
   "cell_type": "code",
   "execution_count": 1,
   "metadata": {
    "ExecuteTime": {
     "end_time": "2021-06-20T21:04:12.281514Z",
     "start_time": "2021-06-20T21:04:11.869984Z"
    }
   },
   "outputs": [],
   "source": [
    "import pandas as pd"
   ]
  },
  {
   "cell_type": "code",
   "execution_count": 2,
   "metadata": {
    "ExecuteTime": {
     "end_time": "2021-06-20T21:04:12.932614Z",
     "start_time": "2021-06-20T21:04:12.284427Z"
    }
   },
   "outputs": [],
   "source": [
    "%load_ext rpy2.ipython"
   ]
  },
  {
   "cell_type": "markdown",
   "metadata": {},
   "source": [
    "# Question Persistence Analysis"
   ]
  },
  {
   "cell_type": "markdown",
   "metadata": {},
   "source": [
    "## Select course and load data set"
   ]
  },
  {
   "cell_type": "code",
   "execution_count": 3,
   "metadata": {
    "ExecuteTime": {
     "end_time": "2021-06-20T21:04:12.958055Z",
     "start_time": "2021-06-20T21:04:12.936375Z"
    }
   },
   "outputs": [],
   "source": [
    "data_dir = '/Users/benny/data/L@S_2021'\n",
    "course = 'microbiology'"
   ]
  },
  {
   "cell_type": "code",
   "execution_count": 4,
   "metadata": {
    "ExecuteTime": {
     "end_time": "2021-06-20T21:04:13.002126Z",
     "start_time": "2021-06-20T21:04:12.961141Z"
    }
   },
   "outputs": [],
   "source": [
    "data_set_filename = f'persistence_{course}.txt'\n",
    "data_set = pd.read_csv( f'{data_dir}/{data_set_filename}', sep='\\t' )"
   ]
  },
  {
   "cell_type": "code",
   "execution_count": 5,
   "metadata": {
    "ExecuteTime": {
     "end_time": "2021-06-20T21:04:13.050283Z",
     "start_time": "2021-06-20T21:04:13.004682Z"
    }
   },
   "outputs": [
    {
     "data": {
      "text/html": [
       "<div>\n",
       "<style scoped>\n",
       "    .dataframe tbody tr th:only-of-type {\n",
       "        vertical-align: middle;\n",
       "    }\n",
       "\n",
       "    .dataframe tbody tr th {\n",
       "        vertical-align: top;\n",
       "    }\n",
       "\n",
       "    .dataframe thead th {\n",
       "        text-align: right;\n",
       "    }\n",
       "</style>\n",
       "<table border=\"1\" class=\"dataframe\">\n",
       "  <thead>\n",
       "    <tr style=\"text-align: right;\">\n",
       "      <th></th>\n",
       "      <th>student</th>\n",
       "      <th>question</th>\n",
       "      <th>course_page_number</th>\n",
       "      <th>unit_page_number</th>\n",
       "      <th>module_page_number</th>\n",
       "      <th>page_question_number</th>\n",
       "      <th>question_type</th>\n",
       "      <th>answered</th>\n",
       "      <th>correct</th>\n",
       "      <th>persisted</th>\n",
       "    </tr>\n",
       "  </thead>\n",
       "  <tbody>\n",
       "    <tr>\n",
       "      <th>0</th>\n",
       "      <td>5f48174400b3a42fe2c6e6a5</td>\n",
       "      <td>5f2e4e5de3a4d9432b135e77</td>\n",
       "      <td>18</td>\n",
       "      <td>16</td>\n",
       "      <td>5</td>\n",
       "      <td>1</td>\n",
       "      <td>AG_FITB</td>\n",
       "      <td>1</td>\n",
       "      <td>0</td>\n",
       "      <td>1</td>\n",
       "    </tr>\n",
       "    <tr>\n",
       "      <th>1</th>\n",
       "      <td>5f48174400b3a42fe2c6e6a5</td>\n",
       "      <td>5f2e4e5de3a4d9432b135f91</td>\n",
       "      <td>18</td>\n",
       "      <td>16</td>\n",
       "      <td>5</td>\n",
       "      <td>12</td>\n",
       "      <td>AG_Matching</td>\n",
       "      <td>1</td>\n",
       "      <td>0</td>\n",
       "      <td>1</td>\n",
       "    </tr>\n",
       "    <tr>\n",
       "      <th>2</th>\n",
       "      <td>5f48174400b3a42fe2c6e6a5</td>\n",
       "      <td>5f2e4e5de3a4d9432b135fa1</td>\n",
       "      <td>18</td>\n",
       "      <td>16</td>\n",
       "      <td>5</td>\n",
       "      <td>13</td>\n",
       "      <td>AG_Matching</td>\n",
       "      <td>1</td>\n",
       "      <td>0</td>\n",
       "      <td>1</td>\n",
       "    </tr>\n",
       "    <tr>\n",
       "      <th>3</th>\n",
       "      <td>5f48174400b3a42fe2c6e6a5</td>\n",
       "      <td>5f2e4e5de3a4d9432b135fd3</td>\n",
       "      <td>18</td>\n",
       "      <td>16</td>\n",
       "      <td>5</td>\n",
       "      <td>15</td>\n",
       "      <td>AG_FITB</td>\n",
       "      <td>1</td>\n",
       "      <td>0</td>\n",
       "      <td>1</td>\n",
       "    </tr>\n",
       "    <tr>\n",
       "      <th>4</th>\n",
       "      <td>5f48174400b3a42fe2c6e6a5</td>\n",
       "      <td>5f2e4e2ee3a4d9432b12f574</td>\n",
       "      <td>15</td>\n",
       "      <td>13</td>\n",
       "      <td>2</td>\n",
       "      <td>8</td>\n",
       "      <td>HA_MC</td>\n",
       "      <td>1</td>\n",
       "      <td>0</td>\n",
       "      <td>1</td>\n",
       "    </tr>\n",
       "    <tr>\n",
       "      <th>...</th>\n",
       "      <td>...</td>\n",
       "      <td>...</td>\n",
       "      <td>...</td>\n",
       "      <td>...</td>\n",
       "      <td>...</td>\n",
       "      <td>...</td>\n",
       "      <td>...</td>\n",
       "      <td>...</td>\n",
       "      <td>...</td>\n",
       "      <td>...</td>\n",
       "    </tr>\n",
       "    <tr>\n",
       "      <th>10515</th>\n",
       "      <td>600e1302e16a3a3764c6730a</td>\n",
       "      <td>5f2e4e89e3a4d9432b13bf88</td>\n",
       "      <td>28</td>\n",
       "      <td>26</td>\n",
       "      <td>6</td>\n",
       "      <td>6</td>\n",
       "      <td>AG_FITB</td>\n",
       "      <td>1</td>\n",
       "      <td>0</td>\n",
       "      <td>1</td>\n",
       "    </tr>\n",
       "    <tr>\n",
       "      <th>10516</th>\n",
       "      <td>600e1302e16a3a3764c6730a</td>\n",
       "      <td>5f2e4e8ae3a4d9432b13bfae</td>\n",
       "      <td>28</td>\n",
       "      <td>26</td>\n",
       "      <td>6</td>\n",
       "      <td>7</td>\n",
       "      <td>AG_Matching</td>\n",
       "      <td>1</td>\n",
       "      <td>0</td>\n",
       "      <td>1</td>\n",
       "    </tr>\n",
       "    <tr>\n",
       "      <th>10517</th>\n",
       "      <td>600e1302e16a3a3764c6730a</td>\n",
       "      <td>5f2e4e8ae3a4d9432b13bfce</td>\n",
       "      <td>28</td>\n",
       "      <td>26</td>\n",
       "      <td>6</td>\n",
       "      <td>9</td>\n",
       "      <td>AG_Matching</td>\n",
       "      <td>1</td>\n",
       "      <td>0</td>\n",
       "      <td>1</td>\n",
       "    </tr>\n",
       "    <tr>\n",
       "      <th>10518</th>\n",
       "      <td>600e1302e16a3a3764c6730a</td>\n",
       "      <td>5f2e4e8ae3a4d9432b13bff0</td>\n",
       "      <td>28</td>\n",
       "      <td>26</td>\n",
       "      <td>6</td>\n",
       "      <td>10</td>\n",
       "      <td>AG_FITB</td>\n",
       "      <td>1</td>\n",
       "      <td>0</td>\n",
       "      <td>1</td>\n",
       "    </tr>\n",
       "    <tr>\n",
       "      <th>10519</th>\n",
       "      <td>600e1302e16a3a3764c6730a</td>\n",
       "      <td>5f2e4e6ce3a4d9432b138130</td>\n",
       "      <td>29</td>\n",
       "      <td>27</td>\n",
       "      <td>7</td>\n",
       "      <td>9</td>\n",
       "      <td>HA_MC</td>\n",
       "      <td>1</td>\n",
       "      <td>0</td>\n",
       "      <td>1</td>\n",
       "    </tr>\n",
       "  </tbody>\n",
       "</table>\n",
       "<p>10520 rows × 10 columns</p>\n",
       "</div>"
      ],
      "text/plain": [
       "                        student                  question  course_page_number  \\\n",
       "0      5f48174400b3a42fe2c6e6a5  5f2e4e5de3a4d9432b135e77                  18   \n",
       "1      5f48174400b3a42fe2c6e6a5  5f2e4e5de3a4d9432b135f91                  18   \n",
       "2      5f48174400b3a42fe2c6e6a5  5f2e4e5de3a4d9432b135fa1                  18   \n",
       "3      5f48174400b3a42fe2c6e6a5  5f2e4e5de3a4d9432b135fd3                  18   \n",
       "4      5f48174400b3a42fe2c6e6a5  5f2e4e2ee3a4d9432b12f574                  15   \n",
       "...                         ...                       ...                 ...   \n",
       "10515  600e1302e16a3a3764c6730a  5f2e4e89e3a4d9432b13bf88                  28   \n",
       "10516  600e1302e16a3a3764c6730a  5f2e4e8ae3a4d9432b13bfae                  28   \n",
       "10517  600e1302e16a3a3764c6730a  5f2e4e8ae3a4d9432b13bfce                  28   \n",
       "10518  600e1302e16a3a3764c6730a  5f2e4e8ae3a4d9432b13bff0                  28   \n",
       "10519  600e1302e16a3a3764c6730a  5f2e4e6ce3a4d9432b138130                  29   \n",
       "\n",
       "       unit_page_number  module_page_number  page_question_number  \\\n",
       "0                    16                   5                     1   \n",
       "1                    16                   5                    12   \n",
       "2                    16                   5                    13   \n",
       "3                    16                   5                    15   \n",
       "4                    13                   2                     8   \n",
       "...                 ...                 ...                   ...   \n",
       "10515                26                   6                     6   \n",
       "10516                26                   6                     7   \n",
       "10517                26                   6                     9   \n",
       "10518                26                   6                    10   \n",
       "10519                27                   7                     9   \n",
       "\n",
       "      question_type  answered  correct  persisted  \n",
       "0           AG_FITB         1        0          1  \n",
       "1       AG_Matching         1        0          1  \n",
       "2       AG_Matching         1        0          1  \n",
       "3           AG_FITB         1        0          1  \n",
       "4             HA_MC         1        0          1  \n",
       "...             ...       ...      ...        ...  \n",
       "10515       AG_FITB         1        0          1  \n",
       "10516   AG_Matching         1        0          1  \n",
       "10517   AG_Matching         1        0          1  \n",
       "10518       AG_FITB         1        0          1  \n",
       "10519         HA_MC         1        0          1  \n",
       "\n",
       "[10520 rows x 10 columns]"
      ]
     },
     "execution_count": 5,
     "metadata": {},
     "output_type": "execute_result"
    }
   ],
   "source": [
    "data_set"
   ]
  },
  {
   "cell_type": "markdown",
   "metadata": {},
   "source": [
    "## Mean persistence"
   ]
  },
  {
   "cell_type": "code",
   "execution_count": 6,
   "metadata": {
    "ExecuteTime": {
     "end_time": "2021-06-20T21:04:13.090651Z",
     "start_time": "2021-06-20T21:04:13.052471Z"
    }
   },
   "outputs": [
    {
     "data": {
      "text/html": [
       "<div>\n",
       "<style scoped>\n",
       "    .dataframe tbody tr th:only-of-type {\n",
       "        vertical-align: middle;\n",
       "    }\n",
       "\n",
       "    .dataframe tbody tr th {\n",
       "        vertical-align: top;\n",
       "    }\n",
       "\n",
       "    .dataframe thead th {\n",
       "        text-align: right;\n",
       "    }\n",
       "</style>\n",
       "<table border=\"1\" class=\"dataframe\">\n",
       "  <thead>\n",
       "    <tr style=\"text-align: right;\">\n",
       "      <th></th>\n",
       "      <th>course_page_number</th>\n",
       "      <th>unit_page_number</th>\n",
       "      <th>module_page_number</th>\n",
       "      <th>page_question_number</th>\n",
       "      <th>answered</th>\n",
       "      <th>correct</th>\n",
       "      <th>persisted</th>\n",
       "    </tr>\n",
       "    <tr>\n",
       "      <th>question_type</th>\n",
       "      <th></th>\n",
       "      <th></th>\n",
       "      <th></th>\n",
       "      <th></th>\n",
       "      <th></th>\n",
       "      <th></th>\n",
       "      <th></th>\n",
       "    </tr>\n",
       "  </thead>\n",
       "  <tbody>\n",
       "    <tr>\n",
       "      <th>AG_Matching</th>\n",
       "      <td>52.348024</td>\n",
       "      <td>50.348024</td>\n",
       "      <td>4.025076</td>\n",
       "      <td>5.040274</td>\n",
       "      <td>1.0</td>\n",
       "      <td>0.0</td>\n",
       "      <td>0.993161</td>\n",
       "    </tr>\n",
       "    <tr>\n",
       "      <th>HA_MC</th>\n",
       "      <td>42.458378</td>\n",
       "      <td>40.458378</td>\n",
       "      <td>4.044456</td>\n",
       "      <td>8.753631</td>\n",
       "      <td>1.0</td>\n",
       "      <td>0.0</td>\n",
       "      <td>0.988665</td>\n",
       "    </tr>\n",
       "    <tr>\n",
       "      <th>HA_MCMS</th>\n",
       "      <td>44.894057</td>\n",
       "      <td>42.894057</td>\n",
       "      <td>4.555556</td>\n",
       "      <td>10.036176</td>\n",
       "      <td>1.0</td>\n",
       "      <td>0.0</td>\n",
       "      <td>0.984496</td>\n",
       "    </tr>\n",
       "    <tr>\n",
       "      <th>HA_Pulldown</th>\n",
       "      <td>52.822540</td>\n",
       "      <td>50.822540</td>\n",
       "      <td>5.043734</td>\n",
       "      <td>17.245585</td>\n",
       "      <td>1.0</td>\n",
       "      <td>0.0</td>\n",
       "      <td>0.978974</td>\n",
       "    </tr>\n",
       "    <tr>\n",
       "      <th>AG_FITB</th>\n",
       "      <td>43.203830</td>\n",
       "      <td>41.203830</td>\n",
       "      <td>4.451513</td>\n",
       "      <td>4.966028</td>\n",
       "      <td>1.0</td>\n",
       "      <td>0.0</td>\n",
       "      <td>0.900556</td>\n",
       "    </tr>\n",
       "    <tr>\n",
       "      <th>HA_DnD_Image</th>\n",
       "      <td>54.000000</td>\n",
       "      <td>52.000000</td>\n",
       "      <td>6.000000</td>\n",
       "      <td>32.877193</td>\n",
       "      <td>1.0</td>\n",
       "      <td>0.0</td>\n",
       "      <td>0.830409</td>\n",
       "    </tr>\n",
       "    <tr>\n",
       "      <th>HA_DnD_Table</th>\n",
       "      <td>39.890625</td>\n",
       "      <td>37.890625</td>\n",
       "      <td>7.218750</td>\n",
       "      <td>14.895833</td>\n",
       "      <td>1.0</td>\n",
       "      <td>0.0</td>\n",
       "      <td>0.791667</td>\n",
       "    </tr>\n",
       "  </tbody>\n",
       "</table>\n",
       "</div>"
      ],
      "text/plain": [
       "               course_page_number  unit_page_number  module_page_number  \\\n",
       "question_type                                                             \n",
       "AG_Matching             52.348024         50.348024            4.025076   \n",
       "HA_MC                   42.458378         40.458378            4.044456   \n",
       "HA_MCMS                 44.894057         42.894057            4.555556   \n",
       "HA_Pulldown             52.822540         50.822540            5.043734   \n",
       "AG_FITB                 43.203830         41.203830            4.451513   \n",
       "HA_DnD_Image            54.000000         52.000000            6.000000   \n",
       "HA_DnD_Table            39.890625         37.890625            7.218750   \n",
       "\n",
       "               page_question_number  answered  correct  persisted  \n",
       "question_type                                                      \n",
       "AG_Matching                5.040274       1.0      0.0   0.993161  \n",
       "HA_MC                      8.753631       1.0      0.0   0.988665  \n",
       "HA_MCMS                   10.036176       1.0      0.0   0.984496  \n",
       "HA_Pulldown               17.245585       1.0      0.0   0.978974  \n",
       "AG_FITB                    4.966028       1.0      0.0   0.900556  \n",
       "HA_DnD_Image              32.877193       1.0      0.0   0.830409  \n",
       "HA_DnD_Table              14.895833       1.0      0.0   0.791667  "
      ]
     },
     "execution_count": 6,
     "metadata": {},
     "output_type": "execute_result"
    }
   ],
   "source": [
    "data_set.groupby( 'question_type' ).mean().sort_values( by='persisted', ascending=False )"
   ]
  },
  {
   "cell_type": "markdown",
   "metadata": {},
   "source": [
    "## Regression model"
   ]
  },
  {
   "cell_type": "code",
   "execution_count": 7,
   "metadata": {
    "ExecuteTime": {
     "end_time": "2021-06-20T21:04:14.494649Z",
     "start_time": "2021-06-20T21:04:13.093390Z"
    }
   },
   "outputs": [
    {
     "name": "stderr",
     "output_type": "stream",
     "text": [
      "R[write to console]: Loading required package: Matrix\n",
      "\n"
     ]
    }
   ],
   "source": [
    "%%R\n",
    "library( lme4 )"
   ]
  },
  {
   "cell_type": "markdown",
   "metadata": {},
   "source": [
    "Standardize the continuous variables."
   ]
  },
  {
   "cell_type": "code",
   "execution_count": 8,
   "metadata": {
    "ExecuteTime": {
     "end_time": "2021-06-20T21:04:14.529238Z",
     "start_time": "2021-06-20T21:04:14.500384Z"
    }
   },
   "outputs": [],
   "source": [
    "for col in [ 'course_page_number', 'unit_page_number', 'module_page_number', 'page_question_number' ]:\n",
    "    data_set[ col ] = ( data_set[ col ] - data_set[ col ].mean() ) / data_set[ col ].std()"
   ]
  },
  {
   "cell_type": "code",
   "execution_count": 9,
   "metadata": {
    "ExecuteTime": {
     "end_time": "2021-06-20T21:04:14.659072Z",
     "start_time": "2021-06-20T21:04:14.532404Z"
    }
   },
   "outputs": [],
   "source": [
    "data_set.to_csv( '/tmp/to_r.csv', index=False )"
   ]
  },
  {
   "cell_type": "code",
   "execution_count": 10,
   "metadata": {
    "ExecuteTime": {
     "end_time": "2021-06-20T21:04:14.760658Z",
     "start_time": "2021-06-20T21:04:14.661438Z"
    }
   },
   "outputs": [],
   "source": [
    "%%R\n",
    "df <- read.csv( '/tmp/to_r.csv' )"
   ]
  },
  {
   "cell_type": "code",
   "execution_count": 11,
   "metadata": {
    "ExecuteTime": {
     "end_time": "2021-06-20T21:04:33.150422Z",
     "start_time": "2021-06-20T21:04:14.763287Z"
    }
   },
   "outputs": [
    {
     "name": "stderr",
     "output_type": "stream",
     "text": [
      "R[write to console]: fixed-effect model matrix is rank deficient so dropping 1 column / coefficient\n",
      "\n"
     ]
    },
    {
     "name": "stdout",
     "output_type": "stream",
     "text": [
      "Generalized linear mixed model fit by maximum likelihood (Laplace\n",
      "  Approximation) [glmerMod]\n",
      " Family: binomial  ( logit )\n",
      "Formula: \n",
      "persisted ~ course_page_number + unit_page_number + module_page_number +  \n",
      "    page_question_number + question_type + (1 | student) + (1 |      question)\n",
      "   Data: df\n",
      "Control: glmerControl(optimizer = \"bobyqa\", optCtrl = list(maxfun = 20000))\n",
      "\n",
      "     AIC      BIC   logLik deviance df.resid \n",
      "  2113.0   2200.1  -1044.5   2089.0    10508 \n",
      "\n",
      "Scaled residuals: \n",
      "     Min       1Q   Median       3Q      Max \n",
      "-18.0105   0.0339   0.0646   0.1151   2.3184 \n",
      "\n",
      "Random effects:\n",
      " Groups   Name        Variance Std.Dev.\n",
      " question (Intercept) 0.7445   0.8629  \n",
      " student  (Intercept) 3.1275   1.7685  \n",
      "Number of obs: 10520, groups:  question, 942; student, 96\n",
      "\n",
      "Fixed effects:\n",
      "                          Estimate Std. Error z value Pr(>|z|)    \n",
      "(Intercept)                3.09502    0.27184  11.386  < 2e-16 ***\n",
      "course_page_number         0.17915    0.09617   1.863   0.0625 .  \n",
      "module_page_number        -0.20473    0.10107  -2.026   0.0428 *  \n",
      "page_question_number      -0.20999    0.09545  -2.200   0.0278 *  \n",
      "question_typeAG_Matching   3.11823    0.39367   7.921 2.36e-15 ***\n",
      "question_typeHA_DnD_Image -0.28029    0.48262  -0.581   0.5614    \n",
      "question_typeHA_DnD_Table -0.65678    0.42162  -1.558   0.1193    \n",
      "question_typeHA_MC         2.73138    0.22908  11.923  < 2e-16 ***\n",
      "question_typeHA_MCMS       2.29695    0.52347   4.388 1.14e-05 ***\n",
      "question_typeHA_Pulldown   2.09732    0.33679   6.227 4.75e-10 ***\n",
      "---\n",
      "Signif. codes:  0 ‘***’ 0.001 ‘**’ 0.01 ‘*’ 0.05 ‘.’ 0.1 ‘ ’ 1\n",
      "\n",
      "Correlation of Fixed Effects:\n",
      "            (Intr) crs_p_ mdl_p_ pg_qs_ q_AG_M q_HA_DD_I q_HA_DD_T qs_HA_MC\n",
      "crs_pg_nmbr  0.029                                                         \n",
      "mdl_pg_nmbr -0.082  0.063                                                  \n",
      "pg_qstn_nmb  0.168 -0.143 -0.192                                           \n",
      "qstn_tyAG_M -0.149  0.002  0.043 -0.037                                    \n",
      "qst_HA_DD_I -0.265  0.022 -0.013 -0.603  0.112                             \n",
      "qst_HA_DD_T -0.201  0.068 -0.248 -0.189  0.126  0.265                      \n",
      "qstn_tHA_MC -0.286  0.140  0.061 -0.253  0.284  0.310     0.279            \n",
      "qst_HA_MCMS -0.141  0.014 -0.061 -0.134  0.111  0.174     0.151     0.224  \n",
      "qstn_tyHA_P -0.265 -0.055 -0.057 -0.474  0.184  0.440     0.294     0.404  \n",
      "            q_HA_MCM\n",
      "crs_pg_nmbr         \n",
      "mdl_pg_nmbr         \n",
      "pg_qstn_nmb         \n",
      "qstn_tyAG_M         \n",
      "qst_HA_DD_I         \n",
      "qst_HA_DD_T         \n",
      "qstn_tHA_MC         \n",
      "qst_HA_MCMS         \n",
      "qstn_tyHA_P  0.205  \n",
      "fit warnings:\n",
      "fixed-effect model matrix is rank deficient so dropping 1 column / coefficient\n"
     ]
    }
   ],
   "source": [
    "%%R\n",
    "lme.model <- glmer( persisted ~ course_page_number + unit_page_number + module_page_number + page_question_number + question_type\n",
    "                              + (1|student) + (1|question), family=binomial(link=logit),\n",
    "                    data=df,\n",
    "                    control=glmerControl( optimizer=\"bobyqa\", optCtrl=list(maxfun=2e4) ) )\n",
    "summary( lme.model )"
   ]
  },
  {
   "cell_type": "code",
   "execution_count": null,
   "metadata": {},
   "outputs": [],
   "source": []
  }
 ],
 "metadata": {
  "kernelspec": {
   "display_name": "Python 3",
   "language": "python",
   "name": "python3"
  },
  "language_info": {
   "codemirror_mode": {
    "name": "ipython",
    "version": 3
   },
   "file_extension": ".py",
   "mimetype": "text/x-python",
   "name": "python",
   "nbconvert_exporter": "python",
   "pygments_lexer": "ipython3",
   "version": "3.7.8"
  },
  "varInspector": {
   "cols": {
    "lenName": 16,
    "lenType": 16,
    "lenVar": 40
   },
   "kernels_config": {
    "python": {
     "delete_cmd_postfix": "",
     "delete_cmd_prefix": "del ",
     "library": "var_list.py",
     "varRefreshCmd": "print(var_dic_list())"
    },
    "r": {
     "delete_cmd_postfix": ") ",
     "delete_cmd_prefix": "rm(",
     "library": "var_list.r",
     "varRefreshCmd": "cat(var_dic_list()) "
    }
   },
   "types_to_exclude": [
    "module",
    "function",
    "builtin_function_or_method",
    "instance",
    "_Feature"
   ],
   "window_display": false
  }
 },
 "nbformat": 4,
 "nbformat_minor": 1
}
