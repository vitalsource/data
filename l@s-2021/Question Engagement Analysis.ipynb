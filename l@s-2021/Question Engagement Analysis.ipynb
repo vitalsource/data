{
 "cells": [
  {
   "cell_type": "code",
   "execution_count": 1,
   "metadata": {
    "ExecuteTime": {
     "end_time": "2021-06-20T21:03:59.754738Z",
     "start_time": "2021-06-20T21:03:59.309537Z"
    }
   },
   "outputs": [],
   "source": [
    "import pandas as pd"
   ]
  },
  {
   "cell_type": "code",
   "execution_count": 2,
   "metadata": {
    "ExecuteTime": {
     "end_time": "2021-06-20T21:04:00.336468Z",
     "start_time": "2021-06-20T21:03:59.756554Z"
    }
   },
   "outputs": [],
   "source": [
    "%load_ext rpy2.ipython"
   ]
  },
  {
   "cell_type": "markdown",
   "metadata": {},
   "source": [
    "# Question Engagement Analysis"
   ]
  },
  {
   "cell_type": "markdown",
   "metadata": {},
   "source": [
    "## Select course and load data set"
   ]
  },
  {
   "cell_type": "code",
   "execution_count": 3,
   "metadata": {
    "ExecuteTime": {
     "end_time": "2021-06-20T21:04:00.354210Z",
     "start_time": "2021-06-20T21:04:00.338969Z"
    }
   },
   "outputs": [],
   "source": [
    "data_dir = '/Users/benny/data/L@S_2021'\n",
    "course = 'microbiology'"
   ]
  },
  {
   "cell_type": "code",
   "execution_count": 4,
   "metadata": {
    "ExecuteTime": {
     "end_time": "2021-06-20T21:04:00.433842Z",
     "start_time": "2021-06-20T21:04:00.356294Z"
    }
   },
   "outputs": [],
   "source": [
    "data_set_filename = f'engagement_{course}.txt'\n",
    "data_set = pd.read_csv( f'{data_dir}/{data_set_filename}', sep='\\t' )"
   ]
  },
  {
   "cell_type": "code",
   "execution_count": 5,
   "metadata": {
    "ExecuteTime": {
     "end_time": "2021-06-20T21:04:00.468504Z",
     "start_time": "2021-06-20T21:04:00.435438Z"
    }
   },
   "outputs": [
    {
     "data": {
      "text/html": [
       "<div>\n",
       "<style scoped>\n",
       "    .dataframe tbody tr th:only-of-type {\n",
       "        vertical-align: middle;\n",
       "    }\n",
       "\n",
       "    .dataframe tbody tr th {\n",
       "        vertical-align: top;\n",
       "    }\n",
       "\n",
       "    .dataframe thead th {\n",
       "        text-align: right;\n",
       "    }\n",
       "</style>\n",
       "<table border=\"1\" class=\"dataframe\">\n",
       "  <thead>\n",
       "    <tr style=\"text-align: right;\">\n",
       "      <th></th>\n",
       "      <th>student</th>\n",
       "      <th>question</th>\n",
       "      <th>course_page_number</th>\n",
       "      <th>unit_page_number</th>\n",
       "      <th>module_page_number</th>\n",
       "      <th>page_question_number</th>\n",
       "      <th>question_type</th>\n",
       "      <th>answered</th>\n",
       "    </tr>\n",
       "  </thead>\n",
       "  <tbody>\n",
       "    <tr>\n",
       "      <th>0</th>\n",
       "      <td>5f48174400b3a42fe2c6e6a5</td>\n",
       "      <td>5f2e4e5de3a4d9432b135e55</td>\n",
       "      <td>18</td>\n",
       "      <td>16</td>\n",
       "      <td>5</td>\n",
       "      <td>0</td>\n",
       "      <td>AG_FITB</td>\n",
       "      <td>1</td>\n",
       "    </tr>\n",
       "    <tr>\n",
       "      <th>1</th>\n",
       "      <td>5f48174400b3a42fe2c6e6a5</td>\n",
       "      <td>5f2e4e5de3a4d9432b135e77</td>\n",
       "      <td>18</td>\n",
       "      <td>16</td>\n",
       "      <td>5</td>\n",
       "      <td>1</td>\n",
       "      <td>AG_FITB</td>\n",
       "      <td>1</td>\n",
       "    </tr>\n",
       "    <tr>\n",
       "      <th>2</th>\n",
       "      <td>5f48174400b3a42fe2c6e6a5</td>\n",
       "      <td>5f2e4e5de3a4d9432b135e9d</td>\n",
       "      <td>18</td>\n",
       "      <td>16</td>\n",
       "      <td>5</td>\n",
       "      <td>2</td>\n",
       "      <td>AG_Matching</td>\n",
       "      <td>1</td>\n",
       "    </tr>\n",
       "    <tr>\n",
       "      <th>3</th>\n",
       "      <td>5f48174400b3a42fe2c6e6a5</td>\n",
       "      <td>5f2e4e5de3a4d9432b135ead</td>\n",
       "      <td>18</td>\n",
       "      <td>16</td>\n",
       "      <td>5</td>\n",
       "      <td>3</td>\n",
       "      <td>AG_Matching</td>\n",
       "      <td>1</td>\n",
       "    </tr>\n",
       "    <tr>\n",
       "      <th>4</th>\n",
       "      <td>5f48174400b3a42fe2c6e6a5</td>\n",
       "      <td>5f2e4e5de3a4d9432b135ebd</td>\n",
       "      <td>18</td>\n",
       "      <td>16</td>\n",
       "      <td>5</td>\n",
       "      <td>4</td>\n",
       "      <td>AG_Matching</td>\n",
       "      <td>1</td>\n",
       "    </tr>\n",
       "    <tr>\n",
       "      <th>...</th>\n",
       "      <td>...</td>\n",
       "      <td>...</td>\n",
       "      <td>...</td>\n",
       "      <td>...</td>\n",
       "      <td>...</td>\n",
       "      <td>...</td>\n",
       "      <td>...</td>\n",
       "      <td>...</td>\n",
       "    </tr>\n",
       "    <tr>\n",
       "      <th>71114</th>\n",
       "      <td>600bfe6a15f61a7c2756c0c9</td>\n",
       "      <td>5f2e4e8ae3a4d9432b13bfce</td>\n",
       "      <td>28</td>\n",
       "      <td>26</td>\n",
       "      <td>6</td>\n",
       "      <td>9</td>\n",
       "      <td>AG_Matching</td>\n",
       "      <td>0</td>\n",
       "    </tr>\n",
       "    <tr>\n",
       "      <th>71115</th>\n",
       "      <td>600bfe6a15f61a7c2756c0c9</td>\n",
       "      <td>5f2e4e8ae3a4d9432b13bff0</td>\n",
       "      <td>28</td>\n",
       "      <td>26</td>\n",
       "      <td>6</td>\n",
       "      <td>10</td>\n",
       "      <td>AG_FITB</td>\n",
       "      <td>0</td>\n",
       "    </tr>\n",
       "    <tr>\n",
       "      <th>71116</th>\n",
       "      <td>600bfe6a15f61a7c2756c0c9</td>\n",
       "      <td>5f2e4e8ae3a4d9432b13c016</td>\n",
       "      <td>28</td>\n",
       "      <td>26</td>\n",
       "      <td>6</td>\n",
       "      <td>11</td>\n",
       "      <td>AG_Matching</td>\n",
       "      <td>0</td>\n",
       "    </tr>\n",
       "    <tr>\n",
       "      <th>71117</th>\n",
       "      <td>600bfe6a15f61a7c2756c0c9</td>\n",
       "      <td>5f2e4e8ae3a4d9432b13c026</td>\n",
       "      <td>28</td>\n",
       "      <td>26</td>\n",
       "      <td>6</td>\n",
       "      <td>12</td>\n",
       "      <td>AG_Matching</td>\n",
       "      <td>0</td>\n",
       "    </tr>\n",
       "    <tr>\n",
       "      <th>71118</th>\n",
       "      <td>600bfe6a15f61a7c2756c0c9</td>\n",
       "      <td>5f2e4e8ae3a4d9432b13c036</td>\n",
       "      <td>28</td>\n",
       "      <td>26</td>\n",
       "      <td>6</td>\n",
       "      <td>13</td>\n",
       "      <td>AG_Matching</td>\n",
       "      <td>0</td>\n",
       "    </tr>\n",
       "  </tbody>\n",
       "</table>\n",
       "<p>71119 rows × 8 columns</p>\n",
       "</div>"
      ],
      "text/plain": [
       "                        student                  question  course_page_number  \\\n",
       "0      5f48174400b3a42fe2c6e6a5  5f2e4e5de3a4d9432b135e55                  18   \n",
       "1      5f48174400b3a42fe2c6e6a5  5f2e4e5de3a4d9432b135e77                  18   \n",
       "2      5f48174400b3a42fe2c6e6a5  5f2e4e5de3a4d9432b135e9d                  18   \n",
       "3      5f48174400b3a42fe2c6e6a5  5f2e4e5de3a4d9432b135ead                  18   \n",
       "4      5f48174400b3a42fe2c6e6a5  5f2e4e5de3a4d9432b135ebd                  18   \n",
       "...                         ...                       ...                 ...   \n",
       "71114  600bfe6a15f61a7c2756c0c9  5f2e4e8ae3a4d9432b13bfce                  28   \n",
       "71115  600bfe6a15f61a7c2756c0c9  5f2e4e8ae3a4d9432b13bff0                  28   \n",
       "71116  600bfe6a15f61a7c2756c0c9  5f2e4e8ae3a4d9432b13c016                  28   \n",
       "71117  600bfe6a15f61a7c2756c0c9  5f2e4e8ae3a4d9432b13c026                  28   \n",
       "71118  600bfe6a15f61a7c2756c0c9  5f2e4e8ae3a4d9432b13c036                  28   \n",
       "\n",
       "       unit_page_number  module_page_number  page_question_number  \\\n",
       "0                    16                   5                     0   \n",
       "1                    16                   5                     1   \n",
       "2                    16                   5                     2   \n",
       "3                    16                   5                     3   \n",
       "4                    16                   5                     4   \n",
       "...                 ...                 ...                   ...   \n",
       "71114                26                   6                     9   \n",
       "71115                26                   6                    10   \n",
       "71116                26                   6                    11   \n",
       "71117                26                   6                    12   \n",
       "71118                26                   6                    13   \n",
       "\n",
       "      question_type  answered  \n",
       "0           AG_FITB         1  \n",
       "1           AG_FITB         1  \n",
       "2       AG_Matching         1  \n",
       "3       AG_Matching         1  \n",
       "4       AG_Matching         1  \n",
       "...             ...       ...  \n",
       "71114   AG_Matching         0  \n",
       "71115       AG_FITB         0  \n",
       "71116   AG_Matching         0  \n",
       "71117   AG_Matching         0  \n",
       "71118   AG_Matching         0  \n",
       "\n",
       "[71119 rows x 8 columns]"
      ]
     },
     "execution_count": 5,
     "metadata": {},
     "output_type": "execute_result"
    }
   ],
   "source": [
    "data_set"
   ]
  },
  {
   "cell_type": "markdown",
   "metadata": {},
   "source": [
    "## Mean engagement"
   ]
  },
  {
   "cell_type": "code",
   "execution_count": 6,
   "metadata": {
    "ExecuteTime": {
     "end_time": "2021-06-20T21:04:00.502402Z",
     "start_time": "2021-06-20T21:04:00.469992Z"
    }
   },
   "outputs": [
    {
     "data": {
      "text/html": [
       "<div>\n",
       "<style scoped>\n",
       "    .dataframe tbody tr th:only-of-type {\n",
       "        vertical-align: middle;\n",
       "    }\n",
       "\n",
       "    .dataframe tbody tr th {\n",
       "        vertical-align: top;\n",
       "    }\n",
       "\n",
       "    .dataframe thead th {\n",
       "        text-align: right;\n",
       "    }\n",
       "</style>\n",
       "<table border=\"1\" class=\"dataframe\">\n",
       "  <thead>\n",
       "    <tr style=\"text-align: right;\">\n",
       "      <th></th>\n",
       "      <th>course_page_number</th>\n",
       "      <th>unit_page_number</th>\n",
       "      <th>module_page_number</th>\n",
       "      <th>page_question_number</th>\n",
       "      <th>answered</th>\n",
       "    </tr>\n",
       "    <tr>\n",
       "      <th>question_type</th>\n",
       "      <th></th>\n",
       "      <th></th>\n",
       "      <th></th>\n",
       "      <th></th>\n",
       "      <th></th>\n",
       "    </tr>\n",
       "  </thead>\n",
       "  <tbody>\n",
       "    <tr>\n",
       "      <th>HA_MC</th>\n",
       "      <td>43.078851</td>\n",
       "      <td>41.078851</td>\n",
       "      <td>4.456248</td>\n",
       "      <td>9.170459</td>\n",
       "      <td>0.692540</td>\n",
       "    </tr>\n",
       "    <tr>\n",
       "      <th>AG_Matching</th>\n",
       "      <td>51.977292</td>\n",
       "      <td>49.977292</td>\n",
       "      <td>4.186578</td>\n",
       "      <td>4.906856</td>\n",
       "      <td>0.669077</td>\n",
       "    </tr>\n",
       "    <tr>\n",
       "      <th>AG_FITB</th>\n",
       "      <td>46.576671</td>\n",
       "      <td>44.576671</td>\n",
       "      <td>4.448933</td>\n",
       "      <td>5.272404</td>\n",
       "      <td>0.618919</td>\n",
       "    </tr>\n",
       "    <tr>\n",
       "      <th>HA_MCMS</th>\n",
       "      <td>46.680868</td>\n",
       "      <td>44.680868</td>\n",
       "      <td>5.349678</td>\n",
       "      <td>11.062701</td>\n",
       "      <td>0.549035</td>\n",
       "    </tr>\n",
       "    <tr>\n",
       "      <th>HA_DnD_Table</th>\n",
       "      <td>44.718085</td>\n",
       "      <td>42.718085</td>\n",
       "      <td>7.797872</td>\n",
       "      <td>11.925532</td>\n",
       "      <td>0.471277</td>\n",
       "    </tr>\n",
       "    <tr>\n",
       "      <th>HA_Pulldown</th>\n",
       "      <td>57.174006</td>\n",
       "      <td>55.174006</td>\n",
       "      <td>6.077913</td>\n",
       "      <td>21.394422</td>\n",
       "      <td>0.422764</td>\n",
       "    </tr>\n",
       "    <tr>\n",
       "      <th>HA_DnD_Image</th>\n",
       "      <td>54.000000</td>\n",
       "      <td>52.000000</td>\n",
       "      <td>6.000000</td>\n",
       "      <td>27.500000</td>\n",
       "      <td>0.340944</td>\n",
       "    </tr>\n",
       "    <tr>\n",
       "      <th>HA_SnC</th>\n",
       "      <td>48.058331</td>\n",
       "      <td>46.058331</td>\n",
       "      <td>6.988286</td>\n",
       "      <td>13.410949</td>\n",
       "      <td>0.328951</td>\n",
       "    </tr>\n",
       "  </tbody>\n",
       "</table>\n",
       "</div>"
      ],
      "text/plain": [
       "               course_page_number  unit_page_number  module_page_number  \\\n",
       "question_type                                                             \n",
       "HA_MC                   43.078851         41.078851            4.456248   \n",
       "AG_Matching             51.977292         49.977292            4.186578   \n",
       "AG_FITB                 46.576671         44.576671            4.448933   \n",
       "HA_MCMS                 46.680868         44.680868            5.349678   \n",
       "HA_DnD_Table            44.718085         42.718085            7.797872   \n",
       "HA_Pulldown             57.174006         55.174006            6.077913   \n",
       "HA_DnD_Image            54.000000         52.000000            6.000000   \n",
       "HA_SnC                  48.058331         46.058331            6.988286   \n",
       "\n",
       "               page_question_number  answered  \n",
       "question_type                                  \n",
       "HA_MC                      9.170459  0.692540  \n",
       "AG_Matching                4.906856  0.669077  \n",
       "AG_FITB                    5.272404  0.618919  \n",
       "HA_MCMS                   11.062701  0.549035  \n",
       "HA_DnD_Table              11.925532  0.471277  \n",
       "HA_Pulldown               21.394422  0.422764  \n",
       "HA_DnD_Image              27.500000  0.340944  \n",
       "HA_SnC                    13.410949  0.328951  "
      ]
     },
     "execution_count": 6,
     "metadata": {},
     "output_type": "execute_result"
    }
   ],
   "source": [
    "data_set.groupby( 'question_type' ).mean().sort_values( by='answered', ascending=False )"
   ]
  },
  {
   "cell_type": "markdown",
   "metadata": {},
   "source": [
    "## Regression model"
   ]
  },
  {
   "cell_type": "code",
   "execution_count": 7,
   "metadata": {
    "ExecuteTime": {
     "end_time": "2021-06-20T21:04:01.603989Z",
     "start_time": "2021-06-20T21:04:00.503798Z"
    }
   },
   "outputs": [
    {
     "name": "stderr",
     "output_type": "stream",
     "text": [
      "R[write to console]: Loading required package: Matrix\n",
      "\n"
     ]
    }
   ],
   "source": [
    "%%R\n",
    "library( lme4 )"
   ]
  },
  {
   "cell_type": "markdown",
   "metadata": {},
   "source": [
    "Standardize the continuous variables."
   ]
  },
  {
   "cell_type": "code",
   "execution_count": 8,
   "metadata": {
    "ExecuteTime": {
     "end_time": "2021-06-20T21:04:01.630734Z",
     "start_time": "2021-06-20T21:04:01.606956Z"
    }
   },
   "outputs": [],
   "source": [
    "for col in [ 'course_page_number', 'unit_page_number', 'module_page_number', 'page_question_number' ]:\n",
    "    data_set[ col ] = ( data_set[ col ] - data_set[ col ].mean() ) / data_set[ col ].std()"
   ]
  },
  {
   "cell_type": "code",
   "execution_count": 9,
   "metadata": {
    "ExecuteTime": {
     "end_time": "2021-06-20T21:04:02.054844Z",
     "start_time": "2021-06-20T21:04:01.632536Z"
    }
   },
   "outputs": [],
   "source": [
    "data_set.to_csv( '/tmp/to_r.csv', index=False )"
   ]
  },
  {
   "cell_type": "code",
   "execution_count": 10,
   "metadata": {
    "ExecuteTime": {
     "end_time": "2021-06-20T21:04:02.338291Z",
     "start_time": "2021-06-20T21:04:02.056499Z"
    }
   },
   "outputs": [],
   "source": [
    "%%R\n",
    "df <- read.csv( '/tmp/to_r.csv' )"
   ]
  },
  {
   "cell_type": "code",
   "execution_count": 11,
   "metadata": {
    "ExecuteTime": {
     "end_time": "2021-06-20T21:07:43.555437Z",
     "start_time": "2021-06-20T21:04:02.339931Z"
    }
   },
   "outputs": [
    {
     "name": "stderr",
     "output_type": "stream",
     "text": [
      "R[write to console]: fixed-effect model matrix is rank deficient so dropping 1 column / coefficient\n",
      "\n"
     ]
    },
    {
     "name": "stdout",
     "output_type": "stream",
     "text": [
      "Generalized linear mixed model fit by maximum likelihood (Laplace\n",
      "  Approximation) [glmerMod]\n",
      " Family: binomial  ( logit )\n",
      "Formula: \n",
      "answered ~ course_page_number + unit_page_number + module_page_number +  \n",
      "    page_question_number + question_type + (1 | student) + (1 |      question)\n",
      "   Data: df\n",
      "Control: glmerControl(optimizer = \"bobyqa\", optCtrl = list(maxfun = 20000))\n",
      "\n",
      "     AIC      BIC   logLik deviance df.resid \n",
      " 49784.4  49903.7 -24879.2  49758.4    71106 \n",
      "\n",
      "Scaled residuals: \n",
      "    Min      1Q  Median      3Q     Max \n",
      "-65.455  -0.314   0.081   0.374  16.373 \n",
      "\n",
      "Random effects:\n",
      " Groups   Name        Variance Std.Dev.\n",
      " question (Intercept) 0.5537   0.7441  \n",
      " student  (Intercept) 9.0917   3.0153  \n",
      "Number of obs: 71119, groups:  question, 1106; student, 99\n",
      "\n",
      "Fixed effects:\n",
      "                           Estimate Std. Error z value Pr(>|z|)    \n",
      "(Intercept)               -0.002364   0.314532  -0.008 0.994004    \n",
      "course_page_number        -0.909442   0.025880 -35.141  < 2e-16 ***\n",
      "module_page_number        -0.821598   0.030056 -27.335  < 2e-16 ***\n",
      "page_question_number      -0.250686   0.032003  -7.833 4.76e-15 ***\n",
      "question_typeAG_Matching   0.506673   0.094230   5.377 7.58e-08 ***\n",
      "question_typeHA_DnD_Image -0.760619   0.224323  -3.391 0.000697 ***\n",
      "question_typeHA_DnD_Table -0.242033   0.225234  -1.075 0.282561    \n",
      "question_typeHA_MC         0.648242   0.092643   6.997 2.61e-12 ***\n",
      "question_typeHA_MCMS      -0.138077   0.209045  -0.661 0.508925    \n",
      "question_typeHA_Pulldown  -0.691671   0.122272  -5.657 1.54e-08 ***\n",
      "question_typeHA_SnC       -1.503071   0.136139 -11.041  < 2e-16 ***\n",
      "---\n",
      "Signif. codes:  0 ‘***’ 0.001 ‘**’ 0.01 ‘*’ 0.05 ‘.’ 0.1 ‘ ’ 1\n",
      "\n",
      "Correlation of Fixed Effects:\n",
      "            (Intr) crs_p_ mdl_p_ pg_qs_ q_AG_M q_HA_DD_I q_HA_DD_T qs_HA_MC\n",
      "crs_pg_nmbr -0.008                                                         \n",
      "mdl_pg_nmbr  0.004  0.104                                                  \n",
      "pg_qstn_nmb  0.046 -0.152 -0.222                                           \n",
      "qstn_tyAG_M -0.221 -0.065  0.032  0.010                                    \n",
      "qst_HA_DD_I -0.110  0.033 -0.014 -0.316  0.305                             \n",
      "qst_HA_DD_T -0.098 -0.007 -0.171 -0.053  0.301  0.166                      \n",
      "qstn_tHA_MC -0.234  0.042  0.010 -0.162  0.751  0.369     0.327            \n",
      "qst_HA_MCMS -0.107  0.010 -0.046 -0.095  0.330  0.178     0.159     0.357  \n",
      "qstn_tyHA_P -0.196 -0.013 -0.087 -0.439  0.563  0.402     0.304     0.655  \n",
      "qstn_tHA_SC -0.166  0.016 -0.201 -0.144  0.500  0.289     0.274     0.550  \n",
      "            q_HA_MCM q_HA_P\n",
      "crs_pg_nmbr                \n",
      "mdl_pg_nmbr                \n",
      "pg_qstn_nmb                \n",
      "qstn_tyAG_M                \n",
      "qst_HA_DD_I                \n",
      "qst_HA_DD_T                \n",
      "qstn_tHA_MC                \n",
      "qst_HA_MCMS                \n",
      "qstn_tyHA_P  0.315         \n",
      "qstn_tHA_SC  0.265    0.521\n",
      "fit warnings:\n",
      "fixed-effect model matrix is rank deficient so dropping 1 column / coefficient\n"
     ]
    }
   ],
   "source": [
    "%%R\n",
    "lme.model <- glmer( answered ~ course_page_number + unit_page_number + module_page_number + page_question_number + question_type\n",
    "                             + (1|student) + (1|question), family=binomial(link=logit),\n",
    "                    data=df,\n",
    "                    control=glmerControl( optimizer=\"bobyqa\", optCtrl=list(maxfun=2e4) ) )\n",
    "summary( lme.model )"
   ]
  },
  {
   "cell_type": "code",
   "execution_count": null,
   "metadata": {},
   "outputs": [],
   "source": []
  }
 ],
 "metadata": {
  "kernelspec": {
   "display_name": "Python 3",
   "language": "python",
   "name": "python3"
  },
  "language_info": {
   "codemirror_mode": {
    "name": "ipython",
    "version": 3
   },
   "file_extension": ".py",
   "mimetype": "text/x-python",
   "name": "python",
   "nbconvert_exporter": "python",
   "pygments_lexer": "ipython3",
   "version": "3.7.8"
  },
  "varInspector": {
   "cols": {
    "lenName": 16,
    "lenType": 16,
    "lenVar": 40
   },
   "kernels_config": {
    "python": {
     "delete_cmd_postfix": "",
     "delete_cmd_prefix": "del ",
     "library": "var_list.py",
     "varRefreshCmd": "print(var_dic_list())"
    },
    "r": {
     "delete_cmd_postfix": ") ",
     "delete_cmd_prefix": "rm(",
     "library": "var_list.r",
     "varRefreshCmd": "cat(var_dic_list()) "
    }
   },
   "types_to_exclude": [
    "module",
    "function",
    "builtin_function_or_method",
    "instance",
    "_Feature"
   ],
   "window_display": false
  }
 },
 "nbformat": 4,
 "nbformat_minor": 1
}
