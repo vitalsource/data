{
 "cells": [
  {
   "cell_type": "markdown",
   "id": "01d651ae-d996-4dff-97e0-d1b0e3dd4ffd",
   "metadata": {},
   "source": [
    "This notebook contains Python code for reproducing the results in our paper on using a large language model to assess the quality of automatically generated questions:\n",
    "\n",
    "Dittel, J. S., Van Campenhout, R., Clark, M. W., & Johnson, B. G. (2024). Exploring Large Language Models for Evaluating Automatically Generated Questions. 25th International Conference on Artificial Intelligence in Education (AIED 2024), Workshop on Automated Evaluation of Learning and Assessment Content, Recife, Brazil, July 2024. https://drive.google.com/file/d/1vO21K60lDf18izQdr79CpJxOvfXvHQBM/view\n",
    "\n",
    "Results are presented in the order they occur, organized by the paper's sections. For each result, an excerpt from the paper is given followed by code to compute the result from the data set provided. Example:\n",
    "\n",
    "> The mean number of students answering each question was 118.3 and the overall question mean score on the first attempt was 41.2%.\n",
    "\n",
    "```print( f'{question_data.students.mean():.1f} {question_data.mean_score.mean():.1%}' )```\n",
    "\n",
    "Please refer to the paper for additional context."
   ]
  },
  {
   "cell_type": "code",
   "execution_count": 1,
   "id": "533440e2",
   "metadata": {
    "ExecuteTime": {
     "end_time": "2024-05-22T14:59:08.197690Z",
     "start_time": "2024-05-22T14:59:00.420598Z"
    }
   },
   "outputs": [],
   "source": [
    "import os\n",
    "\n",
    "import openai\n",
    "import pandas as pd\n",
    "import sklearn.metrics as skm\n",
    "from jellyfish import levenshtein_distance\n",
    "from statsmodels.stats.proportion import proportions_ztest"
   ]
  },
  {
   "cell_type": "markdown",
   "id": "caa5f6bf-e35f-41c7-9590-21de57d7a122",
   "metadata": {},
   "source": [
    "## 2. Methods"
   ]
  },
  {
   "cell_type": "markdown",
   "id": "813e5377-b012-4ae0-a8a4-3721a3b2dec5",
   "metadata": {},
   "source": [
    "### Descriptive statistics"
   ]
  },
  {
   "cell_type": "code",
   "execution_count": 2,
   "id": "54eba7ce",
   "metadata": {
    "ExecuteTime": {
     "end_time": "2024-05-22T14:59:08.282000Z",
     "start_time": "2024-05-22T14:59:08.200553Z"
    }
   },
   "outputs": [
    {
     "data": {
      "text/plain": [
       "(54, 13)"
      ]
     },
     "execution_count": 2,
     "metadata": {},
     "output_type": "execute_result"
    }
   ],
   "source": [
    "question_data = pd.read_csv( 'question_data.csv', index_col='question_id' )\n",
    "question_data.shape"
   ]
  },
  {
   "cell_type": "code",
   "execution_count": 3,
   "id": "fa43753a-43bf-4192-91a2-e21d95230ad4",
   "metadata": {
    "scrolled": true
   },
   "outputs": [
    {
     "data": {
      "text/html": [
       "<div>\n",
       "<style scoped>\n",
       "    .dataframe tbody tr th:only-of-type {\n",
       "        vertical-align: middle;\n",
       "    }\n",
       "\n",
       "    .dataframe tbody tr th {\n",
       "        vertical-align: top;\n",
       "    }\n",
       "\n",
       "    .dataframe thead th {\n",
       "        text-align: right;\n",
       "    }\n",
       "</style>\n",
       "<table border=\"1\" class=\"dataframe\">\n",
       "  <thead>\n",
       "    <tr style=\"text-align: right;\">\n",
       "      <th></th>\n",
       "      <th>stem</th>\n",
       "      <th>answer</th>\n",
       "      <th>students</th>\n",
       "      <th>mean_score</th>\n",
       "      <th>thumbs_down</th>\n",
       "      <th>reject_thumbs_down</th>\n",
       "      <th>reject_mean_score</th>\n",
       "      <th>reject</th>\n",
       "      <th>answer_stem</th>\n",
       "      <th>answer_stem_correct</th>\n",
       "      <th>paragraph</th>\n",
       "      <th>answer_paragraph</th>\n",
       "      <th>answer_paragraph_correct</th>\n",
       "    </tr>\n",
       "    <tr>\n",
       "      <th>question_id</th>\n",
       "      <th></th>\n",
       "      <th></th>\n",
       "      <th></th>\n",
       "      <th></th>\n",
       "      <th></th>\n",
       "      <th></th>\n",
       "      <th></th>\n",
       "      <th></th>\n",
       "      <th></th>\n",
       "      <th></th>\n",
       "      <th></th>\n",
       "      <th></th>\n",
       "      <th></th>\n",
       "    </tr>\n",
       "  </thead>\n",
       "  <tbody>\n",
       "    <tr>\n",
       "      <th>27c7e28f0678ec6a1aacb0e4860b480961f0e72d65e1a5bdfb368b4b1a4d9a6c</th>\n",
       "      <td>Chemists usually perform experiments under nor...</td>\n",
       "      <td>constant</td>\n",
       "      <td>88</td>\n",
       "      <td>0.329545</td>\n",
       "      <td>3</td>\n",
       "      <td>True</td>\n",
       "      <td>True</td>\n",
       "      <td>True</td>\n",
       "      <td>constant</td>\n",
       "      <td>True</td>\n",
       "      <td>The heat given off when you operate a Bunsen b...</td>\n",
       "      <td>constant</td>\n",
       "      <td>True</td>\n",
       "    </tr>\n",
       "    <tr>\n",
       "      <th>e5d7596ad237b4a80be9b62b3855d3b49d811de08858c0ca15bc88b71a4d9a6c</th>\n",
       "      <td>Chemists ordinarily use a property known as en...</td>\n",
       "      <td>thermodynamics</td>\n",
       "      <td>89</td>\n",
       "      <td>0.078652</td>\n",
       "      <td>3</td>\n",
       "      <td>True</td>\n",
       "      <td>True</td>\n",
       "      <td>True</td>\n",
       "      <td>energy</td>\n",
       "      <td>False</td>\n",
       "      <td>Chemists ordinarily use a property known as en...</td>\n",
       "      <td>energy</td>\n",
       "      <td>False</td>\n",
       "    </tr>\n",
       "    <tr>\n",
       "      <th>ef4e7e437722682521d9e5498a3559211dfa5ad8e114bb9ef2bfc2f31a4d9a6c</th>\n",
       "      <td>The large scale separation of ________ 235UF6 ...</td>\n",
       "      <td>gaseous</td>\n",
       "      <td>91</td>\n",
       "      <td>0.087912</td>\n",
       "      <td>3</td>\n",
       "      <td>True</td>\n",
       "      <td>True</td>\n",
       "      <td>True</td>\n",
       "      <td>isotope</td>\n",
       "      <td>False</td>\n",
       "      <td>The large scale separation of ________ 235UF6 ...</td>\n",
       "      <td>isotope</td>\n",
       "      <td>False</td>\n",
       "    </tr>\n",
       "    <tr>\n",
       "      <th>e005a4275d74dd562fc9d7222cafaeb785952fe392a598a233831dc71a4d9a6c</th>\n",
       "      <td>The following guidelines are used to assign __...</td>\n",
       "      <td>oxidation</td>\n",
       "      <td>95</td>\n",
       "      <td>0.305263</td>\n",
       "      <td>1</td>\n",
       "      <td>False</td>\n",
       "      <td>True</td>\n",
       "      <td>True</td>\n",
       "      <td>oxidation</td>\n",
       "      <td>True</td>\n",
       "      <td>The product of this reaction is a covalent com...</td>\n",
       "      <td>oxidation</td>\n",
       "      <td>True</td>\n",
       "    </tr>\n",
       "    <tr>\n",
       "      <th>1e9f9264c12535f9155c06000e9b3324e063d6cb07e24a04eddba3121a4d9a6c</th>\n",
       "      <td>For a(n) ________ molecule, the atomic orbital...</td>\n",
       "      <td>diatomic</td>\n",
       "      <td>96</td>\n",
       "      <td>0.333333</td>\n",
       "      <td>1</td>\n",
       "      <td>False</td>\n",
       "      <td>True</td>\n",
       "      <td>True</td>\n",
       "      <td>diatomic</td>\n",
       "      <td>True</td>\n",
       "      <td>The relative energy levels of atomic and molec...</td>\n",
       "      <td>diatomic</td>\n",
       "      <td>True</td>\n",
       "    </tr>\n",
       "  </tbody>\n",
       "</table>\n",
       "</div>"
      ],
      "text/plain": [
       "                                                                                                 stem  \\\n",
       "question_id                                                                                             \n",
       "27c7e28f0678ec6a1aacb0e4860b480961f0e72d65e1a5b...  Chemists usually perform experiments under nor...   \n",
       "e5d7596ad237b4a80be9b62b3855d3b49d811de08858c0c...  Chemists ordinarily use a property known as en...   \n",
       "ef4e7e437722682521d9e5498a3559211dfa5ad8e114bb9...  The large scale separation of ________ 235UF6 ...   \n",
       "e005a4275d74dd562fc9d7222cafaeb785952fe392a598a...  The following guidelines are used to assign __...   \n",
       "1e9f9264c12535f9155c06000e9b3324e063d6cb07e24a0...  For a(n) ________ molecule, the atomic orbital...   \n",
       "\n",
       "                                                            answer  students  \\\n",
       "question_id                                                                    \n",
       "27c7e28f0678ec6a1aacb0e4860b480961f0e72d65e1a5b...        constant        88   \n",
       "e5d7596ad237b4a80be9b62b3855d3b49d811de08858c0c...  thermodynamics        89   \n",
       "ef4e7e437722682521d9e5498a3559211dfa5ad8e114bb9...         gaseous        91   \n",
       "e005a4275d74dd562fc9d7222cafaeb785952fe392a598a...       oxidation        95   \n",
       "1e9f9264c12535f9155c06000e9b3324e063d6cb07e24a0...        diatomic        96   \n",
       "\n",
       "                                                    mean_score  thumbs_down  \\\n",
       "question_id                                                                   \n",
       "27c7e28f0678ec6a1aacb0e4860b480961f0e72d65e1a5b...    0.329545            3   \n",
       "e5d7596ad237b4a80be9b62b3855d3b49d811de08858c0c...    0.078652            3   \n",
       "ef4e7e437722682521d9e5498a3559211dfa5ad8e114bb9...    0.087912            3   \n",
       "e005a4275d74dd562fc9d7222cafaeb785952fe392a598a...    0.305263            1   \n",
       "1e9f9264c12535f9155c06000e9b3324e063d6cb07e24a0...    0.333333            1   \n",
       "\n",
       "                                                    reject_thumbs_down  \\\n",
       "question_id                                                              \n",
       "27c7e28f0678ec6a1aacb0e4860b480961f0e72d65e1a5b...                True   \n",
       "e5d7596ad237b4a80be9b62b3855d3b49d811de08858c0c...                True   \n",
       "ef4e7e437722682521d9e5498a3559211dfa5ad8e114bb9...                True   \n",
       "e005a4275d74dd562fc9d7222cafaeb785952fe392a598a...               False   \n",
       "1e9f9264c12535f9155c06000e9b3324e063d6cb07e24a0...               False   \n",
       "\n",
       "                                                    reject_mean_score  reject  \\\n",
       "question_id                                                                     \n",
       "27c7e28f0678ec6a1aacb0e4860b480961f0e72d65e1a5b...               True    True   \n",
       "e5d7596ad237b4a80be9b62b3855d3b49d811de08858c0c...               True    True   \n",
       "ef4e7e437722682521d9e5498a3559211dfa5ad8e114bb9...               True    True   \n",
       "e005a4275d74dd562fc9d7222cafaeb785952fe392a598a...               True    True   \n",
       "1e9f9264c12535f9155c06000e9b3324e063d6cb07e24a0...               True    True   \n",
       "\n",
       "                                                   answer_stem  \\\n",
       "question_id                                                      \n",
       "27c7e28f0678ec6a1aacb0e4860b480961f0e72d65e1a5b...    constant   \n",
       "e5d7596ad237b4a80be9b62b3855d3b49d811de08858c0c...      energy   \n",
       "ef4e7e437722682521d9e5498a3559211dfa5ad8e114bb9...     isotope   \n",
       "e005a4275d74dd562fc9d7222cafaeb785952fe392a598a...   oxidation   \n",
       "1e9f9264c12535f9155c06000e9b3324e063d6cb07e24a0...    diatomic   \n",
       "\n",
       "                                                    answer_stem_correct  \\\n",
       "question_id                                                               \n",
       "27c7e28f0678ec6a1aacb0e4860b480961f0e72d65e1a5b...                 True   \n",
       "e5d7596ad237b4a80be9b62b3855d3b49d811de08858c0c...                False   \n",
       "ef4e7e437722682521d9e5498a3559211dfa5ad8e114bb9...                False   \n",
       "e005a4275d74dd562fc9d7222cafaeb785952fe392a598a...                 True   \n",
       "1e9f9264c12535f9155c06000e9b3324e063d6cb07e24a0...                 True   \n",
       "\n",
       "                                                                                            paragraph  \\\n",
       "question_id                                                                                             \n",
       "27c7e28f0678ec6a1aacb0e4860b480961f0e72d65e1a5b...  The heat given off when you operate a Bunsen b...   \n",
       "e5d7596ad237b4a80be9b62b3855d3b49d811de08858c0c...  Chemists ordinarily use a property known as en...   \n",
       "ef4e7e437722682521d9e5498a3559211dfa5ad8e114bb9...  The large scale separation of ________ 235UF6 ...   \n",
       "e005a4275d74dd562fc9d7222cafaeb785952fe392a598a...  The product of this reaction is a covalent com...   \n",
       "1e9f9264c12535f9155c06000e9b3324e063d6cb07e24a0...  The relative energy levels of atomic and molec...   \n",
       "\n",
       "                                                   answer_paragraph  \\\n",
       "question_id                                                           \n",
       "27c7e28f0678ec6a1aacb0e4860b480961f0e72d65e1a5b...         constant   \n",
       "e5d7596ad237b4a80be9b62b3855d3b49d811de08858c0c...           energy   \n",
       "ef4e7e437722682521d9e5498a3559211dfa5ad8e114bb9...          isotope   \n",
       "e005a4275d74dd562fc9d7222cafaeb785952fe392a598a...        oxidation   \n",
       "1e9f9264c12535f9155c06000e9b3324e063d6cb07e24a0...         diatomic   \n",
       "\n",
       "                                                    answer_paragraph_correct  \n",
       "question_id                                                                   \n",
       "27c7e28f0678ec6a1aacb0e4860b480961f0e72d65e1a5b...                      True  \n",
       "e5d7596ad237b4a80be9b62b3855d3b49d811de08858c0c...                     False  \n",
       "ef4e7e437722682521d9e5498a3559211dfa5ad8e114bb9...                     False  \n",
       "e005a4275d74dd562fc9d7222cafaeb785952fe392a598a...                      True  \n",
       "1e9f9264c12535f9155c06000e9b3324e063d6cb07e24a0...                      True  "
      ]
     },
     "execution_count": 3,
     "metadata": {},
     "output_type": "execute_result"
    }
   ],
   "source": [
    "question_data.head()"
   ]
  },
  {
   "cell_type": "code",
   "execution_count": 4,
   "id": "bab0bb28-3658-4198-9526-aaf6c407b649",
   "metadata": {},
   "outputs": [
    {
     "data": {
      "text/plain": [
       "(12373, 7)"
      ]
     },
     "execution_count": 4,
     "metadata": {},
     "output_type": "execute_result"
    }
   ],
   "source": [
    "events = pd.read_parquet( 'events.parquet' )\n",
    "events.shape"
   ]
  },
  {
   "cell_type": "code",
   "execution_count": 5,
   "id": "6ceb98c5-1820-4e01-924c-7a6ea9d2eec9",
   "metadata": {},
   "outputs": [
    {
     "data": {
      "text/html": [
       "<div>\n",
       "<style scoped>\n",
       "    .dataframe tbody tr th:only-of-type {\n",
       "        vertical-align: middle;\n",
       "    }\n",
       "\n",
       "    .dataframe tbody tr th {\n",
       "        vertical-align: top;\n",
       "    }\n",
       "\n",
       "    .dataframe thead th {\n",
       "        text-align: right;\n",
       "    }\n",
       "</style>\n",
       "<table border=\"1\" class=\"dataframe\">\n",
       "  <thead>\n",
       "    <tr style=\"text-align: right;\">\n",
       "      <th></th>\n",
       "      <th>timestamp</th>\n",
       "      <th>user_id</th>\n",
       "      <th>event_type</th>\n",
       "      <th>question_id</th>\n",
       "      <th>correct</th>\n",
       "      <th>first_attempt</th>\n",
       "      <th>extra</th>\n",
       "    </tr>\n",
       "  </thead>\n",
       "  <tbody>\n",
       "    <tr>\n",
       "      <th>0</th>\n",
       "      <td>2023-09-05 20:46:16</td>\n",
       "      <td>8CUZE5QBGJZGPCC4V8TJ</td>\n",
       "      <td>evaluate_response</td>\n",
       "      <td>c9587d4976f87afff9c3c65df9ee73667149bbd57913ce...</td>\n",
       "      <td>False</td>\n",
       "      <td>True</td>\n",
       "      <td>{'assessment_id': None, 'assessment_type': 'fo...</td>\n",
       "    </tr>\n",
       "    <tr>\n",
       "      <th>1</th>\n",
       "      <td>2023-09-05 20:46:21</td>\n",
       "      <td>8CUZE5QBGJZGPCC4V8TJ</td>\n",
       "      <td>reveal_answer</td>\n",
       "      <td>c9587d4976f87afff9c3c65df9ee73667149bbd57913ce...</td>\n",
       "      <td>None</td>\n",
       "      <td>None</td>\n",
       "      <td>{'assessment_id': None, 'assessment_type': 'fo...</td>\n",
       "    </tr>\n",
       "    <tr>\n",
       "      <th>2</th>\n",
       "      <td>2023-09-05 21:00:34</td>\n",
       "      <td>5RFDR3ZHBG7XC4QM8MV3</td>\n",
       "      <td>evaluate_response</td>\n",
       "      <td>1871daad50bfdba1970295c669f140b73cbbfe8766bb00...</td>\n",
       "      <td>True</td>\n",
       "      <td>True</td>\n",
       "      <td>{'assessment_id': None, 'assessment_type': 'fo...</td>\n",
       "    </tr>\n",
       "    <tr>\n",
       "      <th>3</th>\n",
       "      <td>2023-09-05 21:17:43</td>\n",
       "      <td>5Q58F5PDXXFHJJHNJ5FW</td>\n",
       "      <td>evaluate_response</td>\n",
       "      <td>1871daad50bfdba1970295c669f140b73cbbfe8766bb00...</td>\n",
       "      <td>False</td>\n",
       "      <td>True</td>\n",
       "      <td>{'assessment_id': None, 'assessment_type': 'fo...</td>\n",
       "    </tr>\n",
       "    <tr>\n",
       "      <th>4</th>\n",
       "      <td>2023-09-05 21:17:46</td>\n",
       "      <td>5Q58F5PDXXFHJJHNJ5FW</td>\n",
       "      <td>reveal_answer</td>\n",
       "      <td>1871daad50bfdba1970295c669f140b73cbbfe8766bb00...</td>\n",
       "      <td>None</td>\n",
       "      <td>None</td>\n",
       "      <td>{'assessment_id': None, 'assessment_type': 'fo...</td>\n",
       "    </tr>\n",
       "  </tbody>\n",
       "</table>\n",
       "</div>"
      ],
      "text/plain": [
       "            timestamp               user_id         event_type  \\\n",
       "0 2023-09-05 20:46:16  8CUZE5QBGJZGPCC4V8TJ  evaluate_response   \n",
       "1 2023-09-05 20:46:21  8CUZE5QBGJZGPCC4V8TJ      reveal_answer   \n",
       "2 2023-09-05 21:00:34  5RFDR3ZHBG7XC4QM8MV3  evaluate_response   \n",
       "3 2023-09-05 21:17:43  5Q58F5PDXXFHJJHNJ5FW  evaluate_response   \n",
       "4 2023-09-05 21:17:46  5Q58F5PDXXFHJJHNJ5FW      reveal_answer   \n",
       "\n",
       "                                         question_id correct first_attempt  \\\n",
       "0  c9587d4976f87afff9c3c65df9ee73667149bbd57913ce...   False          True   \n",
       "1  c9587d4976f87afff9c3c65df9ee73667149bbd57913ce...    None          None   \n",
       "2  1871daad50bfdba1970295c669f140b73cbbfe8766bb00...    True          True   \n",
       "3  1871daad50bfdba1970295c669f140b73cbbfe8766bb00...   False          True   \n",
       "4  1871daad50bfdba1970295c669f140b73cbbfe8766bb00...    None          None   \n",
       "\n",
       "                                               extra  \n",
       "0  {'assessment_id': None, 'assessment_type': 'fo...  \n",
       "1  {'assessment_id': None, 'assessment_type': 'fo...  \n",
       "2  {'assessment_id': None, 'assessment_type': 'fo...  \n",
       "3  {'assessment_id': None, 'assessment_type': 'fo...  \n",
       "4  {'assessment_id': None, 'assessment_type': 'fo...  "
      ]
     },
     "execution_count": 5,
     "metadata": {},
     "output_type": "execute_result"
    }
   ],
   "source": [
    "events.head()"
   ]
  },
  {
   "cell_type": "markdown",
   "id": "e5d9fb99-6b0f-470b-ad33-15315a4c0ab8",
   "metadata": {},
   "source": [
    "> The mean number of students answering each question was 118.3 and the overall question mean score on the first attempt was 41.2%."
   ]
  },
  {
   "cell_type": "code",
   "execution_count": 6,
   "id": "b7d906c3-4f6d-45cb-998f-a18e05b9539a",
   "metadata": {},
   "outputs": [
    {
     "name": "stdout",
     "output_type": "stream",
     "text": [
      "118.3 41.2%\n"
     ]
    }
   ],
   "source": [
    "print( f'{question_data.students.mean():.1f} {question_data.mean_score.mean():.1%}' )"
   ]
  },
  {
   "cell_type": "markdown",
   "id": "1c1c5418-f32c-4512-8f5e-359317020ccd",
   "metadata": {},
   "source": [
    "> A total of 247 students answered questions in the data set."
   ]
  },
  {
   "cell_type": "code",
   "execution_count": 7,
   "id": "b0fdcd09-c84b-4618-a78a-737267e67537",
   "metadata": {},
   "outputs": [
    {
     "name": "stdout",
     "output_type": "stream",
     "text": [
      "247\n"
     ]
    }
   ],
   "source": [
    "print( events.user_id.nunique() )"
   ]
  },
  {
   "cell_type": "markdown",
   "id": "0a16256c-4777-4c9a-a028-c1d7b9b5472e",
   "metadata": {},
   "source": [
    "> The mean number of questions answered per student was 25.9, with 71 students answering all 54 questions in the data set."
   ]
  },
  {
   "cell_type": "code",
   "execution_count": 8,
   "id": "b7232c3c-e2f4-4a8d-a8f1-9ea59218f3f6",
   "metadata": {},
   "outputs": [
    {
     "name": "stdout",
     "output_type": "stream",
     "text": [
      "25.9 71\n"
     ]
    }
   ],
   "source": [
    "questions_per_student = events.groupby( 'user_id' ).question_id.nunique()\n",
    "print( f\"{questions_per_student.mean():.1f} {( questions_per_student == len( question_data ) ).sum()}\" )"
   ]
  },
  {
   "cell_type": "markdown",
   "id": "fed85aa8-8dfd-4099-960f-86d31afa5b85",
   "metadata": {},
   "source": [
    "> Of these 54 questions, 27 (50%) would be flagged for rejection using one or both of the CIS criteria (21 by mean score and 13 by student ratings)."
   ]
  },
  {
   "cell_type": "code",
   "execution_count": 9,
   "id": "002feb67-28dd-46d0-8b1c-ba26f43634b6",
   "metadata": {},
   "outputs": [
    {
     "name": "stdout",
     "output_type": "stream",
     "text": [
      "27 21 13\n"
     ]
    }
   ],
   "source": [
    "print( question_data.reject.sum(), question_data.reject_mean_score.sum(), question_data.reject_thumbs_down.sum() )"
   ]
  },
  {
   "cell_type": "markdown",
   "id": "8656b780-a735-462d-9884-8eb831750f33",
   "metadata": {},
   "source": [
    "### Example of answering a question using the LLM"
   ]
  },
  {
   "cell_type": "code",
   "execution_count": 10,
   "id": "6909bad8",
   "metadata": {
    "ExecuteTime": {
     "end_time": "2024-05-21T21:57:34.910743Z",
     "start_time": "2024-05-21T21:57:34.847698Z"
    }
   },
   "outputs": [],
   "source": [
    "openai.api_key = os.getenv( 'OPENAI_API_KEY' )"
   ]
  },
  {
   "cell_type": "code",
   "execution_count": 11,
   "id": "ad40f928-d956-4c0b-b855-d8f642f4ba49",
   "metadata": {
    "ExecuteTime": {
     "end_time": "2024-05-21T21:57:34.969174Z",
     "start_time": "2024-05-21T21:57:34.913272Z"
    }
   },
   "outputs": [],
   "source": [
    "def get_message( content, role='user' ):\n",
    "    assert role in [ 'system', 'user', 'assistant' ], f'Bad role: \"{role}\"'\n",
    "    return { \"role\": role, \"content\": content } \n",
    "\n",
    "def get_completion( role, prompt, temperature ):\n",
    "    completion = openai.ChatCompletion.create(\n",
    "      model='gpt-4',\n",
    "      temperature=temperature,\n",
    "      messages=[\n",
    "        get_message( role, role='system' ),\n",
    "        get_message( prompt, role='user' ),\n",
    "      ]\n",
    "    )\n",
    "    return completion"
   ]
  },
  {
   "cell_type": "code",
   "execution_count": 12,
   "id": "2ce4cd62",
   "metadata": {
    "ExecuteTime": {
     "end_time": "2024-05-01T02:39:47.220770Z",
     "start_time": "2024-05-01T02:39:47.155398Z"
    }
   },
   "outputs": [],
   "source": [
    "def answer_fitb_question( stem, temperature=0 ):\n",
    "    role = 'You are a college student with a 4.0 GPA.'\n",
    "    prompt = f\"\"\"Here is a fill-in-the-blank question from your textbook. Please answer with the word that best fits in the blank. Answer only with a single word.\n",
    "\n",
    "Question: {stem}\n",
    "Answer:\"\"\"\n",
    "    completion = get_completion( role, prompt, temperature )\n",
    "    answer = completion.choices[ 0 ].message.content\n",
    "    return answer"
   ]
  },
  {
   "cell_type": "markdown",
   "id": "2907d604-04b1-4e47-9668-c957caffff4c",
   "metadata": {},
   "source": [
    "> The uncertainty principle can be shown to be a consequence of wave-particle duality, which lies at the heart of what distinguishes modern ______ theory from classical mechanics."
   ]
  },
  {
   "cell_type": "code",
   "execution_count": 13,
   "id": "0525baf6-21d1-4836-a0a3-52f1c97731f7",
   "metadata": {},
   "outputs": [
    {
     "name": "stdout",
     "output_type": "stream",
     "text": [
      "Question: The uncertainty principle can be shown to be a consequence of wave-particle duality, which lies at the heart of what distinguishes modern ______ theory from classical mechanics.\n",
      "Answer: quantum\n"
     ]
    }
   ],
   "source": [
    "stem = 'The uncertainty principle can be shown to be a consequence of wave-particle duality, which lies at the heart of what distinguishes modern ______ theory from classical mechanics.'\n",
    "answer = answer_fitb_question( stem )\n",
    "print( f'Question: {stem}\\nAnswer: {answer}' )"
   ]
  },
  {
   "cell_type": "markdown",
   "id": "5e6f7c38-a57e-4893-9d30-52d82002a637",
   "metadata": {},
   "source": [
    "## 3. Results and Discussion"
   ]
  },
  {
   "cell_type": "markdown",
   "id": "36698031-295e-4e27-9533-a6c86142346f",
   "metadata": {},
   "source": [
    "### Success rate of LLM answering questions"
   ]
  },
  {
   "cell_type": "markdown",
   "id": "3e3f334e-88e0-45ad-9ce1-469f5c197ab4",
   "metadata": {},
   "source": [
    "> When the LLM was given each question to answer without additional context, 43 of 54 (79.6%) were answered correctly."
   ]
  },
  {
   "cell_type": "code",
   "execution_count": 14,
   "id": "67df4228-ea4d-4eba-a1b3-3f131389d309",
   "metadata": {},
   "outputs": [
    {
     "name": "stdout",
     "output_type": "stream",
     "text": [
      "43 79.6%\n"
     ]
    }
   ],
   "source": [
    "print( question_data.answer_stem_correct.sum(), f'{question_data.answer_stem_correct.mean():.1%}' )"
   ]
  },
  {
   "cell_type": "markdown",
   "id": "218f2d64-27bd-46bc-87fe-cecf3fc1f0e6",
   "metadata": {},
   "source": [
    "Answer questions with LLM using the question stem."
   ]
  },
  {
   "cell_type": "code",
   "execution_count": 15,
   "id": "7c2edb98-1065-4657-81ea-c5ee14374e86",
   "metadata": {},
   "outputs": [],
   "source": [
    "def assess_answer( answer, correct_answer ):\n",
    "    # Answer check is case-insensitive and ignores simple singular-plural differences\n",
    "    answer = answer.lower().strip() # '\\n' appended sometimes by LLM\n",
    "    correct_answer = correct_answer.lower()\n",
    "    correct = answer == correct_answer\n",
    "    if not correct:\n",
    "        # Check for simple singular-plural difference\n",
    "        d = levenshtein_distance( answer, correct_answer )\n",
    "        correct = d <= 1\n",
    "    if not correct:\n",
    "        # Check -y/-ies difference\n",
    "        if answer.endswith( 'y' ) and correct_answer.endswith( 'ies' ):\n",
    "            correct = answer[ :-1 ] == correct_answer[ :-3 ]\n",
    "        elif answer.endswith( 'ies' ) and correct_answer.endswith( 'y' ):\n",
    "            correct = answer[ :-3 ] == correct_answer[ :-1 ]\n",
    "    return correct"
   ]
  },
  {
   "cell_type": "code",
   "execution_count": 16,
   "id": "92dab4f2-a0bf-4fa7-801f-668a6b292a37",
   "metadata": {
    "scrolled": true
   },
   "outputs": [
    {
     "name": "stdout",
     "output_type": "stream",
     "text": [
      "Chemists usually perform experiments under normal atmospheric conditions, at ________ external pressure with q = ΔH, which makes enthalpy the most convenient choice for determining heat changes for chemical reactions.\n",
      "Correct answer: constant\n",
      "LLM answer:     constant CORRECT\n",
      "\n",
      "Chemists ordinarily use a property known as enthalpy (H) to describe the ________ of chemical and physical processes.\n",
      "Correct answer: thermodynamics\n",
      "LLM answer:     energy INCORRECT\n",
      "\n",
      "The large scale separation of ________ 235UF6 from 238UF6 was first done during the World War II, at the atomic energy installation in Oak Ridge, Tennessee, as part of the Manhattan Project (the development of the first atomic bomb).\n",
      "Correct answer: gaseous\n",
      "LLM answer:     Isotope INCORRECT\n",
      "\n",
      "The following guidelines are used to assign ________ numbers to each element in a molecule or ion.\n",
      "Correct answer: oxidation\n",
      "LLM answer:     oxidation CORRECT\n",
      "\n",
      "For a(n) ________ molecule, the atomic orbitals of one atom are shown on the left, and those of the other atom are shown on the right.\n",
      "Correct answer: diatomic\n",
      "LLM answer:     diatomic CORRECT\n",
      "\n",
      "Gases consisting of heavier molecules have more low-speed ________, a lower urms, and a speed distribution that peaks at relatively lower speeds.\n",
      "Correct answer: particles\n",
      "LLM answer:     particles CORRECT\n",
      "\n",
      "The order of a(n) ________ bond is a guide to its strength; a bond between two given atoms becomes stronger as the bond order increases.\n",
      "Correct answer: covalent\n",
      "LLM answer:     chemical INCORRECT\n",
      "\n",
      "A different type of calorimeter that operates at constant volume, colloquially known as a bomb calorimeter, is used to measure the energy produced by reactions that yield large amounts of heat and gaseous products, such as ________ reactions.\n",
      "Correct answer: combustion\n",
      "LLM answer:     combustion CORRECT\n",
      "\n",
      "When a(n) ________ reaction occurs in solution in a calorimeter, the heat produced by the reaction is absorbed by the solution, which increases its temperature.\n",
      "Correct answer: exothermic\n",
      "LLM answer:     exothermic CORRECT\n",
      "\n",
      "The unhybridized 2p orbitals overlap in a side-by-side fashion, above and below the internuclear ________ (Figure 5.23) and form a π bond.\n",
      "Correct answer: axis\n",
      "LLM answer:     axis CORRECT\n",
      "\n",
      "The extent to which a substance may be dissolved in water, or any solvent, is quantitatively expressed as its ________, defined as the maximum concentration of a substance that can be achieved under specified conditions.\n",
      "Correct answer: solubility\n",
      "LLM answer:     Solubility CORRECT\n",
      "\n",
      "The solubility guidelines indicate AgCl is insoluble, and so a(n) ________ reaction is expected.\n",
      "Correct answer: precipitation\n",
      "LLM answer:     precipitation CORRECT\n",
      "\n",
      "________ is the process whereby gaseous atoms and molecules are transferred from regions of relatively high concentration to regions of relatively low concentration.\n",
      "Correct answer: Diffusion\n",
      "LLM answer:     Diffusion CORRECT\n",
      "\n",
      "When reactions are carried out using less-than-________ quantities of reactants, the amount of product generated will be determined by the limiting reactant.\n",
      "Correct answer: stoichiometric\n",
      "LLM answer:     stoichiometric CORRECT\n",
      "\n",
      "A(n) ________ chemical equation may be used to describe a reaction's stoichiometry (the relationships between amounts of reactants and products).\n",
      "Correct answer: balanced\n",
      "LLM answer:     Balanced CORRECT\n",
      "\n",
      "For larger central atoms, the valence-shell electron pairs are farther from the nucleus, and there are fewer ________.\n",
      "Correct answer: repulsions\n",
      "LLM answer:     repulsions CORRECT\n",
      "\n",
      "If the bonds in a molecule are arranged such that their bond moments cancel (vector sum equals zero), then the molecule is ________.\n",
      "Correct answer: nonpolar\n",
      "LLM answer:     Nonpolar CORRECT\n",
      "\n",
      "Some compounds containing hydrogen are members of an important class of substances known as ________.\n",
      "Correct answer: acids\n",
      "LLM answer:     Hydrocarbons INCORRECT\n",
      "\n",
      "One such grouping includes ________ (Li), sodium (Na), and potassium (K): These elements all are shiny, conduct heat and electricity well, and have similar chemical properties.\n",
      "Correct answer: lithium\n",
      "LLM answer:     lithium CORRECT\n",
      "\n",
      "In ________ form, an ionic compound is not electrically conductive because its ions are unable to flow (\"electricity\" is the flow of charged particles).\n",
      "Correct answer: solid\n",
      "LLM answer:     solid CORRECT\n",
      "\n",
      "Molecules of less geometric symmetry may be ________ even when all bond moments are identical.\n",
      "Correct answer: polar\n",
      "LLM answer:     polar CORRECT\n",
      "\n",
      "A pair of atoms may need to share more than one pair of electrons in order to achieve the requisite ________.\n",
      "Correct answer: octet\n",
      "LLM answer:     stability INCORRECT\n",
      "\n",
      "________ form negative ions (anions).\n",
      "Correct answer: Nonmetals\n",
      "LLM answer:     Nonmetals CORRECT\n",
      "\n",
      "The electron-pair ________ shown in Figure 4.16 describe all regions where electrons are located, bonds as well as lone pairs.\n",
      "Correct answer: geometries\n",
      "LLM answer:     geometry CORRECT\n",
      "\n",
      "________ orbitals describe the areas in an atom where electrons are most likely to be found.\n",
      "Correct answer: Atomic\n",
      "LLM answer:     Atomic CORRECT\n",
      "\n",
      "A compound's percent composition provides the mass percentage of each element in the compound, and it is often experimentally determined and used to derive the compound's ________ formula.\n",
      "Correct answer: empirical\n",
      "LLM answer:     empirical CORRECT\n",
      "\n",
      "The electrons in the H–Cl bond of a hydrogen ________ molecule spend more time near the chlorine atom than near the hydrogen atom.\n",
      "Correct answer: chloride\n",
      "LLM answer:     chloride CORRECT\n",
      "\n",
      "Oxygen is not flammable but is required for ________ of a fuel, and hydrogen is highly flammable and a potent energy source.\n",
      "Correct answer: combustion\n",
      "LLM answer:     combustion CORRECT\n",
      "\n",
      "Because a hydrogen ________ molecule contains two oxygen atoms, as opposed to the water molecule, which has only one, the two substances exhibit very different properties.\n",
      "Correct answer: peroxide\n",
      "LLM answer:     peroxide CORRECT\n",
      "\n",
      "Although the cross-section of one strand is almost impossible to see without a microscope, it is huge on a(n) ________ scale.\n",
      "Correct answer: atomic\n",
      "LLM answer:     molecular INCORRECT\n",
      "\n",
      "While the atoms are still widely separated, the attractions are slightly stronger than the ________, and the energy of the system decreases.\n",
      "Correct answer: repulsions\n",
      "LLM answer:     repulsions CORRECT\n",
      "\n",
      "The value of a(n) ________ property is directly proportional to the amount of matter in question.\n",
      "Correct answer: extensive\n",
      "LLM answer:     extensive CORRECT\n",
      "\n",
      "The most common form of the element sulfur is composed of molecules that consist of eight atoms of sulfur; its molecular ________ is S8 (Figure 2.17).\n",
      "Correct answer: formula\n",
      "LLM answer:     formula CORRECT\n",
      "\n",
      "Even in the late nineteenth century, spectroscopy was a very precise science, and so the wavelengths of hydrogen were measured to very high accuracy, which implied that the Rydberg ________ could be determined very precisely as well.\n",
      "Correct answer: constant\n",
      "LLM answer:     constant CORRECT\n",
      "\n",
      "Hydrogen and oxygen can react to form water, and sodium and chlorine can react to form table ________.\n",
      "Correct answer: salt\n",
      "LLM answer:     salt CORRECT\n",
      "\n",
      "Shielding is determined by the probability of another electron being between the electron of interest and the nucleus, as well as by the electron–electron ________ the electron of interest encounters.\n",
      "Correct answer: repulsions\n",
      "LLM answer:     repulsion CORRECT\n",
      "\n",
      "Removing an electron from a(n) ________ with a higher positive charge is more difficult than removing an electron from an ion with a lower charge.\n",
      "Correct answer: cation\n",
      "LLM answer:     ion INCORRECT\n",
      "\n",
      "The uncertainty principle can be shown to be a consequence of wave–particle duality, which lies at the heart of what distinguishes modern ________ theory from classical mechanics.\n",
      "Correct answer: quantum\n",
      "LLM answer:     quantum CORRECT\n",
      "\n",
      "Dividing by the lowest common denominator (2) gives the simplest, whole-number ratio of atoms, 1:2:1, so the ________ formula is CH2O.\n",
      "Correct answer: empirical\n",
      "LLM answer:     empirical CORRECT\n",
      "\n",
      "Counting is the only type of measurement that is free from ________, provided the number of objects being counted does not change while the counting process is underway.\n",
      "Correct answer: uncertainty\n",
      "LLM answer:     error INCORRECT\n",
      "\n",
      "All of the digits in a(n) ________, including the uncertain last digit, are called significant figures or significant digits.\n",
      "Correct answer: measurement\n",
      "LLM answer:     measurement CORRECT\n",
      "\n",
      "Orbital ________ are pictorial representations of the electron configuration, showing the individual orbitals and the pairing arrangement of electrons.\n",
      "Correct answer: diagrams\n",
      "LLM answer:     diagrams CORRECT\n",
      "\n",
      "One particularly characteristic ________ of waves results when two or more waves come into contact: They interfere with each other.\n",
      "Correct answer: phenomenon\n",
      "LLM answer:     property INCORRECT\n",
      "\n",
      "Elements in the third and higher periods (n ≥ 3) have more than four valence orbitals and can share more than four ________ of electrons with other atoms because they have empty d orbitals in the same shell.\n",
      "Correct answer: pairs\n",
      "LLM answer:     pairs CORRECT\n",
      "\n",
      "A more common way to determine the mass of a(n) ________ is to use a balance to compare its mass with a standard mass.\n",
      "Correct answer: object\n",
      "LLM answer:     object CORRECT\n",
      "\n",
      "Similar research by scientists such as Laura López-Sánchez has provided similar processes for ________ cancer.\n",
      "Correct answer: lung\n",
      "LLM answer:     treating INCORRECT\n",
      "\n",
      "Both published tables with the elements arranged according to increasing ________ mass.\n",
      "Correct answer: atomic\n",
      "LLM answer:     Atomic CORRECT\n",
      "\n",
      "The laws of science summarize a vast number of ________ observations, and describe or predict some facet of the natural world.\n",
      "Correct answer: experimental\n",
      "LLM answer:     empirical INCORRECT\n",
      "\n",
      "Chemistry is sometimes referred to as \"the central science\" due to its interconnectedness with a vast ________ of other STEM disciplines (STEM stands for areas of study in the science, technology, engineering, and math fields).\n",
      "Correct answer: array\n",
      "LLM answer:     array CORRECT\n",
      "\n",
      "There is no single route to answering a question or explaining an observation, but there is an aspect common to every approach: Each uses knowledge based on ________ that can be reproduced to verify the results.\n",
      "Correct answer: experiments\n",
      "LLM answer:     experiments CORRECT\n",
      "\n",
      "Whereas the ________ quantum number, n, defines the general size and energy of the orbital, the secondary quantum number l specifies the shape of the orbital.\n",
      "Correct answer: principal\n",
      "LLM answer:     principal CORRECT\n",
      "\n",
      "Dalton knew of the experiments of French chemist Joseph Proust, who demonstrated that all ________ of a pure compound contain the same elements in the same proportion by mass.\n",
      "Correct answer: samples\n",
      "LLM answer:     samples CORRECT\n",
      "\n",
      "According to classical wave theory, a wave's energy depends on its intensity (which depends on its amplitude), not its ________.\n",
      "Correct answer: frequency\n",
      "LLM answer:     frequency CORRECT\n",
      "\n",
      "Any atom that contains six protons is the element carbon and has the ________ number 6, regardless of how many neutrons or electrons it may have.\n",
      "Correct answer: atomic\n",
      "LLM answer:     atomic CORRECT\n",
      "\n"
     ]
    }
   ],
   "source": [
    "for stem, correct_answer, answer_stem_correct in zip( question_data.stem, question_data.answer, question_data.answer_stem_correct ):\n",
    "    answer = answer_fitb_question( stem )\n",
    "    correct = assess_answer( answer, correct_answer )\n",
    "    print( stem )\n",
    "    print( 'Correct answer:', correct_answer )\n",
    "    print( 'LLM answer:    ', answer, 'CORRECT' if correct else 'INCORRECT' )\n",
    "    print()"
   ]
  },
  {
   "cell_type": "markdown",
   "id": "4d18c0d8-94eb-423e-a725-cf9170b72caa",
   "metadata": {},
   "source": [
    "> This is in stark contrast with the first attempts by students, which were only 41.2% correct."
   ]
  },
  {
   "cell_type": "code",
   "execution_count": 17,
   "id": "2a347a01-6247-4271-a67e-2ea84f0c46be",
   "metadata": {},
   "outputs": [
    {
     "name": "stdout",
     "output_type": "stream",
     "text": [
      "41.2%\n"
     ]
    }
   ],
   "source": [
    "print( f'{question_data.mean_score.mean():.1%}' )"
   ]
  },
  {
   "cell_type": "markdown",
   "id": "5434f409-6a23-49b3-8c8e-44898674cbd0",
   "metadata": {},
   "source": [
    "> A _z_ test of two proportions shows this difference is statistically significant (_p_ << .001)."
   ]
  },
  {
   "cell_type": "code",
   "execution_count": 18,
   "id": "8770515c-2ae7-472a-ad7b-4466af3965b5",
   "metadata": {},
   "outputs": [
    {
     "name": "stdout",
     "output_type": "stream",
     "text": [
      "z = 4.08, p = 4.48e-05\n"
     ]
    }
   ],
   "source": [
    "z, p = proportions_ztest( count=[ question_data.answer_stem_correct.sum(), question_data.mean_score.sum() ],\n",
    "                          nobs=[ len( question_data ) ] * 2 )\n",
    "print( f'z = {z:.2f}, p = {p:.2e}' )"
   ]
  },
  {
   "cell_type": "markdown",
   "id": "f13305cd-a540-4376-9e14-0a08071bda7f",
   "metadata": {},
   "source": [
    "### Precision and recall\n",
    "\n",
    "> Taking an incorrect answer as predicting rejection by the CIS had precision 72.7% and recall\n",
    "29.6%."
   ]
  },
  {
   "cell_type": "code",
   "execution_count": 19,
   "id": "0c6c5c33-6ae1-43e4-b128-48d4b255de7f",
   "metadata": {},
   "outputs": [
    {
     "name": "stdout",
     "output_type": "stream",
     "text": [
      "precision = 72.7%, recall = 29.6%\n"
     ]
    }
   ],
   "source": [
    "precision = skm.precision_score( question_data.reject, ~question_data.answer_stem_correct )\n",
    "recall = skm.recall_score( question_data.reject, ~question_data.answer_stem_correct )\n",
    "print( f'precision = {precision:.1%}, recall = {recall:.1%}' )"
   ]
  },
  {
   "cell_type": "markdown",
   "id": "2ef28977-ff79-4101-a807-2b126eea3581",
   "metadata": {},
   "source": [
    "### Impact of providing additional context\n",
    "\n",
    "> Providing the textbook paragraph in which the sentence occurred as context is expected to\n",
    "increase the proportion of questions correctly answered. This was observed, with 46 of 54 (85.2%) correct, compared to 79.6% correct without this contextual information."
   ]
  },
  {
   "cell_type": "code",
   "execution_count": 20,
   "id": "3ad1f88d-1398-4729-b4a5-ecf4fcf4d15c",
   "metadata": {},
   "outputs": [
    {
     "name": "stdout",
     "output_type": "stream",
     "text": [
      "46 85.2%\n"
     ]
    }
   ],
   "source": [
    "print( question_data.answer_paragraph_correct.sum(), f'{question_data.answer_paragraph_correct.mean():.1%}' )"
   ]
  },
  {
   "cell_type": "markdown",
   "id": "fa5098a4-36a4-497f-9db3-769195b2dbb8",
   "metadata": {},
   "source": [
    "Answer questions with LLM using the question sentence's paragraph as context."
   ]
  },
  {
   "cell_type": "code",
   "execution_count": 21,
   "id": "209b393c-2a9b-4852-b18f-7b36c718e234",
   "metadata": {
    "scrolled": true
   },
   "outputs": [
    {
     "name": "stdout",
     "output_type": "stream",
     "text": [
      "The heat given off when you operate a Bunsen burner is equal to the enthalpy change of the methane combustion reaction that takes place, since it occurs at the essentially constant pressure of the atmosphere. On the other hand, the heat produced by a reaction measured in a bomb calorimeter (Figure 9.17) is not equal to ΔH because the closed, constant-volume metal container prevents the pressure from remaining constant (it may increase or decrease if the reaction yields increased or decreased amounts of gaseous species). Chemists usually perform experiments under normal atmospheric conditions, at ________ external pressure with q = ΔH, which makes enthalpy the most convenient choice for determining heat changes for chemical reactions.\n",
      "Correct answer: constant\n",
      "LLM answer:     constant CORRECT\n",
      "\n",
      "Chemists ordinarily use a property known as enthalpy (H) to describe the ________ of chemical and physical processes. Enthalpy is defined as the sum of a system's internal energy (U) and the mathematical product of its pressure (P) and volume (V):\n",
      "Correct answer: thermodynamics\n",
      "LLM answer:     energy INCORRECT\n",
      "\n",
      "The large scale separation of ________ 235UF6 from 238UF6 was first done during the World War II, at the atomic energy installation in Oak Ridge, Tennessee, as part of the Manhattan Project (the development of the first atomic bomb). Although the theory is simple, this required surmounting many daunting technical challenges to make it work in practice. The barrier must have tiny, uniform holes (about 10–6 cm in diameter) and be porous enough to produce high flow rates. All materials (the barrier, tubing, surface coatings, lubricants, and gaskets) need to be able to contain, but not react with, the highly reactive and corrosive UF6.\n",
      "Correct answer: gaseous\n",
      "LLM answer:     isotope INCORRECT\n",
      "\n",
      "The product of this reaction is a covalent compound, so transfer of electrons in the explicit sense is not involved. To clarify the similarity of this reaction to the previous one and permit an unambiguous definition of redox reactions, a property called oxidation number has been defined. The oxidation number (or oxidation state) of an element in a compound is the charge its atoms would possess if the compound were ionic. The following guidelines are used to assign ________ numbers to each element in a molecule or ion.\n",
      "Correct answer: oxidation\n",
      "LLM answer:     oxidation CORRECT\n",
      "\n",
      "The relative energy levels of atomic and molecular orbitals are typically shown in a molecular orbital diagram (Figure 5.34). For a(n) ________ molecule, the atomic orbitals of one atom are shown on the left, and those of the other atom are shown on the right. Each horizontal line represents one orbital that can hold two electrons. The molecular orbitals formed by the combination of the atomic orbitals are shown in the center. Dashed lines show which of the atomic orbitals combine to form the molecular orbitals. For each pair of atomic orbitals that combine, one lower-energy (bonding) molecular orbital and one higher-energy (antibonding) orbital result. Thus we can see that combining the six 2p atomic orbitals results in three bonding orbitals (one σ and two π) and three antibonding orbitals (one σ* and two π*).\n",
      "Correct answer: diatomic\n",
      "LLM answer:     diatomic CORRECT\n",
      "\n",
      "At a given temperature, all gases have the same KEavg for their molecules. Gases composed of lighter molecules have more high-speed particles and a higher urms, with a speed distribution that peaks at relatively higher speeds. Gases consisting of heavier molecules have more low-speed ________, a lower urms, and a speed distribution that peaks at relatively lower speeds. This trend is demonstrated by the data for a series of noble gases shown in Figure 8.34.\n",
      "Correct answer: particles\n",
      "LLM answer:     particles CORRECT\n",
      "\n",
      "The order of a(n) ________ bond is a guide to its strength; a bond between two given atoms becomes stronger as the bond order increases. If the distribution of electrons in the molecular orbitals between two atoms is such that the resulting bond would have a bond order of zero, a stable bond does not form. We next look at some specific examples of MO diagrams and bond orders.\n",
      "Correct answer: covalent\n",
      "LLM answer:     molecular INCORRECT\n",
      "\n",
      "The calorimeters described are designed to operate at constant (atmospheric) pressure and are convenient to measure heat flow accompanying processes that occur in solution. A different type of calorimeter that operates at constant volume, colloquially known as a bomb calorimeter, is used to measure the energy produced by reactions that yield large amounts of heat and gaseous products, such as ________ reactions. (The term \"bomb\" comes from the observation that these reactions can be vigorous enough to resemble explosions that would damage other calorimeters.) This type of calorimeter consists of a robust steel container (the \"bomb\") that contains the reactants and is itself submerged in water (Figure 9.17). The sample is placed in the bomb, which is then filled with oxygen at high pressure. A small electrical spark is used to ignite the sample. The energy produced by the reaction is absorbed by the steel bomb and the surrounding water. The temperature increase is measured and, along with the known heat capacity of the calorimeter, is used to calculate the energy produced by the reaction. Bomb calorimeters require calibration to determine the heat capacity of the calorimeter and ensure accurate results. The calibration is accomplished using a reaction with a known q, such as a measured quantity of benzoic acid ignited by a spark from a nickel fuse wire that is weighed before and after the reaction. The temperature change produced by the known reaction is used to determine the heat capacity of the calorimeter. The calibration is generally performed each time before the calorimeter is used to gather research data.\n",
      "Correct answer: combustion\n",
      "LLM answer:     combustion CORRECT\n",
      "\n",
      "A calorimeter is a device used to measure the amount of heat involved in a chemical or physical process. For example, when a(n) ________ reaction occurs in solution in a calorimeter, the heat produced by the reaction is absorbed by the solution, which increases its temperature. When an endothermic reaction occurs, the heat required is absorbed from the thermal energy of the solution, which decreases its temperature (Figure 9.11). The temperature change, along with the specific heat and mass of the solution, can then be used to calculate the amount of heat involved in either case.\n",
      "Correct answer: exothermic\n",
      "LLM answer:     exothermic CORRECT\n",
      "\n",
      "The three bonding regions form a trigonal planar electron-pair geometry. Thus we expect the σ bonds from each carbon atom are formed using a set of sp2 hybrid orbitals that result from hybridization of two of the 2p orbitals and the 2s orbital (Figure 5.22). These orbitals form the C–H single bonds and the σ bond in the C=C double bond (Figure 5.23). The π bond in the C=C double bond results from the overlap of the third (remaining) 2p orbital on each carbon atom that is not involved in hybridization. This unhybridized p orbital (lobes shown in red and blue in Figure 5.23) is perpendicular to the plane of the sp2 hybrid orbitals. Thus the unhybridized 2p orbitals overlap in a side-by-side fashion, above and below the internuclear ________ (Figure 5.23) and form a π bond.\n",
      "Correct answer: axis\n",
      "LLM answer:     axis CORRECT\n",
      "\n",
      "The extent to which a substance may be dissolved in water, or any solvent, is quantitatively expressed as its ________, defined as the maximum concentration of a substance that can be achieved under specified conditions. Substances with relatively large solubilities are said to be soluble. A substance will precipitate when solution conditions are such that its concentration exceeds its solubility. Substances with relatively low solubilities are said to be insoluble, and these are the substances that readily precipitate from solution. More information on these important concepts is provided in a later chapter on solutions. For purposes of predicting the identities of solids formed by precipitation reactions, one may simply refer to patterns of solubility that have been observed for many ionic compounds (Table 7.1).\n",
      "Correct answer: solubility\n",
      "LLM answer:     solubility CORRECT\n",
      "\n",
      "(b) The two possible products for this combination are LiC2H3O2 and AgCl. The solubility guidelines indicate AgCl is insoluble, and so a(n) ________ reaction is expected. The net ionic equation for this reaction, derived in the manner detailed in the previous module, is\n",
      "Correct answer: precipitation\n",
      "LLM answer:     precipitation CORRECT\n",
      "\n",
      "Gaseous atoms and molecules move freely and randomly through space. ________ is the process whereby gaseous atoms and molecules are transferred from regions of relatively high concentration to regions of relatively low concentration. Effusion is a similar process in which gaseous species pass from a container to a vacuum through very small orifices. The rates of effusion of gases are inversely proportional to the square roots of their densities or to the square roots of their atoms/molecules' masses (Graham's law).\n",
      "Correct answer: Diffusion\n",
      "LLM answer:     Diffusion CORRECT\n",
      "\n",
      "When reactions are carried out using less-than-________ quantities of reactants, the amount of product generated will be determined by the limiting reactant. The amount of product generated by a chemical reaction is its actual yield. This yield is often less than the amount of product predicted by the stoichiometry of the balanced chemical equation representing the reaction (its theoretical yield). The extent to which a reaction generates the theoretical amount of product is expressed as its percent yield.\n",
      "Correct answer: stoichiometric\n",
      "LLM answer:     stoichiometric CORRECT\n",
      "\n",
      "A(n) ________ chemical equation may be used to describe a reaction's stoichiometry (the relationships between amounts of reactants and products). Coefficients from the equation are used to derive stoichiometric factors that subsequently may be used for computations relating reactant and product masses, molar amounts, and other quantitative properties.\n",
      "Correct answer: balanced\n",
      "LLM answer:     Balanced CORRECT\n",
      "\n",
      "It is important to remember that hybridization was devised to rationalize experimentally observed molecular geometries. The model works well for molecules containing small central atoms, in which the valence electron pairs are close together in space. However, for larger central atoms, the valence-shell electron pairs are farther from the nucleus, and there are fewer ________. Their compounds exhibit structures that are often not consistent with VSEPR theory, and hybridized orbitals are not necessary to explain the observed data. For example, we have discussed the H–O–H bond angle in H2O, 104.5°, which is more consistent with sp3 hybrid orbitals (109.5°) on the central atom than with 2p orbitals (90°). Sulfur is in the same group as oxygen, and H2S has a similar Lewis structure. However, it has a much smaller bond angle (92.1°), which indicates much less hybridization on sulfur than oxygen. Continuing down the group, tellurium is even larger than sulfur, and for H2Te, the observed bond angle (90°) is consistent with overlap of the 5p orbitals, without invoking hybridization. We invoke hybridization where it is necessary to explain the observed structures.\n",
      "Correct answer: repulsions\n",
      "LLM answer:     restrictions INCORRECT\n",
      "\n",
      "When a molecule contains more than one bond, the geometry must be taken into account. If the bonds in a molecule are arranged such that their bond moments cancel (vector sum equals zero), then the molecule is ________. This is the situation in CO2 (Figure 4.27). Each of the bonds is polar, but the molecule as a whole is nonpolar. From the Lewis structure, and using VSEPR theory, we determine that the CO2 molecule is linear with polar C=O bonds on opposite sides of the carbon atom. The bond moments cancel because they are pointed in opposite directions. In the case of the water molecule (Figure 4.27), the Lewis structure again shows that there are two bonds to a central atom, and the electronegativity difference again shows that each of these bonds has a nonzero bond moment. In this case, however, the molecular structure is bent because of the lone pairs on O, and the two bond moments do not cancel. Therefore, water does have a net dipole moment and is a polar molecule (dipole).\n",
      "Correct answer: nonpolar\n",
      "LLM answer:     nonpolar CORRECT\n",
      "\n",
      "Some compounds containing hydrogen are members of an important class of substances known as ________. The chemistry of these compounds is explored in more detail in later chapters of this text, but for now, it will suffice to note that many acids release hydrogen ions, H+, when dissolved in water. To denote this distinct chemical property, a mixture of water with an acid is given a name derived from the compound's name. If the compound is a binary acid (comprised of hydrogen and one other nonmetallic element):\n",
      "Correct answer: acids\n",
      "LLM answer:     acids CORRECT\n",
      "\n",
      "As early chemists worked to purify ores and discovered more elements, they realized that various elements could be grouped together by their similar chemical behaviors. One such grouping includes ________ (Li), sodium (Na), and potassium (K): These elements all are shiny, conduct heat and electricity well, and have similar chemical properties. A second grouping includes calcium (Ca), strontium (Sr), and barium (Ba), which also are shiny, good conductors of heat and electricity, and have chemical properties in common. However, the specific properties of these two groupings are notably different from each other. For example: Li, Na, and K are much more reactive than are Ca, Sr, and Ba; Li, Na, and K form compounds with oxygen in a ratio of two of their atoms to one oxygen atom, whereas Ca, Sr, and Ba form compounds with one of their atoms to one oxygen atom. Fluorine (F), chlorine (Cl), bromine (Br), and iodine (I) also exhibit similar properties to each other, but these properties are drastically different from those of any of the elements above.\n",
      "Correct answer: lithium\n",
      "LLM answer:     alkali INCORRECT\n",
      "\n",
      "You can often recognize ionic compounds because of their properties. Ionic compounds are solids that typically melt at high temperatures and boil at even higher temperatures. For example, sodium chloride melts at 801 °C and boils at 1413 °C. (As a comparison, the molecular compound water melts at 0 °C and boils at 100 °C.) In ________ form, an ionic compound is not electrically conductive because its ions are unable to flow (\"electricity\" is the flow of charged particles). When molten, however, it can conduct electricity because its ions are able to move freely through the liquid (Figure 3.41).\n",
      "Correct answer: solid\n",
      "LLM answer:     solid CORRECT\n",
      "\n",
      "For molecules of high symmetry such as BF3 (trigonal planar), CH4 (tetrahedral), PF5 (trigonal bipyramidal), and SF6 (octahedral), all the bonds are of identical polarity (same bond moment) and they are oriented in geometries that yield nonpolar molecules (dipole moment is zero). Molecules of less geometric symmetry, however, may be ________ even when all bond moments are identical. For these molecules, the directions of the equal bond moments are such that they sum to give a nonzero dipole moment and a polar molecule. Examples of such molecules include hydrogen sulfide, H2S (nonlinear), and ammonia, NH3 (trigonal pyramidal).\n",
      "Correct answer: polar\n",
      "LLM answer:     polar CORRECT\n",
      "\n",
      "As previously mentioned, when a pair of atoms shares one pair of electrons, we call this a single bond. However, a pair of atoms may need to share more than one pair of electrons in order to achieve the requisite ________. A double bond forms when two pairs of electrons are shared between a pair of atoms, as between the carbon and oxygen atoms in CH2O (formaldehyde) and between the two carbon atoms in C2H4 (ethylene):\n",
      "Correct answer: octet\n",
      "LLM answer:     stability INCORRECT\n",
      "\n",
      "Nitrogen's position in the periodic table (group 15) reveals that it is a nonmetal. ________ form negative ions (anions). A nitrogen atom must gain three electrons to have the same number of electrons as an atom of the following noble gas, neon. Thus, a nitrogen atom will form an anion with three more electrons than protons and a charge of 3−. The symbol for the ion is N3−, and it is called a nitride ion.\n",
      "Correct answer: Nonmetals\n",
      "LLM answer:     Nonmetals CORRECT\n",
      "\n",
      "It is important to note that electron-pair geometry around a central atom is not the same thing as its molecular structure. The electron-pair ________ shown in Figure 4.16 describe all regions where electrons are located, bonds as well as lone pairs. Molecular structure describes the location of the atoms, not the electrons.\n",
      "Correct answer: geometries\n",
      "LLM answer:     geometries CORRECT\n",
      "\n",
      "Macroscopic objects act as particles. Microscopic objects (such as electrons) have properties of both a particle and a wave. Their exact trajectories cannot be determined. The quantum mechanical model of atoms describes the three-dimensional position of the electron in a probabilistic manner according to a mathematical function called a wavefunction, often denoted as ψ. Atomic wavefunctions are also called orbitals. The squared magnitude of the wavefunction describes the distribution of the probability of finding the electron in a particular region in space. Therefore, ________ orbitals describe the areas in an atom where electrons are most likely to be found.\n",
      "Correct answer: Atomic\n",
      "LLM answer:     Atomic CORRECT\n",
      "\n",
      "The chemical identity of a substance is defined by the types and relative numbers of atoms composing its fundamental entities (molecules in the case of covalent compounds, ions in the case of ionic compounds). A compound's percent composition provides the mass percentage of each element in the compound, and it is often experimentally determined and used to derive the compound's ________ formula. The empirical formula mass of a covalent compound may be compared to the compound's molecular or molar mass to derive a molecular formula.\n",
      "Correct answer: empirical\n",
      "LLM answer:     empirical CORRECT\n",
      "\n",
      "When the atoms linked by a covalent bond are different, the bonding electrons are shared, but no longer equally. Instead, the bonding electrons are more attracted to one atom than the other, giving rise to a shift of electron density toward that atom. This unequal distribution of electrons is known as a polar covalent bond, characterized by a partial positive charge on one atom and a partial negative charge on the other. The atom that attracts the electrons more strongly acquires the partial negative charge and vice versa. For example, the electrons in the H–Cl bond of a hydrogen ________ molecule spend more time near the chlorine atom than near the hydrogen atom. Thus, in an HCl molecule, the chlorine atom carries a partial negative charge and the hydrogen atom has a partial positive charge. Figure 4.5 shows the distribution of electrons in the H–Cl bond. Note that the shaded area around Cl is much larger than it is around H. Compare this to Figure 4.4, which shows the even distribution of electrons in the H2 nonpolar bond.\n",
      "Correct answer: chloride\n",
      "LLM answer:     chloride CORRECT\n",
      "\n",
      "The two gases produced have distinctly different properties. Oxygen is not flammable but is required for ________ of a fuel, and hydrogen is highly flammable and a potent energy source. How might this knowledge be applied in our world? One application involves research into more fuel-efficient transportation. Fuel-cell vehicles (FCV) run on hydrogen instead of gasoline (Figure 1.16). They are more efficient than vehicles with internal combustion engines, are nonpolluting, and reduce greenhouse gas emissions, making us less dependent on fossil fuels. FCVs are not yet economically viable, however, and current hydrogen production depends on natural gas. If we can develop a process to economically decompose water, or produce hydrogen in another environmentally sound way, FCVs may be the way of the future.\n",
      "Correct answer: combustion\n",
      "LLM answer:     combustion CORRECT\n",
      "\n",
      "The identity of a substance is defined not only by the types of atoms or ions it contains, but by the quantity of each type of atom or ion. For example, water, H2O, and hydrogen peroxide, H2O2, are alike in that their respective molecules are composed of hydrogen and oxygen atoms. However, because a hydrogen ________ molecule contains two oxygen atoms, as opposed to the water molecule, which has only one, the two substances exhibit very different properties. Today, we possess sophisticated instruments that allow the direct measurement of these defining microscopic traits; however, the same traits were originally derived from the measurement of macroscopic properties (the masses and volumes of bulk quantities of matter) using relatively simple tools (balances and volumetric glassware). This experimental approach required the introduction of a new unit for amount of substances, the mole, which remains indispensable in modern chemical science.\n",
      "Correct answer: peroxide\n",
      "LLM answer:     peroxide CORRECT\n",
      "\n",
      "An atom is so small that its size is difficult to imagine. One of the smallest things we can see with our unaided eye is a single thread of a spider web: These strands are about 1/10,000 of a centimeter (0.0001 cm) in diameter. Although the cross-section of one strand is almost impossible to see without a microscope, it is huge on a(n) ________ scale. A single carbon atom in the web has a diameter of about 0.000000015 centimeter, and it would take about 7000 carbon atoms to span the diameter of the strand. To put this in perspective, if a carbon atom were the size of a dime, the cross-section of one strand would be larger than a football field, which would require about 150 million carbon atom \"dimes\" to cover it. (Figure 1.13) shows increasingly close microscopic and atomic-level views of ordinary cotton.\n",
      "Correct answer: atomic\n",
      "LLM answer:     atomic CORRECT\n",
      "\n",
      "The energy of the system depends on how much the orbitals overlap. Figure 5.2 illustrates how the sum of the energies of two hydrogen atoms (the colored curve) changes as they approach each other. When the atoms are far apart there is no overlap, and by convention we set the sum of the energies at zero. As the atoms move together, their orbitals begin to overlap. Each electron begins to feel the attraction of the nucleus in the other atom. In addition, the electrons begin to repel each other, as do the nuclei. While the atoms are still widely separated, the attractions are slightly stronger than the ________, and the energy of the system decreases. (A bond begins to form.) As the atoms move closer together, the overlap increases, so the attraction of the nuclei for the electrons continues to increase (as do the repulsions among electrons and between the nuclei). At some specific distance between the atoms, which varies depending on the atoms involved, the energy reaches its lowest (most stable) value. This optimum distance between the two bonded nuclei is the bond distance between the two atoms. The bond is stable because at this point, the attractive and repulsive forces combine to create the lowest possible energy configuration. If the distance between the nuclei were to decrease further, the repulsions between nuclei and the repulsions as electrons are confined in closer proximity to each other would become stronger than the attractive forces. The energy of the system would then rise (making the system destabilized), as shown at the far left of Figure 5.2.\n",
      "Correct answer: repulsions\n",
      "LLM answer:     repulsions CORRECT\n",
      "\n",
      "Properties of matter fall into one of two categories. If the property depends on the amount of matter present, it is an extensive property. The mass and volume of a substance are examples of extensive properties; for instance, a gallon of milk has a larger mass than a cup of milk. The value of a(n) ________ property is directly proportional to the amount of matter in question. If the property of a sample of matter does not depend on the amount of matter present, it is an intensive property. Temperature is an example of an intensive property. If the gallon and cup of milk are each at 20 °C (room temperature), when they are combined, the temperature remains at 20 °C. As another example, consider the distinct but related properties of heat and temperature. A drop of hot cooking oil spattered on your arm causes brief, minor discomfort, whereas a pot of hot oil yields severe burns. Both the drop and the pot of oil are at the same temperature (an intensive property), but the pot clearly contains much more heat (extensive property).\n",
      "Correct answer: extensive\n",
      "LLM answer:     extensive CORRECT\n",
      "\n",
      "Although many elements consist of discrete, individual atoms, some exist as molecules made up of two or more atoms of the element chemically bonded together. For example, most samples of the elements hydrogen, oxygen, and nitrogen are composed of molecules that contain two atoms each (called diatomic molecules) and thus have the molecular formulas H2, O2, and N2, respectively. Other elements commonly found as diatomic molecules are fluorine (F2), chlorine (Cl2), bromine (Br2), and iodine (I2). The most common form of the element sulfur is composed of molecules that consist of eight atoms of sulfur; its molecular ________ is S8 (Figure 2.17).\n",
      "Correct answer: formula\n",
      "LLM answer:     formula CORRECT\n",
      "\n",
      "Even in the late nineteenth century, spectroscopy was a very precise science, and so the wavelengths of hydrogen were measured to very high accuracy, which implied that the Rydberg ________ could be determined very precisely as well. That such a simple formula as the Rydberg formula could account for such precise measurements seemed astounding at the time, but it was the eventual explanation for emission spectra by Neils Bohr in 1913 that ultimately convinced scientists to abandon classical physics and spurred the development of modern quantum mechanics.\n",
      "Correct answer: constant\n",
      "LLM answer:     constant CORRECT\n",
      "\n",
      "Compounds are formed when two or more elements chemically combine, resulting in the formation of bonds. For example, hydrogen and oxygen can react to form water, and sodium and chlorine can react to form table ________. We sometimes describe the composition of these compounds with an empirical formula, which indicates the types of atoms present and the simplest whole-number ratio of the number of atoms (or ions) in the compound. For example, titanium dioxide (used as pigment in white paint and in the thick, white, blocking type of sunscreen) has an empirical formula of TiO2. This identifies the elements titanium (Ti) and oxygen (O) as the constituents of titanium dioxide, and indicates the presence of twice as many atoms of the element oxygen as atoms of the element titanium (Figure 2.19).\n",
      "Correct answer: salt\n",
      "LLM answer:     salt CORRECT\n",
      "\n",
      "Shielding is determined by the probability of another electron being between the electron of interest and the nucleus, as well as by the electron–electron ________ the electron of interest encounters. Core electrons are adept at shielding, while electrons in the same valence shell do not block the nuclear attraction experienced by each other as efficiently. Thus, each time we move from one element to the next across a period, Z increases by one, but the shielding increases only slightly. Thus, Zeff increases as we move from left to right across a period. The stronger pull (higher effective nuclear charge) experienced by electrons on the right side of the periodic table draws them closer to the nucleus, making the covalent radii smaller.\n",
      "Correct answer: repulsions\n",
      "LLM answer:     repulsion CORRECT\n",
      "\n",
      "Removing an electron from a cation is more difficult than removing an electron from a neutral atom because of the greater electrostatic attraction to the cation. Likewise, removing an electron from a(n) ________ with a higher positive charge is more difficult than removing an electron from an ion with a lower charge. Thus, successive ionization energies for one element always increase. As seen in Table 3.3, there is a large increase in the ionization energies for each element. This jump corresponds to removal of the core electrons, which are harder to remove than the valence electrons. For example, Sc and Ga both have three valence electrons, so the rapid increase in ionization energy occurs after the third ionization.\n",
      "Correct answer: cation\n",
      "LLM answer:     ion INCORRECT\n",
      "\n",
      "Heisenberg's principle imposes ultimate limits on what is knowable in science. The uncertainty principle can be shown to be a consequence of wave–particle duality, which lies at the heart of what distinguishes modern ________ theory from classical mechanics.\n",
      "Correct answer: quantum\n",
      "LLM answer:     quantum CORRECT\n",
      "\n",
      "If we know a compound's formula, we can easily determine the empirical formula. (This is somewhat of an academic exercise; the reverse chronology is generally followed in actual practice.) For example, the molecular formula for acetic acid, the component that gives vinegar its sharp taste, is C2H4O2. This formula indicates that a molecule of acetic acid (Figure 2.21) contains two carbon atoms, four hydrogen atoms, and two oxygen atoms. The ratio of atoms is 2:4:2. Dividing by the lowest common denominator (2) gives the simplest, whole-number ratio of atoms, 1:2:1, so the ________ formula is CH2O. Note that a molecular formula is always a whole-number multiple of an empirical formula.\n",
      "Correct answer: empirical\n",
      "LLM answer:     empirical CORRECT\n",
      "\n",
      "Counting is the only type of measurement that is free from ________, provided the number of objects being counted does not change while the counting process is underway. The result of such a counting measurement is an example of an exact number. By counting the eggs in a carton, one can determine exactly how many eggs the carton contains. The numbers of defined quantities are also exact. By definition, 1 foot is exactly 12 inches, 1 inch is exactly 2.54 centimeters, and 1 gram is exactly 0.001 kilogram. Quantities derived from measurements other than counting, however, are uncertain to varying extents due to practical limitations of the measurement process used.\n",
      "Correct answer: uncertainty\n",
      "LLM answer:     uncertainty CORRECT\n",
      "\n",
      "This concept holds true for all measurements, even if you do not actively make an estimate. If you place a quarter on a standard electronic balance, you may obtain a reading of 6.72 g. The digits 6 and 7 are certain, and the 2 indicates that the mass of the quarter is likely between 6.71 and 6.73 grams. The quarter weighs about 6.72 grams, with a nominal uncertainty in the measurement of ± 0.01 gram. If the coin is weighed on a more sensitive balance, the mass might be 6.723 g. This means its mass lies between 6.722 and 6.724 grams, an uncertainty of 0.001 gram. Every measurement has some uncertainty, which depends on the device used (and the user's ability). All of the digits in a(n) ________, including the uncertain last digit, are called significant figures or significant digits. Note that zero may be a measured value; for example, if you stand on a scale that shows weight to the nearest pound and it shows \"120,\" then the 1 (hundreds), 2 (tens) and 0 (ones) are all significant (measured) values.\n",
      "Correct answer: measurement\n",
      "LLM answer:     measurement CORRECT\n",
      "\n",
      "We will now construct the ground-state electron configuration and orbital diagram for a selection of atoms in the first and second periods of the periodic table. Orbital ________ are pictorial representations of the electron configuration, showing the individual orbitals and the pairing arrangement of electrons. We start with a single hydrogen atom (atomic number 1), which consists of one proton and one electron. Referring to Figure 3.26 or Figure 3.27, we would expect to find the electron in the 1s orbital. By convention, the ms=+12 value is usually filled first. The electron configuration and the orbital diagram are:\n",
      "Correct answer: diagrams\n",
      "LLM answer:     diagrams CORRECT\n",
      "\n",
      "One particularly characteristic ________ of waves results when two or more waves come into contact: They interfere with each other. Figure 3.6 shows the interference patterns that arise when light passes through narrow slits closely spaced about a wavelength apart. The fringe patterns produced depend on the wavelength, with the fringes being more closely spaced for shorter wavelength light passing through a given set of slits. When the light passes through the two slits, each slit effectively acts as a new source, resulting in two closely spaced waves coming into contact at the detector (the camera in this case). The dark regions in Figure 3.6 correspond to regions where the peaks for the wave from one slit happen to coincide with the troughs for the wave from the other slit (destructive interference), while the brightest regions correspond to the regions where the peaks for the two waves (or their two troughs) happen to coincide (constructive interference). Likewise, when two stones are tossed close together into a pond, interference patterns are visible in the interactions between the waves produced by the stones. Such interference patterns cannot be explained by particles moving according to the laws of classical mechanics.\n",
      "Correct answer: phenomenon\n",
      "LLM answer:     phenomenon CORRECT\n",
      "\n",
      "Elements in the second period of the periodic table (n = 2) can accommodate only eight electrons in their valence shell orbitals because they have only four valence orbitals (one 2s and three 2p orbitals). Elements in the third and higher periods (n ≥ 3) have more than four valence orbitals and can share more than four ________ of electrons with other atoms because they have empty d orbitals in the same shell. Molecules formed from these elements are sometimes called hypervalent molecules. Figure 4.13 shows the Lewis structures for two hypervalent molecules, PCl5 and SF6.\n",
      "Correct answer: pairs\n",
      "LLM answer:     pairs CORRECT\n",
      "\n",
      "The mass of an object is a measure of the amount of matter in it. One way to measure an object's mass is to measure the force it takes to accelerate the object. It takes much more force to accelerate a car than a bicycle because the car has much more mass. A more common way to determine the mass of a(n) ________ is to use a balance to compare its mass with a standard mass.\n",
      "Correct answer: object\n",
      "LLM answer:     object CORRECT\n",
      "\n",
      "Early detection of biomarkers, substances that indicate an organism's disease or physiological state, could allow diagnosis and treatment before a condition becomes serious or irreversible. Recent studies have shown that your exhaled breath can contain molecules that may be biomarkers for recent exposure to environmental contaminants or for pathological conditions ranging from asthma to lung cancer. Scientists are working to develop biomarker \"fingerprints\" that could be used to diagnose a specific disease based on the amounts and identities of certain molecules in a patient's exhaled breath. In Sangeeta Bhatia's lab at MIT, a team used substances that react specifically inside diseased lung tissue; the products of the reactions will be present as biomarkers that can be identified through mass spectrometry (an analytical method discussed later in the chapter). A potential application would allow patients with early symptoms to inhale or ingest a \"sensor\" substance, and, minutes later, to breathe into a detector for diagnosis. Similar research by scientists such as Laura López-Sánchez has provided similar processes for ________ cancer. An essential concept underlying this goal is that of a molecule's identity, which is determined by the numbers and types of atoms it contains, and how they are bonded together. This chapter will describe some of the fundamental chemical principles related to the composition of matter, including those central to the concept of molecular identity.\n",
      "Correct answer: lung\n",
      "LLM answer:     breast INCORRECT\n",
      "\n",
      "Dimitri Mendeleev in Russia (1869) and Lothar Meyer in Germany (1870) independently recognized that there was a periodic relationship among the properties of the elements known at that time. Both published tables with the elements arranged according to increasing ________ mass. But Mendeleev went one step further than Meyer: He used his table to predict the existence of elements that would have the properties similar to aluminum and silicon, but were yet unknown. The discoveries of gallium (1875) and germanium (1886) provided great support for Mendeleev's work. Although Mendeleev and Meyer had a long dispute over priority, Mendeleev's contributions to the development of the periodic table are now more widely recognized (Figure 3.36).\n",
      "Correct answer: atomic\n",
      "LLM answer:     atomic CORRECT\n",
      "\n",
      "Some hypotheses are attempts to explain the behavior that is summarized in laws. The laws of science summarize a vast number of ________ observations, and describe or predict some facet of the natural world. If such a hypothesis turns out to be capable of explaining a large body of experimental data, it can reach the status of a theory. Scientific theories are well-substantiated, comprehensive, testable explanations of particular aspects of nature. Theories are accepted because they provide satisfactory explanations, but they can be modified if new data become available. The path of discovery that leads from question and observation to law or hypothesis to theory, combined with experimental verification of the hypothesis and any necessary modification of the theory, is called the scientific method (Figure 1.4).\n",
      "Correct answer: experimental\n",
      "LLM answer:     empirical INCORRECT\n",
      "\n",
      "Chemistry is sometimes referred to as \"the central science\" due to its interconnectedness with a vast ________ of other STEM disciplines (STEM stands for areas of study in the science, technology, engineering, and math fields). Chemistry and the language of chemists play vital roles in biology, medicine, materials science, forensics, environmental science, and many other fields (Figure 1.3). The basic principles of physics are essential for understanding many aspects of chemistry, and there is extensive overlap between many subdisciplines within the two fields, such as chemical physics and nuclear chemistry. Mathematics, computer science, and information theory provide important tools that help us calculate, interpret, describe, and generally make sense of the chemical world. Biology and chemistry converge in biochemistry, which is crucial to understanding the many complex factors and processes that keep living organisms (such as us) alive. Chemical engineering, materials science, and nanotechnology combine chemical principles and empirical findings to produce useful substances, ranging from gasoline to fabrics to electronics. Agriculture, food science, veterinary science, and brewing and wine making help provide sustenance in the form of food and drink to the world's population. Medicine, pharmacology, biotechnology, and botany identify and produce substances that help keep us healthy. Environmental science, geology, oceanography, and atmospheric science incorporate many chemical ideas to help us better understand and protect our physical world. Chemical ideas are used to help understand the universe in astronomy and cosmology.\n",
      "Correct answer: array\n",
      "LLM answer:     array CORRECT\n",
      "\n",
      "Chemistry is a science based on observation and experimentation. Doing chemistry involves attempting to answer questions and explain observations in terms of the laws and theories of chemistry, using procedures that are accepted by the scientific community. There is no single route to answering a question or explaining an observation, but there is an aspect common to every approach: Each uses knowledge based on ________ that can be reproduced to verify the results. Some routes involve a hypothesis, a tentative explanation of observations that acts as a guide for gathering and checking information. A hypothesis is tested by experimentation, calculation, and/or comparison with the experiments of others and then refined as needed.\n",
      "Correct answer: experiments\n",
      "LLM answer:     experiments CORRECT\n",
      "\n",
      "Another quantum number is l, the secondary (angular momentum) quantum number. It is an integer that may take the values, l = 0, 1, 2, ..., n – 1. This means that an orbital with n = 1 can have only one value of l, l = 0, whereas n = 2 permits l = 0 and l = 1, and so on. Whereas the ________ quantum number, n, defines the general size and energy of the orbital, the secondary quantum number l specifies the shape of the orbital. Orbitals with the same value of l define a subshell.\n",
      "Correct answer: principal\n",
      "LLM answer:     principal CORRECT\n",
      "\n",
      "Dalton knew of the experiments of French chemist Joseph Proust, who demonstrated that all ________ of a pure compound contain the same elements in the same proportion by mass. This statement is known as the law of definite proportions or the law of constant composition. The suggestion that the numbers of atoms of the elements in a given compound always exist in the same ratio is consistent with these observations. For example, when different samples of isooctane (a component of gasoline and one of the standards used in the octane rating system) are analyzed, they are found to have a carbon-to-hydrogen mass ratio of 5.33:1, as shown in Table 2.1.\n",
      "Correct answer: samples\n",
      "LLM answer:     samples CORRECT\n",
      "\n",
      "The next paradox in the classical theory to be resolved concerned the photoelectric effect (Figure 3.11). It had been observed that electrons could be ejected from the clean surface of a metal when light having a frequency greater than some threshold frequency was shone on it. Surprisingly, the kinetic energy of the ejected electrons did not depend on the brightness of the light, but increased with increasing frequency of the light. Since the electrons in the metal had a certain amount of binding energy keeping them there, the incident light needed to have more energy to free the electrons. According to classical wave theory, a wave's energy depends on its intensity (which depends on its amplitude), not its ________. One part of these observations was that the number of electrons ejected within in a given time period was seen to increase as the brightness increased. In 1905, Albert Einstein was able to resolve the paradox by incorporating Planck's quantization findings into the discredited particle view of light (Einstein actually won his Nobel prize for this work, and not for his theories of relativity for which he is most famous).\n",
      "Correct answer: frequency\n",
      "LLM answer:     frequency CORRECT\n",
      "\n",
      "The number of protons in the nucleus of an atom is its atomic number (Z). This is the defining trait of an element: Its value determines the identity of the atom. For example, any atom that contains six protons is the element carbon and has the ________ number 6, regardless of how many neutrons or electrons it may have. A neutral atom must contain the same number of positive and negative charges, so the number of protons equals the number of electrons. Therefore, the atomic number also indicates the number of electrons in an atom. The total number of protons and neutrons in an atom is called its mass number (A). The number of neutrons is therefore the difference between the mass number and the atomic number: A – Z = number of neutrons.\n",
      "Correct answer: atomic\n",
      "LLM answer:     atomic CORRECT\n",
      "\n"
     ]
    }
   ],
   "source": [
    "for paragraph, correct_answer, answer_paragraph_correct in zip( question_data.paragraph, question_data.answer, question_data.answer_paragraph_correct ):\n",
    "    answer = answer_fitb_question( paragraph )\n",
    "    correct = assess_answer( answer, correct_answer )\n",
    "    print( paragraph )\n",
    "    print( 'Correct answer:', correct_answer )\n",
    "    print( 'LLM answer:    ', answer, 'CORRECT' if correct else 'INCORRECT' )\n",
    "    print()"
   ]
  },
  {
   "cell_type": "markdown",
   "id": "78358ec3-a439-4225-8173-6e28f55eac67",
   "metadata": {},
   "source": [
    "> More correctly answered questions means fewer questions predicted as rejected, and so recall should decrease and precision increase. While this was the case, with precision 75.0% and recall 22.2%, interestingly, the difference made by this additional information was small."
   ]
  },
  {
   "cell_type": "code",
   "execution_count": 22,
   "id": "181985ae-30c1-4575-abf8-7e494c5f3764",
   "metadata": {},
   "outputs": [
    {
     "name": "stdout",
     "output_type": "stream",
     "text": [
      "precision = 75.0%, recall = 22.2%\n"
     ]
    }
   ],
   "source": [
    "precision = skm.precision_score( question_data.reject, ~question_data.answer_paragraph_correct )\n",
    "recall = skm.recall_score( question_data.reject, ~question_data.answer_paragraph_correct )\n",
    "print( f'precision = {precision:.1%}, recall = {recall:.1%}' )"
   ]
  },
  {
   "cell_type": "markdown",
   "id": "7cba34d3-c39d-4b3e-93c6-feafee8a3d5e",
   "metadata": {},
   "source": [
    "### Specific examples discussed in the paper"
   ]
  },
  {
   "cell_type": "markdown",
   "id": "5decbc7d-24a7-405d-ae88-3af28d6767e6",
   "metadata": {},
   "source": [
    "> An example of a question correctly predicted for rejection by the CIS is\n",
    ">\n",
    "> The order of a(n) ______ bond is a guide to its strength; a bond between two given atoms becomes stronger as the bond order increases.\n",
    "> \n",
    "> The correct answer is “covalent” and the LLM’s answer was “chemical”. While both are reasonable words for completing the sentence in isolation, “covalent” is more specific to the textbook context on the topic of nolecular orbitals for diatomic molecules, which concerns covalent bonding."
   ]
  },
  {
   "cell_type": "code",
   "execution_count": 23,
   "id": "59088c79-82c2-496e-bd7f-2c87ee76ec9e",
   "metadata": {},
   "outputs": [
    {
     "data": {
      "text/html": [
       "<div>\n",
       "<style scoped>\n",
       "    .dataframe tbody tr th:only-of-type {\n",
       "        vertical-align: middle;\n",
       "    }\n",
       "\n",
       "    .dataframe tbody tr th {\n",
       "        vertical-align: top;\n",
       "    }\n",
       "\n",
       "    .dataframe thead th {\n",
       "        text-align: right;\n",
       "    }\n",
       "</style>\n",
       "<table border=\"1\" class=\"dataframe\">\n",
       "  <thead>\n",
       "    <tr style=\"text-align: right;\">\n",
       "      <th></th>\n",
       "      <th>stem</th>\n",
       "      <th>answer</th>\n",
       "      <th>students</th>\n",
       "      <th>mean_score</th>\n",
       "      <th>thumbs_down</th>\n",
       "      <th>reject_thumbs_down</th>\n",
       "      <th>reject_mean_score</th>\n",
       "      <th>reject</th>\n",
       "      <th>answer_stem</th>\n",
       "      <th>answer_stem_correct</th>\n",
       "      <th>paragraph</th>\n",
       "      <th>answer_paragraph</th>\n",
       "      <th>answer_paragraph_correct</th>\n",
       "    </tr>\n",
       "    <tr>\n",
       "      <th>question_id</th>\n",
       "      <th></th>\n",
       "      <th></th>\n",
       "      <th></th>\n",
       "      <th></th>\n",
       "      <th></th>\n",
       "      <th></th>\n",
       "      <th></th>\n",
       "      <th></th>\n",
       "      <th></th>\n",
       "      <th></th>\n",
       "      <th></th>\n",
       "      <th></th>\n",
       "      <th></th>\n",
       "    </tr>\n",
       "  </thead>\n",
       "  <tbody>\n",
       "    <tr>\n",
       "      <th>2951446f9ba716169c44ad13d2ac573e74ab3a1b6ec1caac36c2c9bc1a4d9a6c</th>\n",
       "      <td>The order of a(n) ________ bond is a guide to ...</td>\n",
       "      <td>covalent</td>\n",
       "      <td>98</td>\n",
       "      <td>0.367347</td>\n",
       "      <td>2</td>\n",
       "      <td>True</td>\n",
       "      <td>False</td>\n",
       "      <td>True</td>\n",
       "      <td>Chemical</td>\n",
       "      <td>False</td>\n",
       "      <td>The order of a(n) ________ bond is a guide to ...</td>\n",
       "      <td>Molecular</td>\n",
       "      <td>False</td>\n",
       "    </tr>\n",
       "  </tbody>\n",
       "</table>\n",
       "</div>"
      ],
      "text/plain": [
       "                                                                                                 stem  \\\n",
       "question_id                                                                                             \n",
       "2951446f9ba716169c44ad13d2ac573e74ab3a1b6ec1caa...  The order of a(n) ________ bond is a guide to ...   \n",
       "\n",
       "                                                      answer  students  \\\n",
       "question_id                                                              \n",
       "2951446f9ba716169c44ad13d2ac573e74ab3a1b6ec1caa...  covalent        98   \n",
       "\n",
       "                                                    mean_score  thumbs_down  \\\n",
       "question_id                                                                   \n",
       "2951446f9ba716169c44ad13d2ac573e74ab3a1b6ec1caa...    0.367347            2   \n",
       "\n",
       "                                                    reject_thumbs_down  \\\n",
       "question_id                                                              \n",
       "2951446f9ba716169c44ad13d2ac573e74ab3a1b6ec1caa...                True   \n",
       "\n",
       "                                                    reject_mean_score  reject  \\\n",
       "question_id                                                                     \n",
       "2951446f9ba716169c44ad13d2ac573e74ab3a1b6ec1caa...              False    True   \n",
       "\n",
       "                                                   answer_stem  \\\n",
       "question_id                                                      \n",
       "2951446f9ba716169c44ad13d2ac573e74ab3a1b6ec1caa...    Chemical   \n",
       "\n",
       "                                                    answer_stem_correct  \\\n",
       "question_id                                                               \n",
       "2951446f9ba716169c44ad13d2ac573e74ab3a1b6ec1caa...                False   \n",
       "\n",
       "                                                                                            paragraph  \\\n",
       "question_id                                                                                             \n",
       "2951446f9ba716169c44ad13d2ac573e74ab3a1b6ec1caa...  The order of a(n) ________ bond is a guide to ...   \n",
       "\n",
       "                                                   answer_paragraph  \\\n",
       "question_id                                                           \n",
       "2951446f9ba716169c44ad13d2ac573e74ab3a1b6ec1caa...        Molecular   \n",
       "\n",
       "                                                    answer_paragraph_correct  \n",
       "question_id                                                                   \n",
       "2951446f9ba716169c44ad13d2ac573e74ab3a1b6ec1caa...                     False  "
      ]
     },
     "execution_count": 23,
     "metadata": {},
     "output_type": "execute_result"
    }
   ],
   "source": [
    "question_data[ question_data.stem.str.startswith( 'The order of' ) ]"
   ]
  },
  {
   "cell_type": "markdown",
   "id": "a117e770-1ab3-43a2-9eb9-a75ae6928790",
   "metadata": {},
   "source": [
    "> Another question correctly predicted for rejection is\n",
    "> \n",
    "> One particularly characteristic ______ of waves results when two or more waves come into contact: They interfere with each other.\n",
    "> \n",
    "> The correct answer word (i.e., appearing in the textbook sentence) is “phenomenon” while the LLM answered “property”. Here, these words are synonymous, completing the sentence equally well (even considering context), but “property” would be counted as incorrect. This illustrates how the LLM-based answer criterion can be useful, by identifying when an equally good answer word as the one used by the textbook author exists."
   ]
  },
  {
   "cell_type": "code",
   "execution_count": 24,
   "id": "38de3a8d-8abe-43e2-bd43-bbbd00b3b2dc",
   "metadata": {},
   "outputs": [
    {
     "data": {
      "text/html": [
       "<div>\n",
       "<style scoped>\n",
       "    .dataframe tbody tr th:only-of-type {\n",
       "        vertical-align: middle;\n",
       "    }\n",
       "\n",
       "    .dataframe tbody tr th {\n",
       "        vertical-align: top;\n",
       "    }\n",
       "\n",
       "    .dataframe thead th {\n",
       "        text-align: right;\n",
       "    }\n",
       "</style>\n",
       "<table border=\"1\" class=\"dataframe\">\n",
       "  <thead>\n",
       "    <tr style=\"text-align: right;\">\n",
       "      <th></th>\n",
       "      <th>stem</th>\n",
       "      <th>answer</th>\n",
       "      <th>students</th>\n",
       "      <th>mean_score</th>\n",
       "      <th>thumbs_down</th>\n",
       "      <th>reject_thumbs_down</th>\n",
       "      <th>reject_mean_score</th>\n",
       "      <th>reject</th>\n",
       "      <th>answer_stem</th>\n",
       "      <th>answer_stem_correct</th>\n",
       "      <th>paragraph</th>\n",
       "      <th>answer_paragraph</th>\n",
       "      <th>answer_paragraph_correct</th>\n",
       "    </tr>\n",
       "    <tr>\n",
       "      <th>question_id</th>\n",
       "      <th></th>\n",
       "      <th></th>\n",
       "      <th></th>\n",
       "      <th></th>\n",
       "      <th></th>\n",
       "      <th></th>\n",
       "      <th></th>\n",
       "      <th></th>\n",
       "      <th></th>\n",
       "      <th></th>\n",
       "      <th></th>\n",
       "      <th></th>\n",
       "      <th></th>\n",
       "    </tr>\n",
       "  </thead>\n",
       "  <tbody>\n",
       "    <tr>\n",
       "      <th>e9816d2e6d1319340024bb1ac20661cf2406b3b5bd6585da5f4a554b1a4d9a6c</th>\n",
       "      <td>One particularly characteristic ________ of wa...</td>\n",
       "      <td>phenomenon</td>\n",
       "      <td>128</td>\n",
       "      <td>0.359375</td>\n",
       "      <td>3</td>\n",
       "      <td>True</td>\n",
       "      <td>False</td>\n",
       "      <td>True</td>\n",
       "      <td>property</td>\n",
       "      <td>False</td>\n",
       "      <td>One particularly characteristic ________ of wa...</td>\n",
       "      <td>phenomenon</td>\n",
       "      <td>True</td>\n",
       "    </tr>\n",
       "  </tbody>\n",
       "</table>\n",
       "</div>"
      ],
      "text/plain": [
       "                                                                                                 stem  \\\n",
       "question_id                                                                                             \n",
       "e9816d2e6d1319340024bb1ac20661cf2406b3b5bd6585d...  One particularly characteristic ________ of wa...   \n",
       "\n",
       "                                                        answer  students  \\\n",
       "question_id                                                                \n",
       "e9816d2e6d1319340024bb1ac20661cf2406b3b5bd6585d...  phenomenon       128   \n",
       "\n",
       "                                                    mean_score  thumbs_down  \\\n",
       "question_id                                                                   \n",
       "e9816d2e6d1319340024bb1ac20661cf2406b3b5bd6585d...    0.359375            3   \n",
       "\n",
       "                                                    reject_thumbs_down  \\\n",
       "question_id                                                              \n",
       "e9816d2e6d1319340024bb1ac20661cf2406b3b5bd6585d...                True   \n",
       "\n",
       "                                                    reject_mean_score  reject  \\\n",
       "question_id                                                                     \n",
       "e9816d2e6d1319340024bb1ac20661cf2406b3b5bd6585d...              False    True   \n",
       "\n",
       "                                                   answer_stem  \\\n",
       "question_id                                                      \n",
       "e9816d2e6d1319340024bb1ac20661cf2406b3b5bd6585d...    property   \n",
       "\n",
       "                                                    answer_stem_correct  \\\n",
       "question_id                                                               \n",
       "e9816d2e6d1319340024bb1ac20661cf2406b3b5bd6585d...                False   \n",
       "\n",
       "                                                                                            paragraph  \\\n",
       "question_id                                                                                             \n",
       "e9816d2e6d1319340024bb1ac20661cf2406b3b5bd6585d...  One particularly characteristic ________ of wa...   \n",
       "\n",
       "                                                   answer_paragraph  \\\n",
       "question_id                                                           \n",
       "e9816d2e6d1319340024bb1ac20661cf2406b3b5bd6585d...       phenomenon   \n",
       "\n",
       "                                                    answer_paragraph_correct  \n",
       "question_id                                                                   \n",
       "e9816d2e6d1319340024bb1ac20661cf2406b3b5bd6585d...                      True  "
      ]
     },
     "execution_count": 24,
     "metadata": {},
     "output_type": "execute_result"
    }
   ],
   "source": [
    "question_data[ question_data.stem.str.startswith( 'One particularly characteristic' ) ]"
   ]
  },
  {
   "cell_type": "markdown",
   "id": "64bfeeb1-3694-40db-9ebd-7ea4dbc6994a",
   "metadata": {},
   "source": [
    "> An example question that the LLM answered correctly but was given thumbs down by multiple students illustrates this point.\n",
    ">\n",
    "> Because a hydrogen ______ molecule contains two oxygen atoms, as opposed to the water molecule, which has only one, the two substances exhibit very different properties.\n",
    ">\n",
    "> The LLM correctly answered “peroxide”, which is highly predictable in this context, and thus the question was not predicted for rejection. However, students viewed the question as not helpful because this sentence was serving as an example to illustrate a central concept (the chemical mole concept), and not as an important fact that needed to be retained. This reason was not related to the answer word’s predictability."
   ]
  },
  {
   "cell_type": "code",
   "execution_count": 25,
   "id": "9d45fd2c-9351-4016-a5e7-16441ada42ea",
   "metadata": {},
   "outputs": [
    {
     "data": {
      "text/html": [
       "<div>\n",
       "<style scoped>\n",
       "    .dataframe tbody tr th:only-of-type {\n",
       "        vertical-align: middle;\n",
       "    }\n",
       "\n",
       "    .dataframe tbody tr th {\n",
       "        vertical-align: top;\n",
       "    }\n",
       "\n",
       "    .dataframe thead th {\n",
       "        text-align: right;\n",
       "    }\n",
       "</style>\n",
       "<table border=\"1\" class=\"dataframe\">\n",
       "  <thead>\n",
       "    <tr style=\"text-align: right;\">\n",
       "      <th></th>\n",
       "      <th>stem</th>\n",
       "      <th>answer</th>\n",
       "      <th>students</th>\n",
       "      <th>mean_score</th>\n",
       "      <th>thumbs_down</th>\n",
       "      <th>reject_thumbs_down</th>\n",
       "      <th>reject_mean_score</th>\n",
       "      <th>reject</th>\n",
       "      <th>answer_stem</th>\n",
       "      <th>answer_stem_correct</th>\n",
       "      <th>paragraph</th>\n",
       "      <th>answer_paragraph</th>\n",
       "      <th>answer_paragraph_correct</th>\n",
       "    </tr>\n",
       "    <tr>\n",
       "      <th>question_id</th>\n",
       "      <th></th>\n",
       "      <th></th>\n",
       "      <th></th>\n",
       "      <th></th>\n",
       "      <th></th>\n",
       "      <th></th>\n",
       "      <th></th>\n",
       "      <th></th>\n",
       "      <th></th>\n",
       "      <th></th>\n",
       "      <th></th>\n",
       "      <th></th>\n",
       "      <th></th>\n",
       "    </tr>\n",
       "  </thead>\n",
       "  <tbody>\n",
       "    <tr>\n",
       "      <th>ad6f37c4ae3f508474f1260afa85ec1a416615c65992d92962e855b81a4d9a6c</th>\n",
       "      <td>Because a hydrogen ________ molecule contains ...</td>\n",
       "      <td>peroxide</td>\n",
       "      <td>119</td>\n",
       "      <td>0.184874</td>\n",
       "      <td>2</td>\n",
       "      <td>True</td>\n",
       "      <td>True</td>\n",
       "      <td>True</td>\n",
       "      <td>peroxide</td>\n",
       "      <td>True</td>\n",
       "      <td>The identity of a substance is defined not onl...</td>\n",
       "      <td>peroxide</td>\n",
       "      <td>True</td>\n",
       "    </tr>\n",
       "  </tbody>\n",
       "</table>\n",
       "</div>"
      ],
      "text/plain": [
       "                                                                                                 stem  \\\n",
       "question_id                                                                                             \n",
       "ad6f37c4ae3f508474f1260afa85ec1a416615c65992d92...  Because a hydrogen ________ molecule contains ...   \n",
       "\n",
       "                                                      answer  students  \\\n",
       "question_id                                                              \n",
       "ad6f37c4ae3f508474f1260afa85ec1a416615c65992d92...  peroxide       119   \n",
       "\n",
       "                                                    mean_score  thumbs_down  \\\n",
       "question_id                                                                   \n",
       "ad6f37c4ae3f508474f1260afa85ec1a416615c65992d92...    0.184874            2   \n",
       "\n",
       "                                                    reject_thumbs_down  \\\n",
       "question_id                                                              \n",
       "ad6f37c4ae3f508474f1260afa85ec1a416615c65992d92...                True   \n",
       "\n",
       "                                                    reject_mean_score  reject  \\\n",
       "question_id                                                                     \n",
       "ad6f37c4ae3f508474f1260afa85ec1a416615c65992d92...               True    True   \n",
       "\n",
       "                                                   answer_stem  \\\n",
       "question_id                                                      \n",
       "ad6f37c4ae3f508474f1260afa85ec1a416615c65992d92...    peroxide   \n",
       "\n",
       "                                                    answer_stem_correct  \\\n",
       "question_id                                                               \n",
       "ad6f37c4ae3f508474f1260afa85ec1a416615c65992d92...                 True   \n",
       "\n",
       "                                                                                            paragraph  \\\n",
       "question_id                                                                                             \n",
       "ad6f37c4ae3f508474f1260afa85ec1a416615c65992d92...  The identity of a substance is defined not onl...   \n",
       "\n",
       "                                                   answer_paragraph  \\\n",
       "question_id                                                           \n",
       "ad6f37c4ae3f508474f1260afa85ec1a416615c65992d92...         peroxide   \n",
       "\n",
       "                                                    answer_paragraph_correct  \n",
       "question_id                                                                   \n",
       "ad6f37c4ae3f508474f1260afa85ec1a416615c65992d92...                      True  "
      ]
     },
     "execution_count": 25,
     "metadata": {},
     "output_type": "execute_result"
    }
   ],
   "source": [
    "question_data[ question_data.stem.str.startswith( 'Because a hydrogen' ) ]"
   ]
  }
 ],
 "metadata": {
  "kernelspec": {
   "display_name": "Python 3 (ipykernel)",
   "language": "python",
   "name": "python3"
  },
  "language_info": {
   "codemirror_mode": {
    "name": "ipython",
    "version": 3
   },
   "file_extension": ".py",
   "mimetype": "text/x-python",
   "name": "python",
   "nbconvert_exporter": "python",
   "pygments_lexer": "ipython3",
   "version": "3.9.13"
  },
  "varInspector": {
   "cols": {
    "lenName": 16,
    "lenType": 16,
    "lenVar": 40
   },
   "kernels_config": {
    "python": {
     "delete_cmd_postfix": "",
     "delete_cmd_prefix": "del ",
     "library": "var_list.py",
     "varRefreshCmd": "print(var_dic_list())"
    },
    "r": {
     "delete_cmd_postfix": ") ",
     "delete_cmd_prefix": "rm(",
     "library": "var_list.r",
     "varRefreshCmd": "cat(var_dic_list()) "
    }
   },
   "types_to_exclude": [
    "module",
    "function",
    "builtin_function_or_method",
    "instance",
    "_Feature"
   ],
   "window_display": false
  }
 },
 "nbformat": 4,
 "nbformat_minor": 5
}
