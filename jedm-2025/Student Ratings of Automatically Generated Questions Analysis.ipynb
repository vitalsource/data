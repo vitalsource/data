{
 "cells": [
  {
   "cell_type": "code",
   "execution_count": 1,
   "metadata": {
    "ExecuteTime": {
     "end_time": "2024-07-20T23:38:52.946646Z",
     "start_time": "2024-07-20T23:38:35.434319Z"
    }
   },
   "outputs": [],
   "source": [
    "import numpy as np\n",
    "import pandas as pd\n",
    "import matplotlib.pyplot as plt"
   ]
  },
  {
   "cell_type": "code",
   "execution_count": 2,
   "metadata": {
    "ExecuteTime": {
     "end_time": "2024-07-20T23:39:00.080804Z",
     "start_time": "2024-07-20T23:38:54.078350Z"
    }
   },
   "outputs": [],
   "source": [
    "%load_ext rpy2.ipython"
   ]
  },
  {
   "cell_type": "markdown",
   "metadata": {},
   "source": [
    "This notebook contains Python and R code for reproducing the results in our paper on factors influencing student ratings of automatically generated questions:\n",
    "\n",
    "Johnson, B. G., Dittel, J. S., & Van Campenhout, R. (2025). Intrinsic and contextual factors impacting student ratings of automatically\n",
    "generated questions: A large-scale data analysis. _Journal of Educational Data Mining_, _17_(1), 217–241. https://doi.org/10.5281/zenodo.15174917\n",
    "\n",
    "This paper is an expanded version of our paper that won the [Best Paper Award](https://educationaldatamining.org/edm2024/best-paper-awards/) at [Educational Data Mining 2024](https://educationaldatamining.org/edm2024/):\n",
    "\n",
    "Johnson, B. G., Dittel, J. S., & Van Campenhout, R. (2024). Investigating student ratings with features of automatically generated\n",
    "questions: A large-scale analysis using data from natural learning contexts. In B. Paaßen & C. D. Epp (Eds.), _Proceedings of the 17th\n",
    "International Conference on Educational Data Mining_ (pp. 194–202). International Educational Data Mining Society.\n",
    "https://doi.org/10.5281/zenodo.12729796"
   ]
  },
  {
   "cell_type": "markdown",
   "metadata": {},
   "source": [
    "## Read sessions data set"
   ]
  },
  {
   "cell_type": "code",
   "execution_count": 3,
   "metadata": {
    "ExecuteTime": {
     "end_time": "2024-02-03T16:08:20.646480Z",
     "start_time": "2024-02-03T16:08:07.708872Z"
    }
   },
   "outputs": [
    {
     "data": {
      "text/html": [
       "<div>\n",
       "<style scoped>\n",
       "    .dataframe tbody tr th:only-of-type {\n",
       "        vertical-align: middle;\n",
       "    }\n",
       "\n",
       "    .dataframe tbody tr th {\n",
       "        vertical-align: top;\n",
       "    }\n",
       "\n",
       "    .dataframe thead th {\n",
       "        text-align: right;\n",
       "    }\n",
       "</style>\n",
       "<table border=\"1\" class=\"dataframe\">\n",
       "  <thead>\n",
       "    <tr style=\"text-align: right;\">\n",
       "      <th></th>\n",
       "      <th>student_id</th>\n",
       "      <th>question_id</th>\n",
       "      <th>thumbs_up</th>\n",
       "      <th>thumbs_down</th>\n",
       "      <th>H1_first_correct</th>\n",
       "      <th>H2_cumulative_answered</th>\n",
       "      <th>H3_spelling_suggestion</th>\n",
       "      <th>H4_sentence_textrank_rank</th>\n",
       "      <th>H5_answer_tf_idf_rank</th>\n",
       "      <th>H6_answer_pos</th>\n",
       "      <th>H7_answer_log_probability</th>\n",
       "      <th>H8_answer_location</th>\n",
       "      <th>H9_feedback</th>\n",
       "      <th>H10_reviewed</th>\n",
       "      <th>subject</th>\n",
       "    </tr>\n",
       "  </thead>\n",
       "  <tbody>\n",
       "    <tr>\n",
       "      <th>0</th>\n",
       "      <td>26EFUDCGXGK2R2BMUA65</td>\n",
       "      <td>000005fcee0aca01fd16f0fcaebbd46bbcef1131bdedab...</td>\n",
       "      <td>0</td>\n",
       "      <td>0</td>\n",
       "      <td>0</td>\n",
       "      <td>1</td>\n",
       "      <td>0</td>\n",
       "      <td>0.226576</td>\n",
       "      <td>0.011482</td>\n",
       "      <td>NOUN</td>\n",
       "      <td>-13.244523</td>\n",
       "      <td>9</td>\n",
       "      <td>outcome</td>\n",
       "      <td>0</td>\n",
       "      <td>Political Science</td>\n",
       "    </tr>\n",
       "    <tr>\n",
       "      <th>1</th>\n",
       "      <td>AK53WK5B75TBJXS7MMSM</td>\n",
       "      <td>000005fcee0aca01fd16f0fcaebbd46bbcef1131bdedab...</td>\n",
       "      <td>0</td>\n",
       "      <td>0</td>\n",
       "      <td>0</td>\n",
       "      <td>1</td>\n",
       "      <td>0</td>\n",
       "      <td>0.226576</td>\n",
       "      <td>0.011482</td>\n",
       "      <td>NOUN</td>\n",
       "      <td>-13.244523</td>\n",
       "      <td>9</td>\n",
       "      <td>outcome</td>\n",
       "      <td>0</td>\n",
       "      <td>Political Science</td>\n",
       "    </tr>\n",
       "    <tr>\n",
       "      <th>2</th>\n",
       "      <td>VGEWC8NNTPF6ZNP2XGDM</td>\n",
       "      <td>000005fcee0aca01fd16f0fcaebbd46bbcef1131bdedab...</td>\n",
       "      <td>0</td>\n",
       "      <td>0</td>\n",
       "      <td>0</td>\n",
       "      <td>1</td>\n",
       "      <td>0</td>\n",
       "      <td>0.226576</td>\n",
       "      <td>0.011482</td>\n",
       "      <td>NOUN</td>\n",
       "      <td>-13.244523</td>\n",
       "      <td>9</td>\n",
       "      <td>outcome</td>\n",
       "      <td>0</td>\n",
       "      <td>Political Science</td>\n",
       "    </tr>\n",
       "    <tr>\n",
       "      <th>3</th>\n",
       "      <td>35QFXU45PTMQP8PXPZH8</td>\n",
       "      <td>0000078ca057d9d241313d8e375c22d2f051f9cb344aa8...</td>\n",
       "      <td>0</td>\n",
       "      <td>0</td>\n",
       "      <td>0</td>\n",
       "      <td>1</td>\n",
       "      <td>0</td>\n",
       "      <td>0.401515</td>\n",
       "      <td>0.102564</td>\n",
       "      <td>NOUN</td>\n",
       "      <td>-10.910631</td>\n",
       "      <td>3</td>\n",
       "      <td>outcome</td>\n",
       "      <td>0</td>\n",
       "      <td>Medical</td>\n",
       "    </tr>\n",
       "    <tr>\n",
       "      <th>4</th>\n",
       "      <td>A7868K7YXB2BJKUEV8BS</td>\n",
       "      <td>0000078ca057d9d241313d8e375c22d2f051f9cb344aa8...</td>\n",
       "      <td>0</td>\n",
       "      <td>0</td>\n",
       "      <td>1</td>\n",
       "      <td>1</td>\n",
       "      <td>0</td>\n",
       "      <td>0.401515</td>\n",
       "      <td>0.102564</td>\n",
       "      <td>NOUN</td>\n",
       "      <td>-10.910631</td>\n",
       "      <td>3</td>\n",
       "      <td>outcome</td>\n",
       "      <td>0</td>\n",
       "      <td>Medical</td>\n",
       "    </tr>\n",
       "  </tbody>\n",
       "</table>\n",
       "</div>"
      ],
      "text/plain": [
       "             student_id                                        question_id  \\\n",
       "0  26EFUDCGXGK2R2BMUA65  000005fcee0aca01fd16f0fcaebbd46bbcef1131bdedab...   \n",
       "1  AK53WK5B75TBJXS7MMSM  000005fcee0aca01fd16f0fcaebbd46bbcef1131bdedab...   \n",
       "2  VGEWC8NNTPF6ZNP2XGDM  000005fcee0aca01fd16f0fcaebbd46bbcef1131bdedab...   \n",
       "3  35QFXU45PTMQP8PXPZH8  0000078ca057d9d241313d8e375c22d2f051f9cb344aa8...   \n",
       "4  A7868K7YXB2BJKUEV8BS  0000078ca057d9d241313d8e375c22d2f051f9cb344aa8...   \n",
       "\n",
       "   thumbs_up  thumbs_down  H1_first_correct  H2_cumulative_answered  \\\n",
       "0          0            0                 0                       1   \n",
       "1          0            0                 0                       1   \n",
       "2          0            0                 0                       1   \n",
       "3          0            0                 0                       1   \n",
       "4          0            0                 1                       1   \n",
       "\n",
       "   H3_spelling_suggestion  H4_sentence_textrank_rank  H5_answer_tf_idf_rank  \\\n",
       "0                       0                   0.226576               0.011482   \n",
       "1                       0                   0.226576               0.011482   \n",
       "2                       0                   0.226576               0.011482   \n",
       "3                       0                   0.401515               0.102564   \n",
       "4                       0                   0.401515               0.102564   \n",
       "\n",
       "  H6_answer_pos  H7_answer_log_probability  H8_answer_location H9_feedback  \\\n",
       "0          NOUN                 -13.244523                   9     outcome   \n",
       "1          NOUN                 -13.244523                   9     outcome   \n",
       "2          NOUN                 -13.244523                   9     outcome   \n",
       "3          NOUN                 -10.910631                   3     outcome   \n",
       "4          NOUN                 -10.910631                   3     outcome   \n",
       "\n",
       "   H10_reviewed            subject  \n",
       "0             0  Political Science  \n",
       "1             0  Political Science  \n",
       "2             0  Political Science  \n",
       "3             0            Medical  \n",
       "4             0            Medical  "
      ]
     },
     "execution_count": 3,
     "metadata": {},
     "output_type": "execute_result"
    }
   ],
   "source": [
    "sessions = pd.read_parquet( 'sessions.parquet' )\n",
    "sessions.head()"
   ]
  },
  {
   "attachments": {},
   "cell_type": "markdown",
   "metadata": {},
   "source": [
    "## Exploratory data analysis\n",
    "\n",
    "Total number of sessions, questions, and students."
   ]
  },
  {
   "cell_type": "code",
   "execution_count": 4,
   "metadata": {
    "ExecuteTime": {
     "end_time": "2024-02-03T15:33:58.677977Z",
     "start_time": "2024-02-03T15:33:56.952523Z"
    }
   },
   "outputs": [
    {
     "data": {
      "text/plain": [
       "(5214211, 809848, 432930)"
      ]
     },
     "execution_count": 4,
     "metadata": {},
     "output_type": "execute_result"
    }
   ],
   "source": [
    "len( sessions ), sessions.question_id.nunique(), sessions.student_id.nunique()"
   ]
  },
  {
   "cell_type": "markdown",
   "metadata": {},
   "source": [
    "Total number of ratings and ratings per 1,000 sessions."
   ]
  },
  {
   "cell_type": "code",
   "execution_count": 5,
   "metadata": {
    "ExecuteTime": {
     "end_time": "2024-02-03T15:34:47.670104Z",
     "start_time": "2024-02-03T15:34:47.520823Z"
    }
   },
   "outputs": [
    {
     "data": {
      "text/plain": [
       "thumbs_up      17285\n",
       "thumbs_down    10434\n",
       "dtype: int64"
      ]
     },
     "execution_count": 5,
     "metadata": {},
     "output_type": "execute_result"
    }
   ],
   "source": [
    "sessions[ 'thumbs_up thumbs_down'.split() ].sum()"
   ]
  },
  {
   "cell_type": "code",
   "execution_count": 6,
   "metadata": {},
   "outputs": [
    {
     "data": {
      "text/plain": [
       "thumbs_up      3.31\n",
       "thumbs_down    2.00\n",
       "dtype: float64"
      ]
     },
     "execution_count": 6,
     "metadata": {},
     "output_type": "execute_result"
    }
   ],
   "source": [
    "( sessions[ 'thumbs_up thumbs_down'.split() ].mean() * 1000 ).round( 2 )"
   ]
  },
  {
   "cell_type": "markdown",
   "metadata": {},
   "source": [
    "### Table 3: Ratings per 1,000 sessions for categorical variable levels."
   ]
  },
  {
   "cell_type": "code",
   "execution_count": 7,
   "metadata": {},
   "outputs": [],
   "source": [
    "def ratings_per_1000_sessions( sessions, variable ):\n",
    "    return sessions.groupby( variable ).agg(\n",
    "        sessions=( 'thumbs_up', 'count' ),\n",
    "        thumbs_up=( 'thumbs_up', lambda g: g.mean() * 1000 ),\n",
    "        thumbs_down=( 'thumbs_down', lambda g: g.mean() * 1000 )\n",
    "    ).round( 2 )"
   ]
  },
  {
   "cell_type": "code",
   "execution_count": 8,
   "metadata": {},
   "outputs": [
    {
     "data": {
      "text/html": [
       "<div>\n",
       "<style scoped>\n",
       "    .dataframe tbody tr th:only-of-type {\n",
       "        vertical-align: middle;\n",
       "    }\n",
       "\n",
       "    .dataframe tbody tr th {\n",
       "        vertical-align: top;\n",
       "    }\n",
       "\n",
       "    .dataframe thead th {\n",
       "        text-align: right;\n",
       "    }\n",
       "</style>\n",
       "<table border=\"1\" class=\"dataframe\">\n",
       "  <thead>\n",
       "    <tr style=\"text-align: right;\">\n",
       "      <th></th>\n",
       "      <th>sessions</th>\n",
       "      <th>thumbs_up</th>\n",
       "      <th>thumbs_down</th>\n",
       "    </tr>\n",
       "    <tr>\n",
       "      <th>H1_first_correct</th>\n",
       "      <th></th>\n",
       "      <th></th>\n",
       "      <th></th>\n",
       "    </tr>\n",
       "  </thead>\n",
       "  <tbody>\n",
       "    <tr>\n",
       "      <th>0</th>\n",
       "      <td>2292927</td>\n",
       "      <td>2.91</td>\n",
       "      <td>3.04</td>\n",
       "    </tr>\n",
       "    <tr>\n",
       "      <th>1</th>\n",
       "      <td>2921284</td>\n",
       "      <td>3.63</td>\n",
       "      <td>1.19</td>\n",
       "    </tr>\n",
       "  </tbody>\n",
       "</table>\n",
       "</div>"
      ],
      "text/plain": [
       "                  sessions  thumbs_up  thumbs_down\n",
       "H1_first_correct                                  \n",
       "0                  2292927       2.91         3.04\n",
       "1                  2921284       3.63         1.19"
      ]
     },
     "execution_count": 8,
     "metadata": {},
     "output_type": "execute_result"
    }
   ],
   "source": [
    "ratings_per_1000_sessions( sessions, 'H1_first_correct' )"
   ]
  },
  {
   "cell_type": "code",
   "execution_count": 9,
   "metadata": {},
   "outputs": [
    {
     "data": {
      "text/html": [
       "<div>\n",
       "<style scoped>\n",
       "    .dataframe tbody tr th:only-of-type {\n",
       "        vertical-align: middle;\n",
       "    }\n",
       "\n",
       "    .dataframe tbody tr th {\n",
       "        vertical-align: top;\n",
       "    }\n",
       "\n",
       "    .dataframe thead th {\n",
       "        text-align: right;\n",
       "    }\n",
       "</style>\n",
       "<table border=\"1\" class=\"dataframe\">\n",
       "  <thead>\n",
       "    <tr style=\"text-align: right;\">\n",
       "      <th></th>\n",
       "      <th>sessions</th>\n",
       "      <th>thumbs_up</th>\n",
       "      <th>thumbs_down</th>\n",
       "    </tr>\n",
       "    <tr>\n",
       "      <th>H3_spelling_suggestion</th>\n",
       "      <th></th>\n",
       "      <th></th>\n",
       "      <th></th>\n",
       "    </tr>\n",
       "  </thead>\n",
       "  <tbody>\n",
       "    <tr>\n",
       "      <th>0</th>\n",
       "      <td>4926209</td>\n",
       "      <td>3.30</td>\n",
       "      <td>2.05</td>\n",
       "    </tr>\n",
       "    <tr>\n",
       "      <th>1</th>\n",
       "      <td>288002</td>\n",
       "      <td>3.59</td>\n",
       "      <td>1.12</td>\n",
       "    </tr>\n",
       "  </tbody>\n",
       "</table>\n",
       "</div>"
      ],
      "text/plain": [
       "                        sessions  thumbs_up  thumbs_down\n",
       "H3_spelling_suggestion                                  \n",
       "0                        4926209       3.30         2.05\n",
       "1                         288002       3.59         1.12"
      ]
     },
     "execution_count": 9,
     "metadata": {},
     "output_type": "execute_result"
    }
   ],
   "source": [
    "ratings_per_1000_sessions( sessions, 'H3_spelling_suggestion' )"
   ]
  },
  {
   "cell_type": "code",
   "execution_count": 10,
   "metadata": {},
   "outputs": [
    {
     "data": {
      "text/html": [
       "<div>\n",
       "<style scoped>\n",
       "    .dataframe tbody tr th:only-of-type {\n",
       "        vertical-align: middle;\n",
       "    }\n",
       "\n",
       "    .dataframe tbody tr th {\n",
       "        vertical-align: top;\n",
       "    }\n",
       "\n",
       "    .dataframe thead th {\n",
       "        text-align: right;\n",
       "    }\n",
       "</style>\n",
       "<table border=\"1\" class=\"dataframe\">\n",
       "  <thead>\n",
       "    <tr style=\"text-align: right;\">\n",
       "      <th></th>\n",
       "      <th>sessions</th>\n",
       "      <th>thumbs_up</th>\n",
       "      <th>thumbs_down</th>\n",
       "    </tr>\n",
       "    <tr>\n",
       "      <th>H6_answer_pos</th>\n",
       "      <th></th>\n",
       "      <th></th>\n",
       "      <th></th>\n",
       "    </tr>\n",
       "  </thead>\n",
       "  <tbody>\n",
       "    <tr>\n",
       "      <th>ADJ</th>\n",
       "      <td>1509164</td>\n",
       "      <td>3.38</td>\n",
       "      <td>1.76</td>\n",
       "    </tr>\n",
       "    <tr>\n",
       "      <th>ADV</th>\n",
       "      <td>52541</td>\n",
       "      <td>2.70</td>\n",
       "      <td>5.23</td>\n",
       "    </tr>\n",
       "    <tr>\n",
       "      <th>NOUN</th>\n",
       "      <td>3207347</td>\n",
       "      <td>3.35</td>\n",
       "      <td>1.96</td>\n",
       "    </tr>\n",
       "    <tr>\n",
       "      <th>PROPN</th>\n",
       "      <td>247666</td>\n",
       "      <td>3.01</td>\n",
       "      <td>2.23</td>\n",
       "    </tr>\n",
       "    <tr>\n",
       "      <th>VERB</th>\n",
       "      <td>197493</td>\n",
       "      <td>2.86</td>\n",
       "      <td>3.43</td>\n",
       "    </tr>\n",
       "  </tbody>\n",
       "</table>\n",
       "</div>"
      ],
      "text/plain": [
       "               sessions  thumbs_up  thumbs_down\n",
       "H6_answer_pos                                  \n",
       "ADJ             1509164       3.38         1.76\n",
       "ADV               52541       2.70         5.23\n",
       "NOUN            3207347       3.35         1.96\n",
       "PROPN            247666       3.01         2.23\n",
       "VERB             197493       2.86         3.43"
      ]
     },
     "execution_count": 10,
     "metadata": {},
     "output_type": "execute_result"
    }
   ],
   "source": [
    "ratings_per_1000_sessions( sessions, 'H6_answer_pos' )"
   ]
  },
  {
   "cell_type": "code",
   "execution_count": 11,
   "metadata": {},
   "outputs": [
    {
     "data": {
      "text/html": [
       "<div>\n",
       "<style scoped>\n",
       "    .dataframe tbody tr th:only-of-type {\n",
       "        vertical-align: middle;\n",
       "    }\n",
       "\n",
       "    .dataframe tbody tr th {\n",
       "        vertical-align: top;\n",
       "    }\n",
       "\n",
       "    .dataframe thead th {\n",
       "        text-align: right;\n",
       "    }\n",
       "</style>\n",
       "<table border=\"1\" class=\"dataframe\">\n",
       "  <thead>\n",
       "    <tr style=\"text-align: right;\">\n",
       "      <th></th>\n",
       "      <th>sessions</th>\n",
       "      <th>thumbs_up</th>\n",
       "      <th>thumbs_down</th>\n",
       "    </tr>\n",
       "    <tr>\n",
       "      <th>H9_feedback</th>\n",
       "      <th></th>\n",
       "      <th></th>\n",
       "      <th></th>\n",
       "    </tr>\n",
       "  </thead>\n",
       "  <tbody>\n",
       "    <tr>\n",
       "      <th>common_answer</th>\n",
       "      <td>3299873</td>\n",
       "      <td>3.28</td>\n",
       "      <td>1.68</td>\n",
       "    </tr>\n",
       "    <tr>\n",
       "      <th>context</th>\n",
       "      <td>477814</td>\n",
       "      <td>3.45</td>\n",
       "      <td>2.55</td>\n",
       "    </tr>\n",
       "    <tr>\n",
       "      <th>outcome</th>\n",
       "      <td>1436524</td>\n",
       "      <td>3.35</td>\n",
       "      <td>2.55</td>\n",
       "    </tr>\n",
       "  </tbody>\n",
       "</table>\n",
       "</div>"
      ],
      "text/plain": [
       "               sessions  thumbs_up  thumbs_down\n",
       "H9_feedback                                    \n",
       "common_answer   3299873       3.28         1.68\n",
       "context          477814       3.45         2.55\n",
       "outcome         1436524       3.35         2.55"
      ]
     },
     "execution_count": 11,
     "metadata": {},
     "output_type": "execute_result"
    }
   ],
   "source": [
    "ratings_per_1000_sessions( sessions, 'H9_feedback' )"
   ]
  },
  {
   "cell_type": "code",
   "execution_count": 12,
   "metadata": {},
   "outputs": [
    {
     "data": {
      "text/html": [
       "<div>\n",
       "<style scoped>\n",
       "    .dataframe tbody tr th:only-of-type {\n",
       "        vertical-align: middle;\n",
       "    }\n",
       "\n",
       "    .dataframe tbody tr th {\n",
       "        vertical-align: top;\n",
       "    }\n",
       "\n",
       "    .dataframe thead th {\n",
       "        text-align: right;\n",
       "    }\n",
       "</style>\n",
       "<table border=\"1\" class=\"dataframe\">\n",
       "  <thead>\n",
       "    <tr style=\"text-align: right;\">\n",
       "      <th></th>\n",
       "      <th>sessions</th>\n",
       "      <th>thumbs_up</th>\n",
       "      <th>thumbs_down</th>\n",
       "    </tr>\n",
       "    <tr>\n",
       "      <th>H10_reviewed</th>\n",
       "      <th></th>\n",
       "      <th></th>\n",
       "      <th></th>\n",
       "    </tr>\n",
       "  </thead>\n",
       "  <tbody>\n",
       "    <tr>\n",
       "      <th>0</th>\n",
       "      <td>4915386</td>\n",
       "      <td>3.34</td>\n",
       "      <td>2.03</td>\n",
       "    </tr>\n",
       "    <tr>\n",
       "      <th>1</th>\n",
       "      <td>298825</td>\n",
       "      <td>2.86</td>\n",
       "      <td>1.54</td>\n",
       "    </tr>\n",
       "  </tbody>\n",
       "</table>\n",
       "</div>"
      ],
      "text/plain": [
       "              sessions  thumbs_up  thumbs_down\n",
       "H10_reviewed                                  \n",
       "0              4915386       3.34         2.03\n",
       "1               298825       2.86         1.54"
      ]
     },
     "execution_count": 12,
     "metadata": {},
     "output_type": "execute_result"
    }
   ],
   "source": [
    "ratings_per_1000_sessions( sessions, 'H10_reviewed' )"
   ]
  },
  {
   "cell_type": "markdown",
   "metadata": {},
   "source": [
    "### Figure 4: Ratings per 1,000 sessions for continuous variables."
   ]
  },
  {
   "cell_type": "code",
   "execution_count": 13,
   "metadata": {},
   "outputs": [],
   "source": [
    "def ratings_per_1000_sessions_continuous( sessions, variable ):\n",
    "    sessions.groupby( pd.qcut( sessions[ variable ], 10 ), observed=False ).agg(\n",
    "        thumbs_up=( 'thumbs_up', lambda g: g.mean() * 1000 ),\n",
    "        thumbs_down=( 'thumbs_down', lambda g: g.mean() * 1000 ),\n",
    "    ).plot( figsize=( 9, 6 ), color='g r'.split() )\n",
    "    plt.ylabel( 'Ratings per 1,000 Sessions' )"
   ]
  },
  {
   "cell_type": "code",
   "execution_count": 14,
   "metadata": {},
   "outputs": [
    {
     "data": {
      "image/png": "[encoded data removed]",
      "text/plain": [
       "<Figure size 900x600 with 1 Axes>"
      ]
     },
     "metadata": {},
     "output_type": "display_data"
    }
   ],
   "source": [
    "ratings_per_1000_sessions_continuous( sessions, 'H2_cumulative_answered' )"
   ]
  },
  {
   "cell_type": "code",
   "execution_count": 15,
   "metadata": {},
   "outputs": [
    {
     "data": {
      "image/png": "[encoded data removed]",
      "text/plain": [
       "<Figure size 900x600 with 1 Axes>"
      ]
     },
     "metadata": {},
     "output_type": "display_data"
    }
   ],
   "source": [
    "ratings_per_1000_sessions_continuous( sessions, 'H4_sentence_textrank_rank' )"
   ]
  },
  {
   "cell_type": "code",
   "execution_count": 16,
   "metadata": {},
   "outputs": [
    {
     "data": {
      "image/png": "[encoded data removed]",
      "text/plain": [
       "<Figure size 900x600 with 1 Axes>"
      ]
     },
     "metadata": {},
     "output_type": "display_data"
    }
   ],
   "source": [
    "ratings_per_1000_sessions_continuous( sessions, 'H5_answer_tf_idf_rank' )"
   ]
  },
  {
   "cell_type": "code",
   "execution_count": 17,
   "metadata": {},
   "outputs": [
    {
     "data": {
      "image/png": "[encoded data removed]",
      "text/plain": [
       "<Figure size 900x600 with 1 Axes>"
      ]
     },
     "metadata": {},
     "output_type": "display_data"
    }
   ],
   "source": [
    "ratings_per_1000_sessions_continuous( sessions, 'H7_answer_log_probability' )"
   ]
  },
  {
   "cell_type": "code",
   "execution_count": 18,
   "metadata": {},
   "outputs": [
    {
     "data": {
      "image/png": "[encoded data removed]",
      "text/plain": [
       "<Figure size 900x600 with 1 Axes>"
      ]
     },
     "metadata": {},
     "output_type": "display_data"
    }
   ],
   "source": [
    "ratings_per_1000_sessions_continuous( sessions, 'H8_answer_location' )"
   ]
  },
  {
   "cell_type": "markdown",
   "metadata": {},
   "source": [
    "## Explanatory models\n",
    "\n",
    "Note: Mixed effects regression models that are typically used to address lack of independence in observations in the data set (here, multiple observations per question and per student) are generally much more computationally expensive to fit than ordinary fixed effects models. The data set in this work was too large to run mixed effects regression with random intercepts for both questions and students. It was therefore investigated whether this was essential to obtaining accurate modeling results. It was determined that a mixed effects model with random intercepts either for questions only or students only was sufficient. More details on this issue are discussed in our paper."
   ]
  },
  {
   "cell_type": "code",
   "execution_count": 19,
   "metadata": {
    "ExecuteTime": {
     "end_time": "2024-02-03T16:28:41.697022Z",
     "start_time": "2024-02-03T16:28:41.550833Z"
    }
   },
   "outputs": [
    {
     "data": {
      "text/plain": [
       "Some features are not enabled in this build of Arrow. Run `arrow_info()` for more information.\n",
       "The repository you retrieved Arrow from did not include all of Arrow's features.\n",
       "You can install a fully-featured version by running:\n",
       "`install.packages('arrow', repos = 'https://apache.r-universe.dev')`.\n",
       "\n",
       "Attaching package: ‘arrow’\n",
       "\n",
       "The following object is masked from ‘package:utils’:\n",
       "\n",
       "    timestamp\n",
       "\n"
      ]
     },
     "metadata": {},
     "output_type": "display_data"
    }
   ],
   "source": [
    "%%R\n",
    "library( arrow )\n",
    "library( glmmTMB )"
   ]
  },
  {
   "cell_type": "code",
   "execution_count": 20,
   "metadata": {
    "ExecuteTime": {
     "end_time": "2024-01-30T19:15:31.848705Z",
     "start_time": "2024-01-30T19:12:05.877526Z"
    }
   },
   "outputs": [
    {
     "name": "stdout",
     "output_type": "stream",
     "text": [
      "Classes ‘tbl_df’, ‘tbl’ and 'data.frame':\t5214211 obs. of  15 variables:\n",
      " $ student_id               : chr  \"26EFUDCGXGK2R2BMUA65\" \"AK53WK5B75TBJXS7MMSM\" \"VGEWC8NNTPF6ZNP2XGDM\" \"35QFXU45PTMQP8PXPZH8\" ...\n",
      " $ question_id              : chr  \"000005fcee0aca01fd16f0fcaebbd46bbcef1131bdedab888522e6de2ced78c8\" \"000005fcee0aca01fd16f0fcaebbd46bbcef1131bdedab888522e6de2ced78c8\" \"000005fcee0aca01fd16f0fcaebbd46bbcef1131bdedab888522e6de2ced78c8\" \"0000078ca057d9d241313d8e375c22d2f051f9cb344aa8aeea685d936d138887\" ...\n",
      " $ thumbs_up                : int  0 0 0 0 0 0 0 0 0 0 ...\n",
      " $ thumbs_down              : int  0 0 0 0 0 0 0 0 0 0 ...\n",
      " $ H1_first_correct         : int  0 0 0 0 1 1 1 0 0 1 ...\n",
      " $ H2_cumulative_answered   : int  1 1 1 1 1 1 1 1 1 1 ...\n",
      " $ H3_spelling_suggestion   : int  0 0 0 0 0 0 0 0 0 0 ...\n",
      " $ H4_sentence_textrank_rank: num  0.227 0.227 0.227 0.402 0.402 ...\n",
      " $ H5_answer_tf_idf_rank    : num  0.0115 0.0115 0.0115 0.1026 0.1026 ...\n",
      " $ H6_answer_pos            : chr  \"NOUN\" \"NOUN\" \"NOUN\" \"NOUN\" ...\n",
      " $ H7_answer_log_probability: num  -13.2 -13.2 -13.2 -10.9 -10.9 ...\n",
      " $ H8_answer_location       : int  9 9 9 3 3 3 3 3 3 28 ...\n",
      " $ H9_feedback              : chr  \"outcome\" \"outcome\" \"outcome\" \"outcome\" ...\n",
      " $ H10_reviewed             : int  0 0 0 0 0 0 0 0 0 1 ...\n",
      " $ subject                  : chr  \"Political Science\" \"Political Science\" \"Political Science\" \"Medical\" ...\n"
     ]
    }
   ],
   "source": [
    "%%R\n",
    "sessions <- read_parquet( 'sessions.parquet' )\n",
    "str( sessions )"
   ]
  },
  {
   "cell_type": "markdown",
   "metadata": {},
   "source": [
    "### Table 4a: Thumbs down regression model with random intercept per question."
   ]
  },
  {
   "cell_type": "code",
   "execution_count": 21,
   "metadata": {
    "ExecuteTime": {
     "end_time": "2024-01-30T19:59:40.904583Z",
     "start_time": "2024-01-30T19:58:22.826219Z"
    }
   },
   "outputs": [
    {
     "name": "stdout",
     "output_type": "stream",
     "text": [
      " Family: binomial  ( logit )\n",
      "Formula:          \n",
      "thumbs_down ~ H1_first_correct + H2_cumulative_answered + H3_spelling_suggestion +  \n",
      "    H4_sentence_textrank_rank + H5_answer_tf_idf_rank + H6_answer_pos +  \n",
      "    H7_answer_log_probability + H8_answer_location + H9_feedback +  \n",
      "    H10_reviewed + (1 | question_id)\n",
      "Data: sessions\n",
      "\n",
      "      AIC       BIC    logLik  deviance  df.resid \n",
      " 123126.5  123342.0  -61547.3  123094.5   5214195 \n",
      "\n",
      "Random effects:\n",
      "\n",
      "Conditional model:\n",
      " Groups      Name        Variance Std.Dev.\n",
      " question_id (Intercept) 66.58    8.16    \n",
      "Number of obs: 5214211, groups:  question_id, 809848\n",
      "\n",
      "Conditional model:\n",
      "                            Estimate Std. Error z value Pr(>|z|)    \n",
      "(Intercept)               -10.754672   0.207800  -51.75  < 2e-16 ***\n",
      "H1_first_correct           -0.822344   0.026247  -31.33  < 2e-16 ***\n",
      "H2_cumulative_answered     -0.005909   0.000345  -17.13  < 2e-16 ***\n",
      "H3_spelling_suggestion     -0.466397   0.065762   -7.09 1.32e-12 ***\n",
      "H4_sentence_textrank_rank   0.865750   0.144410    6.00 2.03e-09 ***\n",
      "H5_answer_tf_idf_rank       0.491981   0.127822    3.85 0.000119 ***\n",
      "H6_answer_posADV            0.890558   0.200036    4.45 8.51e-06 ***\n",
      "H6_answer_posNOUN           0.149936   0.064973    2.31 0.021018 *  \n",
      "H6_answer_posPROPN          0.484320   0.131853    3.67 0.000240 ***\n",
      "H6_answer_posVERB           0.636542   0.129427    4.92 8.74e-07 ***\n",
      "H7_answer_log_probability   0.066725   0.014823    4.50 6.75e-06 ***\n",
      "H8_answer_location         -0.010346   0.003385   -3.06 0.002238 ** \n",
      "H9_feedbackcontext          0.267587   0.091569    2.92 0.003475 ** \n",
      "H9_feedbackoutcome          0.162960   0.068169    2.39 0.016824 *  \n",
      "H10_reviewed               -0.158585   0.135980   -1.17 0.243518    \n",
      "---\n",
      "Signif. codes:  0 ‘***’ 0.001 ‘**’ 0.01 ‘*’ 0.05 ‘.’ 0.1 ‘ ’ 1\n"
     ]
    }
   ],
   "source": [
    "%%R\n",
    "model.thumbs_down.q_intcp <- glmmTMB( thumbs_down ~ H1_first_correct\n",
    "                                                  + H2_cumulative_answered\n",
    "                                                  + H3_spelling_suggestion\n",
    "                                                  + H4_sentence_textrank_rank\n",
    "                                                  + H5_answer_tf_idf_rank\n",
    "                                                  + H6_answer_pos\n",
    "                                                  + H7_answer_log_probability\n",
    "                                                  + H8_answer_location\n",
    "                                                  + H9_feedback\n",
    "                                                  + H10_reviewed\n",
    "                                                  + (1|question_id),\n",
    "                                                  family=binomial(link=logit), data=sessions )\n",
    "summary( model.thumbs_down.q_intcp )"
   ]
  },
  {
   "cell_type": "markdown",
   "metadata": {},
   "source": [
    "Odds ratios are obtained by exponentiating the model coefficients."
   ]
  },
  {
   "cell_type": "code",
   "execution_count": 22,
   "metadata": {},
   "outputs": [
    {
     "name": "stdout",
     "output_type": "stream",
     "text": [
      "                                    OR\n",
      "(Intercept)               2.134546e-05\n",
      "H1_first_correct          4.394005e-01\n",
      "H2_cumulative_answered    9.941080e-01\n",
      "H3_spelling_suggestion    6.272580e-01\n",
      "H4_sentence_textrank_rank 2.376787e+00\n",
      "H5_answer_tf_idf_rank     1.635553e+00\n",
      "H6_answer_posADV          2.436488e+00\n",
      "H6_answer_posNOUN         1.161760e+00\n",
      "H6_answer_posPROPN        1.623071e+00\n",
      "H6_answer_posVERB         1.889934e+00\n",
      "H7_answer_log_probability 1.069001e+00\n",
      "H8_answer_location        9.897070e-01\n",
      "H9_feedbackcontext        1.306807e+00\n",
      "H9_feedbackoutcome        1.176990e+00\n",
      "H10_reviewed              8.533507e-01\n"
     ]
    }
   ],
   "source": [
    "%%R\n",
    "exp( cbind( OR=fixef( model.thumbs_down.q_intcp )$cond ) )"
   ]
  },
  {
   "cell_type": "markdown",
   "metadata": {},
   "source": [
    "### Table 4b: Thumbs down regression model with random intercept per student."
   ]
  },
  {
   "cell_type": "code",
   "execution_count": 23,
   "metadata": {
    "ExecuteTime": {
     "end_time": "2024-01-30T19:59:40.904583Z",
     "start_time": "2024-01-30T19:58:22.826219Z"
    }
   },
   "outputs": [
    {
     "name": "stdout",
     "output_type": "stream",
     "text": [
      " Family: binomial  ( logit )\n",
      "Formula:          \n",
      "thumbs_down ~ H1_first_correct + H2_cumulative_answered + H3_spelling_suggestion +  \n",
      "    H4_sentence_textrank_rank + H5_answer_tf_idf_rank + H6_answer_pos +  \n",
      "    H7_answer_log_probability + H8_answer_location + H9_feedback +  \n",
      "    H10_reviewed + (1 | student_id)\n",
      "Data: sessions\n",
      "\n",
      "      AIC       BIC    logLik  deviance  df.resid \n",
      " 101357.5  101572.9  -50662.7  101325.5   5214195 \n",
      "\n",
      "Random effects:\n",
      "\n",
      "Conditional model:\n",
      " Groups     Name        Variance Std.Dev.\n",
      " student_id (Intercept) 93.14    9.651   \n",
      "Number of obs: 5214211, groups:  student_id, 432930\n",
      "\n",
      "Conditional model:\n",
      "                            Estimate Std. Error z value Pr(>|z|)    \n",
      "(Intercept)               -1.128e+01  1.062e-01 -106.20  < 2e-16 ***\n",
      "H1_first_correct          -1.224e+00  2.692e-02  -45.47  < 2e-16 ***\n",
      "H2_cumulative_answered    -2.305e-03  3.583e-04   -6.43 1.24e-10 ***\n",
      "H3_spelling_suggestion    -3.139e-01  6.606e-02   -4.75 2.02e-06 ***\n",
      "H4_sentence_textrank_rank  1.189e+00  6.394e-02   18.59  < 2e-16 ***\n",
      "H5_answer_tf_idf_rank      7.148e-01  5.638e-02   12.68  < 2e-16 ***\n",
      "H6_answer_posADV           1.129e+00  8.165e-02   13.82  < 2e-16 ***\n",
      "H6_answer_posNOUN          2.093e-01  2.864e-02    7.31 2.70e-13 ***\n",
      "H6_answer_posPROPN         7.499e-01  6.091e-02   12.31  < 2e-16 ***\n",
      "H6_answer_posVERB          8.118e-01  5.551e-02   14.62  < 2e-16 ***\n",
      "H7_answer_log_probability  1.092e-01  6.729e-03   16.23  < 2e-16 ***\n",
      "H8_answer_location        -1.415e-02  1.499e-03   -9.44  < 2e-16 ***\n",
      "H9_feedbackcontext         1.852e-01  4.595e-02    4.03 5.54e-05 ***\n",
      "H9_feedbackoutcome         2.732e-01  3.051e-02    8.96  < 2e-16 ***\n",
      "H10_reviewed              -5.146e-02  5.942e-02   -0.87    0.386    \n",
      "---\n",
      "Signif. codes:  0 ‘***’ 0.001 ‘**’ 0.01 ‘*’ 0.05 ‘.’ 0.1 ‘ ’ 1\n"
     ]
    }
   ],
   "source": [
    "%%R\n",
    "model.thumbs_down.s_intcp <- glmmTMB( thumbs_down ~ H1_first_correct\n",
    "                                                  + H2_cumulative_answered\n",
    "                                                  + H3_spelling_suggestion\n",
    "                                                  + H4_sentence_textrank_rank\n",
    "                                                  + H5_answer_tf_idf_rank\n",
    "                                                  + H6_answer_pos\n",
    "                                                  + H7_answer_log_probability\n",
    "                                                  + H8_answer_location\n",
    "                                                  + H9_feedback\n",
    "                                                  + H10_reviewed\n",
    "                                                  + (1|student_id),\n",
    "                                                  family=binomial(link=logit), data=sessions )\n",
    "summary( model.thumbs_down.s_intcp )"
   ]
  },
  {
   "cell_type": "code",
   "execution_count": 24,
   "metadata": {},
   "outputs": [
    {
     "name": "stdout",
     "output_type": "stream",
     "text": [
      "                                    OR\n",
      "(Intercept)               1.261084e-05\n",
      "H1_first_correct          2.940352e-01\n",
      "H2_cumulative_answered    9.976972e-01\n",
      "H3_spelling_suggestion    7.306041e-01\n",
      "H4_sentence_textrank_rank 3.282727e+00\n",
      "H5_answer_tf_idf_rank     2.043831e+00\n",
      "H6_answer_posADV          3.091070e+00\n",
      "H6_answer_posNOUN         1.232843e+00\n",
      "H6_answer_posPROPN        2.116725e+00\n",
      "H6_answer_posVERB         2.251909e+00\n",
      "H7_answer_log_probability 1.115428e+00\n",
      "H8_answer_location        9.859525e-01\n",
      "H9_feedbackcontext        1.203511e+00\n",
      "H9_feedbackoutcome        1.314225e+00\n",
      "H10_reviewed              9.498443e-01\n"
     ]
    }
   ],
   "source": [
    "%%R\n",
    "exp( cbind( OR=fixef( model.thumbs_down.s_intcp )$cond ) )"
   ]
  },
  {
   "cell_type": "markdown",
   "metadata": {},
   "source": [
    "### Table 5a: Thumbs up regression model with random intercept per question."
   ]
  },
  {
   "cell_type": "code",
   "execution_count": 25,
   "metadata": {
    "ExecuteTime": {
     "end_time": "2024-01-30T19:59:40.904583Z",
     "start_time": "2024-01-30T19:58:22.826219Z"
    }
   },
   "outputs": [
    {
     "name": "stdout",
     "output_type": "stream",
     "text": [
      " Family: binomial  ( logit )\n",
      "Formula:          \n",
      "thumbs_up ~ H1_first_correct + H2_cumulative_answered + H3_spelling_suggestion +  \n",
      "    H4_sentence_textrank_rank + H5_answer_tf_idf_rank + H6_answer_pos +  \n",
      "    H7_answer_log_probability + H8_answer_location + H9_feedback +  \n",
      "    H10_reviewed + (1 | question_id)\n",
      "Data: sessions\n",
      "\n",
      "      AIC       BIC    logLik  deviance  df.resid \n",
      " 210442.6  210658.0 -105205.3  210410.6   5214195 \n",
      "\n",
      "Random effects:\n",
      "\n",
      "Conditional model:\n",
      " Groups      Name        Variance Std.Dev.\n",
      " question_id (Intercept) 46.5     6.819   \n",
      "Number of obs: 5214211, groups:  question_id, 809848\n",
      "\n",
      "Conditional model:\n",
      "                            Estimate Std. Error z value Pr(>|z|)    \n",
      "(Intercept)               -1.117e+01  1.469e-01  -76.05  < 2e-16 ***\n",
      "H1_first_correct           2.747e-01  1.865e-02   14.73  < 2e-16 ***\n",
      "H2_cumulative_answered    -4.120e-04  1.523e-04   -2.71  0.00682 ** \n",
      "H3_spelling_suggestion     4.730e-02  3.719e-02    1.27  0.20347    \n",
      "H4_sentence_textrank_rank  4.387e-02  1.099e-01    0.40  0.68985    \n",
      "H5_answer_tf_idf_rank     -1.371e-01  1.121e-01   -1.22  0.22108    \n",
      "H6_answer_posADV          -2.301e-01  2.317e-01   -0.99  0.32081    \n",
      "H6_answer_posNOUN         -2.127e-02  4.575e-02   -0.47  0.64192    \n",
      "H6_answer_posPROPN        -1.520e-01  1.023e-01   -1.49  0.13743    \n",
      "H6_answer_posVERB         -1.587e-01  1.184e-01   -1.34  0.18012    \n",
      "H7_answer_log_probability -3.278e-02  1.003e-02   -3.27  0.00108 ** \n",
      "H8_answer_location        -2.653e-03  2.392e-03   -1.11  0.26748    \n",
      "H9_feedbackcontext         1.175e-01  7.038e-02    1.67  0.09506 .  \n",
      "H9_feedbackoutcome         1.298e-02  5.197e-02    0.25  0.80284    \n",
      "H10_reviewed              -1.502e-01  9.548e-02   -1.57  0.11581    \n",
      "---\n",
      "Signif. codes:  0 ‘***’ 0.001 ‘**’ 0.01 ‘*’ 0.05 ‘.’ 0.1 ‘ ’ 1\n"
     ]
    }
   ],
   "source": [
    "%%R\n",
    "model.thumbs_up.q_intcp <- glmmTMB( thumbs_up ~ H1_first_correct\n",
    "                                              + H2_cumulative_answered\n",
    "                                              + H3_spelling_suggestion\n",
    "                                              + H4_sentence_textrank_rank\n",
    "                                              + H5_answer_tf_idf_rank\n",
    "                                              + H6_answer_pos\n",
    "                                              + H7_answer_log_probability\n",
    "                                              + H8_answer_location\n",
    "                                              + H9_feedback\n",
    "                                              + H10_reviewed\n",
    "                                              + (1|question_id),\n",
    "                                              family=binomial(link=logit), data=sessions )\n",
    "summary( model.thumbs_up.q_intcp )"
   ]
  },
  {
   "cell_type": "code",
   "execution_count": 26,
   "metadata": {},
   "outputs": [
    {
     "name": "stdout",
     "output_type": "stream",
     "text": [
      "                                    OR\n",
      "(Intercept)               1.408699e-05\n",
      "H1_first_correct          1.316082e+00\n",
      "H2_cumulative_answered    9.995881e-01\n",
      "H3_spelling_suggestion    1.048439e+00\n",
      "H4_sentence_textrank_rank 1.044841e+00\n",
      "H5_answer_tf_idf_rank     8.718668e-01\n",
      "H6_answer_posADV          7.944863e-01\n",
      "H6_answer_posNOUN         9.789502e-01\n",
      "H6_answer_posPROPN        8.590133e-01\n",
      "H6_answer_posVERB         8.532239e-01\n",
      "H7_answer_log_probability 9.677473e-01\n",
      "H8_answer_location        9.973508e-01\n",
      "H9_feedbackcontext        1.124672e+00\n",
      "H9_feedbackoutcome        1.013060e+00\n",
      "H10_reviewed              8.605770e-01\n"
     ]
    }
   ],
   "source": [
    "%%R\n",
    "exp( cbind( OR=fixef( model.thumbs_up.q_intcp )$cond ) )"
   ]
  },
  {
   "cell_type": "markdown",
   "metadata": {},
   "source": [
    "### Table 5b: Thumbs up regression model with random intercept per student."
   ]
  },
  {
   "cell_type": "code",
   "execution_count": 27,
   "metadata": {
    "ExecuteTime": {
     "end_time": "2024-01-30T19:59:40.904583Z",
     "start_time": "2024-01-30T19:58:22.826219Z"
    }
   },
   "outputs": [
    {
     "name": "stdout",
     "output_type": "stream",
     "text": [
      " Family: binomial  ( logit )\n",
      "Formula:          \n",
      "thumbs_up ~ H1_first_correct + H2_cumulative_answered + H3_spelling_suggestion +  \n",
      "    H4_sentence_textrank_rank + H5_answer_tf_idf_rank + H6_answer_pos +  \n",
      "    H7_answer_log_probability + H8_answer_location + H9_feedback +  \n",
      "    H10_reviewed + (1 | student_id)\n",
      "Data: sessions\n",
      "\n",
      "      AIC       BIC    logLik  deviance  df.resid \n",
      " 139416.3  139631.8  -69692.2  139384.3   5214195 \n",
      "\n",
      "Random effects:\n",
      "\n",
      "Conditional model:\n",
      " Groups     Name        Variance Std.Dev.\n",
      " student_id (Intercept) 91.54    9.568   \n",
      "Number of obs: 5214211, groups:  student_id, 432930\n",
      "\n",
      "Conditional model:\n",
      "                            Estimate Std. Error z value Pr(>|z|)    \n",
      "(Intercept)               -12.759371   0.087332 -146.10  < 2e-16 ***\n",
      "H1_first_correct            0.350228   0.021698   16.14  < 2e-16 ***\n",
      "H2_cumulative_answered     -0.001697   0.000255   -6.65 2.86e-11 ***\n",
      "H3_spelling_suggestion      0.007810   0.041108    0.19 0.849318    \n",
      "H4_sentence_textrank_rank   0.177596   0.053704    3.31 0.000943 ***\n",
      "H5_answer_tf_idf_rank      -0.124541   0.054791   -2.27 0.023025 *  \n",
      "H6_answer_posADV           -0.125910   0.103658   -1.21 0.224491    \n",
      "H6_answer_posNOUN          -0.029528   0.022003   -1.34 0.179602    \n",
      "H6_answer_posPROPN         -0.169891   0.051782   -3.28 0.001035 ** \n",
      "H6_answer_posVERB          -0.171408   0.056694   -3.02 0.002500 ** \n",
      "H7_answer_log_probability  -0.028896   0.005019   -5.76 8.57e-09 ***\n",
      "H8_answer_location         -0.003341   0.001156   -2.89 0.003846 ** \n",
      "H9_feedbackcontext          0.031561   0.038464    0.82 0.411921    \n",
      "H9_feedbackoutcome          0.041319   0.025266    1.64 0.101968    \n",
      "H10_reviewed               -0.057286   0.045173   -1.27 0.204751    \n",
      "---\n",
      "Signif. codes:  0 ‘***’ 0.001 ‘**’ 0.01 ‘*’ 0.05 ‘.’ 0.1 ‘ ’ 1\n"
     ]
    }
   ],
   "source": [
    "%%R\n",
    "model.thumbs_up.s_intcp <- glmmTMB( thumbs_up ~ H1_first_correct\n",
    "                                              + H2_cumulative_answered\n",
    "                                              + H3_spelling_suggestion\n",
    "                                              + H4_sentence_textrank_rank\n",
    "                                              + H5_answer_tf_idf_rank\n",
    "                                              + H6_answer_pos\n",
    "                                              + H7_answer_log_probability\n",
    "                                              + H8_answer_location\n",
    "                                              + H9_feedback\n",
    "                                              + H10_reviewed\n",
    "                                              + (1|student_id),\n",
    "                                              family=binomial(link=logit), data=sessions )\n",
    "summary( model.thumbs_up.s_intcp )"
   ]
  },
  {
   "cell_type": "code",
   "execution_count": 28,
   "metadata": {},
   "outputs": [
    {
     "name": "stdout",
     "output_type": "stream",
     "text": [
      "                                    OR\n",
      "(Intercept)               2.875250e-06\n",
      "H1_first_correct          1.419391e+00\n",
      "H2_cumulative_answered    9.983046e-01\n",
      "H3_spelling_suggestion    1.007841e+00\n",
      "H4_sentence_textrank_rank 1.194343e+00\n",
      "H5_answer_tf_idf_rank     8.829023e-01\n",
      "H6_answer_posADV          8.816940e-01\n",
      "H6_answer_posNOUN         9.709034e-01\n",
      "H6_answer_posPROPN        8.437571e-01\n",
      "H6_answer_posVERB         8.424778e-01\n",
      "H7_answer_log_probability 9.715174e-01\n",
      "H8_answer_location        9.966644e-01\n",
      "H9_feedbackcontext        1.032064e+00\n",
      "H9_feedbackoutcome        1.042185e+00\n",
      "H10_reviewed              9.443240e-01\n"
     ]
    }
   ],
   "source": [
    "%%R\n",
    "exp( cbind( OR=fixef( model.thumbs_up.s_intcp )$cond ) )"
   ]
  },
  {
   "cell_type": "markdown",
   "metadata": {},
   "source": [
    "### Table 6: Bayesian information criterion decreases for single-variable thumbs down models."
   ]
  },
  {
   "cell_type": "code",
   "execution_count": 29,
   "metadata": {
    "ExecuteTime": {
     "end_time": "2024-01-30T19:59:41.051892Z",
     "start_time": "2024-01-30T19:59:40.917142Z"
    }
   },
   "outputs": [
    {
     "name": "stdout",
     "output_type": "stream",
     "text": [
      "[1] 150537.9\n"
     ]
    }
   ],
   "source": [
    "%%R\n",
    "model <- glm( thumbs_down ~ 1,\n",
    "              family=binomial(link=logit), data=sessions )\n",
    "bic_intercept <- BIC( model )\n",
    "bic_intercept"
   ]
  },
  {
   "cell_type": "code",
   "execution_count": 30,
   "metadata": {},
   "outputs": [
    {
     "name": "stdout",
     "output_type": "stream",
     "text": [
      "[1] -2190.152\n"
     ]
    }
   ],
   "source": [
    "%%R\n",
    "model <- glm( thumbs_down ~ H1_first_correct,\n",
    "              family=binomial(link=logit), data=sessions )\n",
    "BIC( model ) - bic_intercept"
   ]
  },
  {
   "cell_type": "code",
   "execution_count": 31,
   "metadata": {},
   "outputs": [
    {
     "name": "stdout",
     "output_type": "stream",
     "text": [
      "[1] -1187.513\n"
     ]
    }
   ],
   "source": [
    "%%R\n",
    "model <- glm( thumbs_down ~ H2_cumulative_answered,\n",
    "              family=binomial(link=logit), data=sessions )\n",
    "BIC( model ) - bic_intercept"
   ]
  },
  {
   "cell_type": "code",
   "execution_count": 32,
   "metadata": {},
   "outputs": [
    {
     "name": "stdout",
     "output_type": "stream",
     "text": [
      "[1] -125.0295\n"
     ]
    }
   ],
   "source": [
    "%%R\n",
    "model <- glm( thumbs_down ~ H3_spelling_suggestion,\n",
    "              family=binomial(link=logit), data=sessions )\n",
    "BIC( model ) - bic_intercept"
   ]
  },
  {
   "cell_type": "code",
   "execution_count": 33,
   "metadata": {},
   "outputs": [
    {
     "name": "stdout",
     "output_type": "stream",
     "text": [
      "[1] -480.3125\n"
     ]
    }
   ],
   "source": [
    "%%R\n",
    "model <- glm( thumbs_down ~ H4_sentence_textrank_rank,\n",
    "              family=binomial(link=logit), data=sessions )\n",
    "BIC( model ) - bic_intercept"
   ]
  },
  {
   "cell_type": "code",
   "execution_count": 34,
   "metadata": {},
   "outputs": [
    {
     "name": "stdout",
     "output_type": "stream",
     "text": [
      "[1] -512.15\n"
     ]
    }
   ],
   "source": [
    "%%R\n",
    "model <- glm( thumbs_down ~ H5_answer_tf_idf_rank,\n",
    "              family=binomial(link=logit), data=sessions )\n",
    "BIC( model ) - bic_intercept"
   ]
  },
  {
   "cell_type": "code",
   "execution_count": 35,
   "metadata": {},
   "outputs": [
    {
     "name": "stdout",
     "output_type": "stream",
     "text": [
      "[1] -351.3891\n"
     ]
    }
   ],
   "source": [
    "%%R\n",
    "model <- glm( thumbs_down ~ H6_answer_pos,\n",
    "              family=binomial(link=logit), data=sessions )\n",
    "BIC( model ) - bic_intercept"
   ]
  },
  {
   "cell_type": "code",
   "execution_count": 36,
   "metadata": {},
   "outputs": [
    {
     "name": "stdout",
     "output_type": "stream",
     "text": [
      "[1] -100.0393\n"
     ]
    }
   ],
   "source": [
    "%%R\n",
    "model <- glm( thumbs_down ~ H7_answer_log_probability,\n",
    "              family=binomial(link=logit), data=sessions )\n",
    "BIC( model ) - bic_intercept"
   ]
  },
  {
   "cell_type": "code",
   "execution_count": 37,
   "metadata": {},
   "outputs": [
    {
     "name": "stdout",
     "output_type": "stream",
     "text": [
      "[1] -74.98732\n"
     ]
    }
   ],
   "source": [
    "%%R\n",
    "model <- glm( thumbs_down ~ H8_answer_location,\n",
    "              family=binomial(link=logit), data=sessions )\n",
    "BIC( model ) - bic_intercept"
   ]
  },
  {
   "cell_type": "code",
   "execution_count": 38,
   "metadata": {},
   "outputs": [
    {
     "name": "stdout",
     "output_type": "stream",
     "text": [
      "[1] -414.7528\n"
     ]
    }
   ],
   "source": [
    "%%R\n",
    "model <- glm( thumbs_down ~ H9_feedback,\n",
    "              family=binomial(link=logit), data=sessions )\n",
    "BIC( model ) - bic_intercept"
   ]
  },
  {
   "cell_type": "code",
   "execution_count": 39,
   "metadata": {},
   "outputs": [
    {
     "name": "stdout",
     "output_type": "stream",
     "text": [
      "[1] -20.58677\n"
     ]
    }
   ],
   "source": [
    "%%R\n",
    "model <- glm( thumbs_down ~ H10_reviewed,\n",
    "              family=binomial(link=logit), data=sessions )\n",
    "BIC( model ) - bic_intercept"
   ]
  },
  {
   "cell_type": "markdown",
   "metadata": {},
   "source": [
    "## Analysis by Subject"
   ]
  },
  {
   "cell_type": "markdown",
   "metadata": {},
   "source": [
    "Filter data set to subjects having at least 50 thumbs down ratings as described in the paper."
   ]
  },
  {
   "cell_type": "code",
   "execution_count": 40,
   "metadata": {},
   "outputs": [],
   "source": [
    "top_subjects = sessions.groupby( 'subject' ).thumbs_down.sum().sort_values( ascending=False )\n",
    "top_subjects = top_subjects[ top_subjects >= 50 ].index\n",
    "top_subjects_sessions = sessions[ sessions.subject.isin( top_subjects ) ]\n",
    "top_subjects_sessions.to_parquet( 'top_subjects_sessions.parquet', index=False )"
   ]
  },
  {
   "cell_type": "markdown",
   "metadata": {},
   "source": [
    "### Table 7: The data set organized by the 17 selected subjects."
   ]
  },
  {
   "cell_type": "code",
   "execution_count": 41,
   "metadata": {},
   "outputs": [
    {
     "data": {
      "text/html": [
       "<div>\n",
       "<style scoped>\n",
       "    .dataframe tbody tr th:only-of-type {\n",
       "        vertical-align: middle;\n",
       "    }\n",
       "\n",
       "    .dataframe tbody tr th {\n",
       "        vertical-align: top;\n",
       "    }\n",
       "\n",
       "    .dataframe thead th {\n",
       "        text-align: right;\n",
       "    }\n",
       "</style>\n",
       "<table border=\"1\" class=\"dataframe\">\n",
       "  <thead>\n",
       "    <tr style=\"text-align: right;\">\n",
       "      <th></th>\n",
       "      <th>percentage</th>\n",
       "      <th>sessions</th>\n",
       "      <th>questions</th>\n",
       "      <th>students</th>\n",
       "      <th>thumbs_up</th>\n",
       "      <th>thumbs_down</th>\n",
       "    </tr>\n",
       "    <tr>\n",
       "      <th>subject</th>\n",
       "      <th></th>\n",
       "      <th></th>\n",
       "      <th></th>\n",
       "      <th></th>\n",
       "      <th></th>\n",
       "      <th></th>\n",
       "    </tr>\n",
       "  </thead>\n",
       "  <tbody>\n",
       "    <tr>\n",
       "      <th>Medical</th>\n",
       "      <td>15.9</td>\n",
       "      <td>826582</td>\n",
       "      <td>131904</td>\n",
       "      <td>81993</td>\n",
       "      <td>3475</td>\n",
       "      <td>1556</td>\n",
       "    </tr>\n",
       "    <tr>\n",
       "      <th>Business &amp; Economics</th>\n",
       "      <td>15.2</td>\n",
       "      <td>794750</td>\n",
       "      <td>130246</td>\n",
       "      <td>70747</td>\n",
       "      <td>2358</td>\n",
       "      <td>1616</td>\n",
       "    </tr>\n",
       "    <tr>\n",
       "      <th>Psychology</th>\n",
       "      <td>13.8</td>\n",
       "      <td>717593</td>\n",
       "      <td>87001</td>\n",
       "      <td>49774</td>\n",
       "      <td>2046</td>\n",
       "      <td>1688</td>\n",
       "    </tr>\n",
       "    <tr>\n",
       "      <th>Education</th>\n",
       "      <td>10.0</td>\n",
       "      <td>519659</td>\n",
       "      <td>80466</td>\n",
       "      <td>44838</td>\n",
       "      <td>1411</td>\n",
       "      <td>1041</td>\n",
       "    </tr>\n",
       "    <tr>\n",
       "      <th>Social Science</th>\n",
       "      <td>9.2</td>\n",
       "      <td>479094</td>\n",
       "      <td>90403</td>\n",
       "      <td>45336</td>\n",
       "      <td>1323</td>\n",
       "      <td>953</td>\n",
       "    </tr>\n",
       "    <tr>\n",
       "      <th>Political Science</th>\n",
       "      <td>5.2</td>\n",
       "      <td>272626</td>\n",
       "      <td>39771</td>\n",
       "      <td>20318</td>\n",
       "      <td>562</td>\n",
       "      <td>390</td>\n",
       "    </tr>\n",
       "    <tr>\n",
       "      <th>Computers</th>\n",
       "      <td>3.9</td>\n",
       "      <td>205890</td>\n",
       "      <td>28758</td>\n",
       "      <td>18261</td>\n",
       "      <td>651</td>\n",
       "      <td>693</td>\n",
       "    </tr>\n",
       "    <tr>\n",
       "      <th>Science</th>\n",
       "      <td>3.8</td>\n",
       "      <td>198452</td>\n",
       "      <td>32694</td>\n",
       "      <td>27432</td>\n",
       "      <td>652</td>\n",
       "      <td>436</td>\n",
       "    </tr>\n",
       "    <tr>\n",
       "      <th>Language Arts &amp; Disciplines</th>\n",
       "      <td>3.8</td>\n",
       "      <td>195598</td>\n",
       "      <td>22489</td>\n",
       "      <td>14103</td>\n",
       "      <td>364</td>\n",
       "      <td>287</td>\n",
       "    </tr>\n",
       "    <tr>\n",
       "      <th>Law</th>\n",
       "      <td>2.4</td>\n",
       "      <td>123476</td>\n",
       "      <td>33076</td>\n",
       "      <td>12058</td>\n",
       "      <td>333</td>\n",
       "      <td>254</td>\n",
       "    </tr>\n",
       "    <tr>\n",
       "      <th>Religion</th>\n",
       "      <td>1.7</td>\n",
       "      <td>89289</td>\n",
       "      <td>10254</td>\n",
       "      <td>7034</td>\n",
       "      <td>400</td>\n",
       "      <td>91</td>\n",
       "    </tr>\n",
       "    <tr>\n",
       "      <th>Health &amp; Fitness</th>\n",
       "      <td>1.6</td>\n",
       "      <td>82544</td>\n",
       "      <td>12611</td>\n",
       "      <td>6790</td>\n",
       "      <td>216</td>\n",
       "      <td>137</td>\n",
       "    </tr>\n",
       "    <tr>\n",
       "      <th>Technology &amp; Engineering</th>\n",
       "      <td>1.3</td>\n",
       "      <td>67081</td>\n",
       "      <td>15724</td>\n",
       "      <td>8274</td>\n",
       "      <td>254</td>\n",
       "      <td>162</td>\n",
       "    </tr>\n",
       "    <tr>\n",
       "      <th>Sports &amp; Recreation</th>\n",
       "      <td>1.0</td>\n",
       "      <td>53583</td>\n",
       "      <td>5503</td>\n",
       "      <td>4338</td>\n",
       "      <td>174</td>\n",
       "      <td>96</td>\n",
       "    </tr>\n",
       "    <tr>\n",
       "      <th>History</th>\n",
       "      <td>0.7</td>\n",
       "      <td>36585</td>\n",
       "      <td>10912</td>\n",
       "      <td>4329</td>\n",
       "      <td>70</td>\n",
       "      <td>50</td>\n",
       "    </tr>\n",
       "    <tr>\n",
       "      <th>Family &amp; Relationships</th>\n",
       "      <td>0.7</td>\n",
       "      <td>34194</td>\n",
       "      <td>2999</td>\n",
       "      <td>2552</td>\n",
       "      <td>77</td>\n",
       "      <td>70</td>\n",
       "    </tr>\n",
       "    <tr>\n",
       "      <th>Philosophy</th>\n",
       "      <td>0.3</td>\n",
       "      <td>17399</td>\n",
       "      <td>4124</td>\n",
       "      <td>2772</td>\n",
       "      <td>93</td>\n",
       "      <td>53</td>\n",
       "    </tr>\n",
       "  </tbody>\n",
       "</table>\n",
       "</div>"
      ],
      "text/plain": [
       "                             percentage  sessions  questions  students  \\\n",
       "subject                                                                  \n",
       "Medical                            15.9    826582     131904     81993   \n",
       "Business & Economics               15.2    794750     130246     70747   \n",
       "Psychology                         13.8    717593      87001     49774   \n",
       "Education                          10.0    519659      80466     44838   \n",
       "Social Science                      9.2    479094      90403     45336   \n",
       "Political Science                   5.2    272626      39771     20318   \n",
       "Computers                           3.9    205890      28758     18261   \n",
       "Science                             3.8    198452      32694     27432   \n",
       "Language Arts & Disciplines         3.8    195598      22489     14103   \n",
       "Law                                 2.4    123476      33076     12058   \n",
       "Religion                            1.7     89289      10254      7034   \n",
       "Health & Fitness                    1.6     82544      12611      6790   \n",
       "Technology & Engineering            1.3     67081      15724      8274   \n",
       "Sports & Recreation                 1.0     53583       5503      4338   \n",
       "History                             0.7     36585      10912      4329   \n",
       "Family & Relationships              0.7     34194       2999      2552   \n",
       "Philosophy                          0.3     17399       4124      2772   \n",
       "\n",
       "                             thumbs_up  thumbs_down  \n",
       "subject                                              \n",
       "Medical                           3475         1556  \n",
       "Business & Economics              2358         1616  \n",
       "Psychology                        2046         1688  \n",
       "Education                         1411         1041  \n",
       "Social Science                    1323          953  \n",
       "Political Science                  562          390  \n",
       "Computers                          651          693  \n",
       "Science                            652          436  \n",
       "Language Arts & Disciplines        364          287  \n",
       "Law                                333          254  \n",
       "Religion                           400           91  \n",
       "Health & Fitness                   216          137  \n",
       "Technology & Engineering           254          162  \n",
       "Sports & Recreation                174           96  \n",
       "History                             70           50  \n",
       "Family & Relationships              77           70  \n",
       "Philosophy                          93           53  "
      ]
     },
     "execution_count": 41,
     "metadata": {},
     "output_type": "execute_result"
    }
   ],
   "source": [
    "top_subjects_stats = pd.DataFrame( sessions.subject.value_counts( normalize=True, dropna=False ).round( 3 ) * 100 )\n",
    "top_subjects_stats = top_subjects_stats[ top_subjects_stats.index.isin( top_subjects ) ]\n",
    "top_subjects_stats = top_subjects_stats.rename( { 'proportion': 'percentage' }, axis=1 )\n",
    "gb = top_subjects_sessions.groupby( 'subject' )\n",
    "top_subjects_stats[ 'sessions' ] = gb.question_id.count()\n",
    "top_subjects_stats[ 'questions' ] = gb.question_id.nunique()\n",
    "top_subjects_stats[ 'students' ] = gb.student_id.nunique()\n",
    "top_subjects_stats[ 'thumbs_up' ] = gb.thumbs_up.sum()\n",
    "top_subjects_stats[ 'thumbs_down' ] = gb.thumbs_down.sum()\n",
    "top_subjects_stats"
   ]
  },
  {
   "cell_type": "markdown",
   "metadata": {},
   "source": [
    "### Figure 5: Ratings per 1,000 sessions for subjects in order of most to fewest total sessions.\n",
    "Dashed lines indicate the overall mean thumbs up and thumbs down rates for comparison."
   ]
  },
  {
   "cell_type": "code",
   "execution_count": 42,
   "metadata": {},
   "outputs": [
    {
     "data": {
      "image/png": "[encoded data removed]",
      "text/plain": [
       "<Figure size 900x600 with 1 Axes>"
      ]
     },
     "metadata": {},
     "output_type": "display_data"
    }
   ],
   "source": [
    "top_subjects_rates = top_subjects_sessions.groupby( 'subject' ).agg(\n",
    "    thumbs_up=( 'thumbs_up', lambda g: g.mean() * 1000 ),\n",
    "    thumbs_down=( 'thumbs_down', lambda g: g.mean() * 1000 ),\n",
    ").rename( { 'thumbs_up': 'Thumbs Up', 'thumbs_down': 'Thumbs Down' }, axis=1 )\n",
    "top_subjects_rates.loc[ top_subjects_stats.index ].plot.bar( figsize=( 9, 6 ), color='g r'.split() )\n",
    "plt.xticks( rotation=40, ha='right' )\n",
    "plt.ylabel( 'Ratings per 1,000 Sessions' )\n",
    "plt.xlabel( 'Subject' )\n",
    "plt.axhline( sessions.thumbs_up.mean() * 1000, ls='--', c='g' )\n",
    "plt.axhline( sessions.thumbs_down.mean() * 1000, ls='--', c='r' );"
   ]
  },
  {
   "cell_type": "markdown",
   "metadata": {},
   "source": [
    "### Table 8: Subjects with differences in significance from the Science baseline.\n",
    "\n",
    "Science was used as the baseline for adding the subject categorical variable to the model. As discussed in the paper, this was done because the thumbs up and thumbs down rates for Science are similar to those of the entire data set."
   ]
  },
  {
   "cell_type": "code",
   "execution_count": 43,
   "metadata": {},
   "outputs": [
    {
     "name": "stdout",
     "output_type": "stream",
     "text": [
      "Classes ‘tbl_df’, ‘tbl’ and 'data.frame':\t4714395 obs. of  15 variables:\n",
      " $ student_id               : chr  \"26EFUDCGXGK2R2BMUA65\" \"AK53WK5B75TBJXS7MMSM\" \"VGEWC8NNTPF6ZNP2XGDM\" \"35QFXU45PTMQP8PXPZH8\" ...\n",
      " $ question_id              : chr  \"000005fcee0aca01fd16f0fcaebbd46bbcef1131bdedab888522e6de2ced78c8\" \"000005fcee0aca01fd16f0fcaebbd46bbcef1131bdedab888522e6de2ced78c8\" \"000005fcee0aca01fd16f0fcaebbd46bbcef1131bdedab888522e6de2ced78c8\" \"0000078ca057d9d241313d8e375c22d2f051f9cb344aa8aeea685d936d138887\" ...\n",
      " $ thumbs_up                : int  0 0 0 0 0 0 0 0 0 0 ...\n",
      " $ thumbs_down              : int  0 0 0 0 0 0 0 0 0 0 ...\n",
      " $ H1_first_correct         : int  0 0 0 0 1 1 1 0 0 1 ...\n",
      " $ H2_cumulative_answered   : int  1 1 1 1 1 1 1 1 1 1 ...\n",
      " $ H3_spelling_suggestion   : int  0 0 0 0 0 0 0 0 0 0 ...\n",
      " $ H4_sentence_textrank_rank: num  0.227 0.227 0.227 0.402 0.402 ...\n",
      " $ H5_answer_tf_idf_rank    : num  0.0115 0.0115 0.0115 0.1026 0.1026 ...\n",
      " $ H6_answer_pos            : chr  \"NOUN\" \"NOUN\" \"NOUN\" \"NOUN\" ...\n",
      " $ H7_answer_log_probability: num  -13.2 -13.2 -13.2 -10.9 -10.9 ...\n",
      " $ H8_answer_location       : int  9 9 9 3 3 3 3 3 3 28 ...\n",
      " $ H9_feedback              : chr  \"outcome\" \"outcome\" \"outcome\" \"outcome\" ...\n",
      " $ H10_reviewed             : int  0 0 0 0 0 0 0 0 0 1 ...\n",
      " $ subject                  : Factor w/ 17 levels \"Science\",\"Business & Economics\",..: 12 12 12 10 10 10 10 10 10 15 ...\n"
     ]
    }
   ],
   "source": [
    "%%R\n",
    "top_subjects_sessions <- read_parquet( 'top_subjects_sessions.parquet' )\n",
    "top_subjects_sessions$subject <- relevel( factor( top_subjects_sessions$subject ), ref='Science' )\n",
    "str( top_subjects_sessions )"
   ]
  },
  {
   "cell_type": "code",
   "execution_count": 44,
   "metadata": {
    "ExecuteTime": {
     "end_time": "2024-01-30T19:59:40.904583Z",
     "start_time": "2024-01-30T19:58:22.826219Z"
    }
   },
   "outputs": [
    {
     "name": "stdout",
     "output_type": "stream",
     "text": [
      " Family: binomial  ( logit )\n",
      "Formula:          \n",
      "thumbs_down ~ H1_first_correct + H2_cumulative_answered + H3_spelling_suggestion +  \n",
      "    H4_sentence_textrank_rank + H5_answer_tf_idf_rank + H6_answer_pos +  \n",
      "    H7_answer_log_probability + H8_answer_location + H9_feedback +  \n",
      "    H10_reviewed + subject + (1 | question_id)\n",
      "Data: top_subjects_sessions\n",
      "\n",
      "      AIC       BIC    logLik  deviance  df.resid \n",
      " 112785.0  113212.7  -56360.5  112721.0   4714363 \n",
      "\n",
      "Random effects:\n",
      "\n",
      "Conditional model:\n",
      " Groups      Name        Variance Std.Dev.\n",
      " question_id (Intercept) 66.39    8.148   \n",
      "Number of obs: 4714395, groups:  question_id, 738935\n",
      "\n",
      "Conditional model:\n",
      "                                     Estimate Std. Error z value Pr(>|z|)    \n",
      "(Intercept)                        -1.067e+01  2.621e-01  -40.70  < 2e-16 ***\n",
      "H1_first_correct                   -8.015e-01  2.737e-02  -29.29  < 2e-16 ***\n",
      "H2_cumulative_answered             -5.828e-03  3.617e-04  -16.11  < 2e-16 ***\n",
      "H3_spelling_suggestion             -4.920e-01  6.947e-02   -7.08 1.43e-12 ***\n",
      "H4_sentence_textrank_rank           8.449e-01  1.506e-01    5.61 2.02e-08 ***\n",
      "H5_answer_tf_idf_rank               5.034e-01  1.335e-01    3.77 0.000163 ***\n",
      "H6_answer_posADV                    8.516e-01  2.101e-01    4.05 5.04e-05 ***\n",
      "H6_answer_posNOUN                   1.498e-01  6.777e-02    2.21 0.027031 *  \n",
      "H6_answer_posPROPN                  5.100e-01  1.393e-01    3.66 0.000252 ***\n",
      "H6_answer_posVERB                   6.037e-01  1.359e-01    4.44 8.88e-06 ***\n",
      "H7_answer_log_probability           6.921e-02  1.565e-02    4.42 9.76e-06 ***\n",
      "H8_answer_location                 -9.538e-03  3.535e-03   -2.70 0.006966 ** \n",
      "H9_feedbackcontext                  2.841e-01  9.599e-02    2.96 0.003080 ** \n",
      "H9_feedbackoutcome                  1.690e-01  7.128e-02    2.37 0.017775 *  \n",
      "H10_reviewed                       -1.624e-01  1.419e-01   -1.14 0.252415    \n",
      "subjectBusiness & Economics        -1.065e-01  1.502e-01   -0.71 0.478114    \n",
      "subjectComputers                    3.218e-01  1.742e-01    1.85 0.064701 .  \n",
      "subjectEducation                   -6.548e-02  1.585e-01   -0.41 0.679569    \n",
      "subjectFamily & Relationships      -1.455e-02  3.717e-01   -0.04 0.968779    \n",
      "subjectHealth & Fitness            -1.972e-01  2.638e-01   -0.75 0.454798    \n",
      "subjectHistory                     -4.633e-01  3.852e-01   -1.20 0.229046    \n",
      "subjectLanguage Arts & Disciplines -3.215e-01  2.120e-01   -1.52 0.129357    \n",
      "subjectLaw                          2.742e-02  2.100e-01    0.13 0.896136    \n",
      "subjectMedical                     -7.674e-02  1.501e-01   -0.51 0.609169    \n",
      "subjectPhilosophy                   3.048e-01  4.327e-01    0.70 0.481187    \n",
      "subjectPolitical Science           -2.873e-01  1.917e-01   -1.50 0.134066    \n",
      "subjectPsychology                   7.946e-02  1.508e-01    0.53 0.598302    \n",
      "subjectReligion                    -6.452e-01  3.164e-01   -2.04 0.041393 *  \n",
      "subjectSocial Science              -1.085e-01  1.604e-01   -0.68 0.498692    \n",
      "subjectSports & Recreation         -1.829e-01  3.351e-01   -0.55 0.585217    \n",
      "subjectTechnology & Engineering     1.195e-01  2.464e-01    0.48 0.627775    \n",
      "---\n",
      "Signif. codes:  0 ‘***’ 0.001 ‘**’ 0.01 ‘*’ 0.05 ‘.’ 0.1 ‘ ’ 1\n"
     ]
    }
   ],
   "source": [
    "%%R\n",
    "model <- glmmTMB( thumbs_down ~ H1_first_correct\n",
    "                              + H2_cumulative_answered\n",
    "                              + H3_spelling_suggestion\n",
    "                              + H4_sentence_textrank_rank\n",
    "                              + H5_answer_tf_idf_rank\n",
    "                              + H6_answer_pos\n",
    "                              + H7_answer_log_probability\n",
    "                              + H8_answer_location\n",
    "                              + H9_feedback\n",
    "                              + H10_reviewed\n",
    "                              + subject\n",
    "                              + (1|question_id),\n",
    "                              family=binomial(link=logit), data=top_subjects_sessions )\n",
    "summary( model )"
   ]
  },
  {
   "cell_type": "code",
   "execution_count": 45,
   "metadata": {
    "ExecuteTime": {
     "end_time": "2024-01-30T19:59:40.904583Z",
     "start_time": "2024-01-30T19:58:22.826219Z"
    }
   },
   "outputs": [
    {
     "name": "stdout",
     "output_type": "stream",
     "text": [
      " Family: binomial  ( logit )\n",
      "Formula:          \n",
      "thumbs_up ~ H1_first_correct + H2_cumulative_answered + H3_spelling_suggestion +  \n",
      "    H4_sentence_textrank_rank + H5_answer_tf_idf_rank + H6_answer_pos +  \n",
      "    H7_answer_log_probability + H8_answer_location + H9_feedback +  \n",
      "    H10_reviewed + subject + (1 | question_id)\n",
      "Data: top_subjects_sessions\n",
      "\n",
      "      AIC       BIC    logLik  deviance  df.resid \n",
      " 176070.8  176498.5  -88003.4  176006.8   4714363 \n",
      "\n",
      "Random effects:\n",
      "\n",
      "Conditional model:\n",
      " Groups      Name        Variance Std.Dev.\n",
      " question_id (Intercept) 49.91    7.065   \n",
      "Number of obs: 4714395, groups:  question_id, 738935\n",
      "\n",
      "Conditional model:\n",
      "                                     Estimate Std. Error z value Pr(>|z|)    \n",
      "(Intercept)                        -1.116e+01  1.975e-01  -56.52  < 2e-16 ***\n",
      "H1_first_correct                    3.091e-01  2.061e-02   15.00  < 2e-16 ***\n",
      "H2_cumulative_answered             -1.120e-03  2.025e-04   -5.53 3.21e-08 ***\n",
      "H3_spelling_suggestion              1.004e-01  4.036e-02    2.49  0.01284 *  \n",
      "H4_sentence_textrank_rank           1.340e-01  1.214e-01    1.10  0.26964    \n",
      "H5_answer_tf_idf_rank              -1.643e-01  1.244e-01   -1.32  0.18668    \n",
      "H6_answer_posADV                   -1.882e-01  2.523e-01   -0.75  0.45573    \n",
      "H6_answer_posNOUN                  -5.814e-02  5.034e-02   -1.15  0.24815    \n",
      "H6_answer_posPROPN                 -1.596e-01  1.143e-01   -1.40  0.16265    \n",
      "H6_answer_posVERB                  -1.833e-01  1.316e-01   -1.39  0.16353    \n",
      "H7_answer_log_probability          -2.405e-02  1.121e-02   -2.15  0.03184 *  \n",
      "H8_answer_location                 -2.426e-03  2.655e-03   -0.91  0.36094    \n",
      "H9_feedbackcontext                  1.502e-01  7.766e-02    1.93  0.05313 .  \n",
      "H9_feedbackoutcome                 -1.247e-02  5.794e-02   -0.22  0.82958    \n",
      "H10_reviewed                       -8.953e-02  1.029e-01   -0.87  0.38446    \n",
      "subjectBusiness & Economics        -1.002e-01  1.151e-01   -0.87  0.38371    \n",
      "subjectComputers                   -5.739e-02  1.461e-01   -0.39  0.69441    \n",
      "subjectEducation                   -1.885e-01  1.235e-01   -1.53  0.12679    \n",
      "subjectFamily & Relationships      -3.811e-01  3.244e-01   -1.17  0.24008    \n",
      "subjectHealth & Fitness            -2.608e-01  2.035e-01   -1.28  0.19997    \n",
      "subjectHistory                     -5.375e-01  3.077e-01   -1.75  0.08061 .  \n",
      "subjectLanguage Arts & Disciplines -5.484e-01  1.678e-01   -3.27  0.00108 ** \n",
      "subjectLaw                         -1.436e-01  1.664e-01   -0.86  0.38808    \n",
      "subjectMedical                      2.591e-01  1.117e-01    2.32  0.02036 *  \n",
      "subjectPhilosophy                   1.662e-01  3.560e-01    0.47  0.64061    \n",
      "subjectPolitical Science           -3.624e-01  1.503e-01   -2.41  0.01587 *  \n",
      "subjectPsychology                  -1.966e-01  1.180e-01   -1.67  0.09573 .  \n",
      "subjectReligion                     3.099e-01  1.847e-01    1.68  0.09331 .  \n",
      "subjectSocial Science              -2.055e-01  1.238e-01   -1.66  0.09689 .  \n",
      "subjectSports & Recreation         -2.699e-01  2.720e-01   -0.99  0.32113    \n",
      "subjectTechnology & Engineering     1.937e-01  1.867e-01    1.04  0.29948    \n",
      "---\n",
      "Signif. codes:  0 ‘***’ 0.001 ‘**’ 0.01 ‘*’ 0.05 ‘.’ 0.1 ‘ ’ 1\n"
     ]
    }
   ],
   "source": [
    "%%R\n",
    "model <- glmmTMB( thumbs_up ~ H1_first_correct\n",
    "                            + H2_cumulative_answered\n",
    "                            + H3_spelling_suggestion\n",
    "                            + H4_sentence_textrank_rank\n",
    "                            + H5_answer_tf_idf_rank\n",
    "                            + H6_answer_pos\n",
    "                            + H7_answer_log_probability\n",
    "                            + H8_answer_location\n",
    "                            + H9_feedback\n",
    "                            + H10_reviewed\n",
    "                            + subject\n",
    "                            + (1|question_id),\n",
    "                            family=binomial(link=logit), data=top_subjects_sessions )\n",
    "summary( model )"
   ]
  },
  {
   "cell_type": "markdown",
   "metadata": {},
   "source": [
    "## Future Research: Tuning the AQG System"
   ]
  },
  {
   "cell_type": "markdown",
   "metadata": {},
   "source": [
    "### Table 9: Estimated ratings changes for thresholded quantitative variables."
   ]
  },
  {
   "cell_type": "code",
   "execution_count": 46,
   "metadata": {},
   "outputs": [],
   "source": [
    "thumbs_down_rate, thumbs_up_rate = sessions[ 'thumbs_down thumbs_up'.split() ].mean() * 1000"
   ]
  },
  {
   "cell_type": "code",
   "execution_count": 47,
   "metadata": {},
   "outputs": [],
   "source": [
    "percentile = 0.8"
   ]
  },
  {
   "cell_type": "code",
   "execution_count": 48,
   "metadata": {},
   "outputs": [],
   "source": [
    "rows = []"
   ]
  },
  {
   "cell_type": "code",
   "execution_count": 49,
   "metadata": {},
   "outputs": [],
   "source": [
    "variable = 'H4_sentence_textrank_rank'\n",
    "threshold = sessions[ variable ].quantile( percentile )\n",
    "thresholded_thumbs_down_rate, thresholded_thumbs_up_rate = ( sessions[ sessions[ variable ] < threshold ][ 'thumbs_down thumbs_up'.split() ].mean() * 1000 )\n",
    "rows.append( [\n",
    "    variable,\n",
    "    threshold.round( 3 ),\n",
    "    *np.array( [\n",
    "        thresholded_thumbs_down_rate,\n",
    "        thresholded_thumbs_down_rate - thumbs_down_rate,\n",
    "        thresholded_thumbs_up_rate,\n",
    "        thresholded_thumbs_up_rate - thumbs_up_rate    \n",
    "    ] ).round( 2 ).tolist()\n",
    "] )"
   ]
  },
  {
   "cell_type": "code",
   "execution_count": 50,
   "metadata": {},
   "outputs": [],
   "source": [
    "variable = 'H5_answer_tf_idf_rank'\n",
    "threshold = sessions[ variable ].quantile( percentile )\n",
    "thresholded_thumbs_down_rate, thresholded_thumbs_up_rate = ( sessions[ sessions[ variable ] < threshold ][ 'thumbs_down thumbs_up'.split() ].mean() * 1000 )\n",
    "rows.append( [\n",
    "    variable,\n",
    "    threshold.round( 3 ),\n",
    "    *np.array( [\n",
    "        thresholded_thumbs_down_rate,\n",
    "        thresholded_thumbs_down_rate - thumbs_down_rate,\n",
    "        thresholded_thumbs_up_rate,\n",
    "        thresholded_thumbs_up_rate - thumbs_up_rate    \n",
    "    ] ).round( 2 ).tolist()\n",
    "] )"
   ]
  },
  {
   "cell_type": "code",
   "execution_count": 51,
   "metadata": {},
   "outputs": [],
   "source": [
    "variable = 'H7_answer_log_probability'\n",
    "threshold = sessions[ variable ].quantile( percentile )\n",
    "thresholded_thumbs_down_rate, thresholded_thumbs_up_rate = ( sessions[ sessions[ variable ] < threshold ][ 'thumbs_down thumbs_up'.split() ].mean() * 1000 )\n",
    "rows.append( [\n",
    "    variable,\n",
    "    threshold.round( 1 ),\n",
    "    *np.array( [\n",
    "        thresholded_thumbs_down_rate,\n",
    "        thresholded_thumbs_down_rate - thumbs_down_rate,\n",
    "        thresholded_thumbs_up_rate,\n",
    "        thresholded_thumbs_up_rate - thumbs_up_rate    \n",
    "    ] ).round( 2 ).tolist()\n",
    "] )"
   ]
  },
  {
   "cell_type": "code",
   "execution_count": 52,
   "metadata": {},
   "outputs": [],
   "source": [
    "variable = 'H8_answer_location'\n",
    "threshold = sessions[ variable ].quantile( 1 - percentile )\n",
    "thresholded_thumbs_down_rate, thresholded_thumbs_up_rate = ( sessions[ sessions[ variable ] > threshold ][ 'thumbs_down thumbs_up'.split() ].mean() * 1000 )\n",
    "rows.append( [\n",
    "    variable,\n",
    "    str( int( threshold ) ),\n",
    "    *np.array( [\n",
    "        thresholded_thumbs_down_rate,\n",
    "        thresholded_thumbs_down_rate - thumbs_down_rate,\n",
    "        thresholded_thumbs_up_rate,\n",
    "        thresholded_thumbs_up_rate - thumbs_up_rate    \n",
    "    ] ).round( 2 ).tolist()\n",
    "] )"
   ]
  },
  {
   "cell_type": "code",
   "execution_count": 53,
   "metadata": {},
   "outputs": [
    {
     "data": {
      "text/html": [
       "<div>\n",
       "<style scoped>\n",
       "    .dataframe tbody tr th:only-of-type {\n",
       "        vertical-align: middle;\n",
       "    }\n",
       "\n",
       "    .dataframe tbody tr th {\n",
       "        vertical-align: top;\n",
       "    }\n",
       "\n",
       "    .dataframe thead th {\n",
       "        text-align: right;\n",
       "    }\n",
       "</style>\n",
       "<table border=\"1\" class=\"dataframe\">\n",
       "  <thead>\n",
       "    <tr style=\"text-align: right;\">\n",
       "      <th></th>\n",
       "      <th>Threshold</th>\n",
       "      <th>Thumbs Down</th>\n",
       "      <th>Δ Thumbs Down</th>\n",
       "      <th>Thumbs Up</th>\n",
       "      <th>Δ Thumbs Up</th>\n",
       "    </tr>\n",
       "    <tr>\n",
       "      <th>Variable</th>\n",
       "      <th></th>\n",
       "      <th></th>\n",
       "      <th></th>\n",
       "      <th></th>\n",
       "      <th></th>\n",
       "    </tr>\n",
       "  </thead>\n",
       "  <tbody>\n",
       "    <tr>\n",
       "      <th>H4_sentence_textrank_rank</th>\n",
       "      <td>0.444</td>\n",
       "      <td>1.82</td>\n",
       "      <td>-0.18</td>\n",
       "      <td>3.34</td>\n",
       "      <td>0.03</td>\n",
       "    </tr>\n",
       "    <tr>\n",
       "      <th>H5_answer_tf_idf_rank</th>\n",
       "      <td>0.201</td>\n",
       "      <td>1.76</td>\n",
       "      <td>-0.24</td>\n",
       "      <td>3.34</td>\n",
       "      <td>0.03</td>\n",
       "    </tr>\n",
       "    <tr>\n",
       "      <th>H7_answer_log_probability</th>\n",
       "      <td>-10.9</td>\n",
       "      <td>1.96</td>\n",
       "      <td>-0.04</td>\n",
       "      <td>3.38</td>\n",
       "      <td>0.06</td>\n",
       "    </tr>\n",
       "    <tr>\n",
       "      <th>H8_answer_location</th>\n",
       "      <td>3</td>\n",
       "      <td>1.94</td>\n",
       "      <td>-0.06</td>\n",
       "      <td>3.26</td>\n",
       "      <td>-0.05</td>\n",
       "    </tr>\n",
       "  </tbody>\n",
       "</table>\n",
       "</div>"
      ],
      "text/plain": [
       "                          Threshold  Thumbs Down  Δ Thumbs Down  Thumbs Up  \\\n",
       "Variable                                                                     \n",
       "H4_sentence_textrank_rank     0.444         1.82          -0.18       3.34   \n",
       "H5_answer_tf_idf_rank         0.201         1.76          -0.24       3.34   \n",
       "H7_answer_log_probability     -10.9         1.96          -0.04       3.38   \n",
       "H8_answer_location                3         1.94          -0.06       3.26   \n",
       "\n",
       "                           Δ Thumbs Up  \n",
       "Variable                                \n",
       "H4_sentence_textrank_rank         0.03  \n",
       "H5_answer_tf_idf_rank             0.03  \n",
       "H7_answer_log_probability         0.06  \n",
       "H8_answer_location               -0.05  "
      ]
     },
     "execution_count": 53,
     "metadata": {},
     "output_type": "execute_result"
    }
   ],
   "source": [
    "pd.DataFrame( rows, columns=[ 'Variable', 'Threshold', 'Thumbs Down', 'Δ Thumbs Down', 'Thumbs Up', 'Δ Thumbs Up' ] ).set_index( 'Variable' )"
   ]
  }
 ],
 "metadata": {
  "kernelspec": {
   "display_name": "Python 3 (ipykernel)",
   "language": "python",
   "name": "python3"
  },
  "language_info": {
   "codemirror_mode": {
    "name": "ipython",
    "version": 3
   },
   "file_extension": ".py",
   "mimetype": "text/x-python",
   "name": "python",
   "nbconvert_exporter": "python",
   "pygments_lexer": "ipython3",
   "version": "3.9.13"
  },
  "varInspector": {
   "cols": {
    "lenName": 16,
    "lenType": 16,
    "lenVar": 40
   },
   "kernels_config": {
    "python": {
     "delete_cmd_postfix": "",
     "delete_cmd_prefix": "del ",
     "library": "var_list.py",
     "varRefreshCmd": "print(var_dic_list())"
    },
    "r": {
     "delete_cmd_postfix": ") ",
     "delete_cmd_prefix": "rm(",
     "library": "var_list.r",
     "varRefreshCmd": "cat(var_dic_list()) "
    }
   },
   "types_to_exclude": [
    "module",
    "function",
    "builtin_function_or_method",
    "instance",
    "_Feature"
   ],
   "window_display": false
  }
 },
 "nbformat": 4,
 "nbformat_minor": 4
}
